{
 "metadata": {
  "language_info": {
   "codemirror_mode": {
    "name": "ipython",
    "version": 3
   },
   "file_extension": ".py",
   "mimetype": "text/x-python",
   "name": "python",
   "nbconvert_exporter": "python",
   "pygments_lexer": "ipython3",
   "version": "3.8.8"
  },
  "orig_nbformat": 2,
  "kernelspec": {
   "name": "python388jvsc74a57bd01b4c7016e99d31c2e7c892573dc93dbd4548eb0a0f5dca22fbf3a690830b4e66",
   "display_name": "Python 3.8.8 64-bit ('torch': conda)"
  }
 },
 "nbformat": 4,
 "nbformat_minor": 2,
 "cells": [
  {
   "cell_type": "code",
   "execution_count": 1,
   "metadata": {},
   "outputs": [],
   "source": [
    "import pandas as pd\n",
    "import os\n",
    "import numpy as np\n",
    "from string_search import *\n",
    "\n",
    "data_dir = r'C:\\Users\\ozano\\Desktop\\senet'\n",
    "data_path = os.path.join(data_dir, 'results_me.csv')"
   ]
  },
  {
   "cell_type": "code",
   "execution_count": 2,
   "metadata": {},
   "outputs": [
    {
     "output_type": "execute_result",
     "data": {
      "text/plain": [
       "(1000, 2)"
      ]
     },
     "metadata": {},
     "execution_count": 2
    }
   ],
   "source": [
    "df = pd.read_csv(data_path, sep = ';')\n",
    "cols_to_use = ['AD', 'ADRES']\n",
    "\n",
    "df = df[cols_to_use]\n",
    "df.shape"
   ]
  },
  {
   "source": [
    "## Preprocess"
   ],
   "cell_type": "markdown",
   "metadata": {}
  },
  {
   "cell_type": "code",
   "execution_count": 3,
   "metadata": {},
   "outputs": [
    {
     "output_type": "execute_result",
     "data": {
      "text/plain": [
       "                                                  AD  \\\n",
       "0                                  #mehmet kandemir#   \n",
       "1                            #mehmet halil elceoglu#   \n",
       "2                                    #meryem yildiz#   \n",
       "3          #metsan sosyal hizmetler limited sirketi#   \n",
       "4                                     #mehmet keser#   \n",
       "5  #med egitimdersane yayincilik basimm pazarlama...   \n",
       "6                                 #mehmet ali gedik#   \n",
       "7                            #mehmet nurullah altas#   \n",
       "8  #mese kimya danismanlik makina san  ve tic ltd...   \n",
       "9                                #mesut tufekcioglu#   \n",
       "\n",
       "                                               ADRES  \n",
       "0                           #palazoglu sok n2 sisli#  \n",
       "1  #demirtas mah deveoglu sok   tikde is mrk no 3...  \n",
       "2           #yesilkent mah  1807 sk no 233 esenyurt#  \n",
       "3     #orhantepe mah tokdemir  sokak  no 101 kartal#  \n",
       "4  #baris mah akdeniz  cadde  beyaz center avm 12...  \n",
       "5                      #hayat  sokak  no 30 sariyer#  \n",
       "6  #baskopru  mah  d100 karayolu cad no 208 serdi...  \n",
       "7  #bagcilar mah  alinak sitesi otopark karsisi  ...  \n",
       "8  #sepetlipinar mah  demokratlar cd no 16 basisk...  \n",
       "9      #yildiztepe mah 829  sokak  no 1924 altindag#  "
      ],
      "text/html": "<div>\n<style scoped>\n    .dataframe tbody tr th:only-of-type {\n        vertical-align: middle;\n    }\n\n    .dataframe tbody tr th {\n        vertical-align: top;\n    }\n\n    .dataframe thead th {\n        text-align: right;\n    }\n</style>\n<table border=\"1\" class=\"dataframe\">\n  <thead>\n    <tr style=\"text-align: right;\">\n      <th></th>\n      <th>AD</th>\n      <th>ADRES</th>\n    </tr>\n  </thead>\n  <tbody>\n    <tr>\n      <th>0</th>\n      <td>#mehmet kandemir#</td>\n      <td>#palazoglu sok n2 sisli#</td>\n    </tr>\n    <tr>\n      <th>1</th>\n      <td>#mehmet halil elceoglu#</td>\n      <td>#demirtas mah deveoglu sok   tikde is mrk no 3...</td>\n    </tr>\n    <tr>\n      <th>2</th>\n      <td>#meryem yildiz#</td>\n      <td>#yesilkent mah  1807 sk no 233 esenyurt#</td>\n    </tr>\n    <tr>\n      <th>3</th>\n      <td>#metsan sosyal hizmetler limited sirketi#</td>\n      <td>#orhantepe mah tokdemir  sokak  no 101 kartal#</td>\n    </tr>\n    <tr>\n      <th>4</th>\n      <td>#mehmet keser#</td>\n      <td>#baris mah akdeniz  cadde  beyaz center avm 12...</td>\n    </tr>\n    <tr>\n      <th>5</th>\n      <td>#med egitimdersane yayincilik basimm pazarlama...</td>\n      <td>#hayat  sokak  no 30 sariyer#</td>\n    </tr>\n    <tr>\n      <th>6</th>\n      <td>#mehmet ali gedik#</td>\n      <td>#baskopru  mah  d100 karayolu cad no 208 serdi...</td>\n    </tr>\n    <tr>\n      <th>7</th>\n      <td>#mehmet nurullah altas#</td>\n      <td>#bagcilar mah  alinak sitesi otopark karsisi  ...</td>\n    </tr>\n    <tr>\n      <th>8</th>\n      <td>#mese kimya danismanlik makina san  ve tic ltd...</td>\n      <td>#sepetlipinar mah  demokratlar cd no 16 basisk...</td>\n    </tr>\n    <tr>\n      <th>9</th>\n      <td>#mesut tufekcioglu#</td>\n      <td>#yildiztepe mah 829  sokak  no 1924 altindag#</td>\n    </tr>\n  </tbody>\n</table>\n</div>"
     },
     "metadata": {},
     "execution_count": 3
    }
   ],
   "source": [
    "for col in df.columns:\n",
    "    df[col] = df[col].apply(lambda x: preprocess(x))\n",
    "    df[col] = '#' + df[col] + '#'\n",
    "df.head(10)"
   ]
  },
  {
   "source": [
    "## Get N-Grams"
   ],
   "cell_type": "markdown",
   "metadata": {}
  },
  {
   "cell_type": "code",
   "execution_count": 4,
   "metadata": {},
   "outputs": [],
   "source": [
    "df_ngram = pd.DataFrame()\n",
    "for col in df.columns:\n",
    "    df_ngram[col] = df[col].apply(lambda x: get_n_grams(x))"
   ]
  },
  {
   "cell_type": "code",
   "execution_count": 5,
   "metadata": {},
   "outputs": [
    {
     "output_type": "execute_result",
     "data": {
      "text/plain": [
       "                                                  AD  \\\n",
       "0  [#me, meh, ehm, hme, met, et ,  ka, kan, and, ...   \n",
       "1  [#me, meh, ehm, hme, met, et ,  ha, hal, ali, ...   \n",
       "2  [#me, mer, ery, rye, yem, em ,  yi, yil, ild, ...   \n",
       "3  [#me, met, ets, tsa, san, an ,  so, sos, osy, ...   \n",
       "4  [#me, meh, ehm, hme, met, et ,  ke, kes, ese, ...   \n",
       "\n",
       "                                               ADRES  \n",
       "0  [#pa, pal, ala, laz, azo, zog, ogl, glu, lu , ...  \n",
       "1  [#de, dem, emi, mir, irt, rta, tas, as ,  ma, ...  \n",
       "2  [#ye, yes, esi, sil, ilk, lke, ken, ent, nt , ...  \n",
       "3  [#or, orh, rha, han, ant, nte, tep, epe, pe , ...  \n",
       "4  [#ba, bar, ari, ris, is ,  ma, mah, ah ,  ak, ...  "
      ],
      "text/html": "<div>\n<style scoped>\n    .dataframe tbody tr th:only-of-type {\n        vertical-align: middle;\n    }\n\n    .dataframe tbody tr th {\n        vertical-align: top;\n    }\n\n    .dataframe thead th {\n        text-align: right;\n    }\n</style>\n<table border=\"1\" class=\"dataframe\">\n  <thead>\n    <tr style=\"text-align: right;\">\n      <th></th>\n      <th>AD</th>\n      <th>ADRES</th>\n    </tr>\n  </thead>\n  <tbody>\n    <tr>\n      <th>0</th>\n      <td>[#me, meh, ehm, hme, met, et ,  ka, kan, and, ...</td>\n      <td>[#pa, pal, ala, laz, azo, zog, ogl, glu, lu , ...</td>\n    </tr>\n    <tr>\n      <th>1</th>\n      <td>[#me, meh, ehm, hme, met, et ,  ha, hal, ali, ...</td>\n      <td>[#de, dem, emi, mir, irt, rta, tas, as ,  ma, ...</td>\n    </tr>\n    <tr>\n      <th>2</th>\n      <td>[#me, mer, ery, rye, yem, em ,  yi, yil, ild, ...</td>\n      <td>[#ye, yes, esi, sil, ilk, lke, ken, ent, nt , ...</td>\n    </tr>\n    <tr>\n      <th>3</th>\n      <td>[#me, met, ets, tsa, san, an ,  so, sos, osy, ...</td>\n      <td>[#or, orh, rha, han, ant, nte, tep, epe, pe , ...</td>\n    </tr>\n    <tr>\n      <th>4</th>\n      <td>[#me, meh, ehm, hme, met, et ,  ke, kes, ese, ...</td>\n      <td>[#ba, bar, ari, ris, is ,  ma, mah, ah ,  ak, ...</td>\n    </tr>\n  </tbody>\n</table>\n</div>"
     },
     "metadata": {},
     "execution_count": 5
    }
   ],
   "source": [
    "df_ngram.head()"
   ]
  },
  {
   "source": [
    "## Create Index"
   ],
   "cell_type": "markdown",
   "metadata": {}
  },
  {
   "cell_type": "code",
   "execution_count": 6,
   "metadata": {},
   "outputs": [],
   "source": [
    "import math\n",
    "\n",
    "def get_n_gram_length(x):\n",
    "    return max(1, len(x))\n",
    "\n",
    "n_index_tokens = np.array([4, 7, 10, 15, 20, 30, 50, 70])\n",
    "labels = ['AD', 'ADRES']\n",
    "\n",
    "length_data = {}\n",
    "index_data = {label: [] for label in labels}\n",
    "\n",
    "for label in labels:\n",
    "    length_data[label] = df_ngram[label].apply(get_n_gram_length).values\n",
    "\n",
    "for n_index_token in n_index_tokens:\n",
    "    for label in labels:\n",
    "        index_data[label].append(create_ngram_index(df_ngram[label].values, n_index_tokens = n_index_token))"
   ]
  },
  {
   "source": [
    "## Search"
   ],
   "cell_type": "markdown",
   "metadata": {}
  },
  {
   "cell_type": "code",
   "execution_count": 76,
   "metadata": {
    "tags": []
   },
   "outputs": [
    {
     "output_type": "stream",
     "name": "stdout",
     "text": [
      "Input n_gram count: 13\nSearching with index size: 15\nTime: 0.001 ms\n"
     ]
    }
   ],
   "source": [
    "#%%timeit\n",
    "# 1 search 10us, full search 400us\n",
    "from time import time\n",
    "start_time = time()\n",
    "\n",
    "input_string = 'palazoglu sok n 2 sisli'\n",
    "search_person = False\n",
    "\n",
    "search_label = 'ADRES'#'AD'#'ADRES'\n",
    "\n",
    "# mehmet kocamanoglu erkan calik\n",
    "# mehmet caliskan ahmet doger\n",
    "# metin aydinhusamettin aydin\n",
    "# mehmet ali emirbayer\n",
    "# mehmet caliskan\n",
    "\n",
    "# med egitimdersane yayincilik basimm pazarlama ve d\n",
    "# mer su urunleri hayvancilik nakliye  pazarlama ithalat ihrac\n",
    "# mer ihracat\n",
    "\n",
    "# yildiz mahdogus 1ara skhibrhm eren apk3 d13\n",
    "# bagcilar mah  alinak sitesi otopark karsisi  no 8 kat 4 baglar\n",
    "# istoc 3 ada no 56mahmutbey bagcilar istanbul\n",
    "# istasyon mh19sk 20a etimesgut ankara\n",
    "\n",
    "input_string = '#' + input_string + '#'\n",
    "input_n_grams = get_n_grams(input_string)\n",
    "input_ngram_count = len(input_n_grams)\n",
    "\n",
    "index_size = len(n_index_tokens) - 1\n",
    "if not search_person:\n",
    "    for i, n_index_token in enumerate(n_index_tokens[:-1]):\n",
    "        if input_ngram_count <= n_index_token:\n",
    "            index_size = i\n",
    "            break\n",
    "\n",
    "print(f'Input n_gram count: {input_ngram_count}')\n",
    "print(f'Searching with index size: {n_index_tokens[index_size]}')\n",
    "\n",
    "matches = get_matches(input_n_grams, index_data[search_label][index_size], length_data[search_label])\n",
    "match_bins = bin_matches(matches, get_sorted = False)\n",
    "match_values = get_match_values(match_bins, df[search_label].values)\n",
    "\n",
    "while not search_person and len(match_values[1.0]) == 0 and len(match_values[0.8]) == 0 and index_size < len(n_index_tokens) - 1:\n",
    "\n",
    "    index_size = index_size + 1\n",
    "    print(f'Searching with index size: {n_index_tokens[index_size]}')\n",
    "    matches = get_matches(input_n_grams, index_data[search_label][index_size], length_data[search_label])\n",
    "    match_bins = bin_matches(matches, get_sorted = False)\n",
    "    match_values = get_match_values(match_bins, df[search_label].values)\n",
    "\n",
    "print('Time: {:.3f} ms'.format(time() - start_time))"
   ]
  },
  {
   "source": [
    "## Get values"
   ],
   "cell_type": "markdown",
   "metadata": {}
  },
  {
   "cell_type": "code",
   "execution_count": 77,
   "metadata": {},
   "outputs": [
    {
     "output_type": "execute_result",
     "data": {
      "text/plain": [
       "[]"
      ]
     },
     "metadata": {},
     "execution_count": 77
    }
   ],
   "source": [
    "match_values[1.0]"
   ]
  },
  {
   "cell_type": "code",
   "execution_count": 78,
   "metadata": {},
   "outputs": [
    {
     "output_type": "execute_result",
     "data": {
      "text/plain": [
       "[(137,\n",
       "  '#mer su urunleri hayvancilik nakliye  pazarlama ithalat ihrac#',\n",
       "  0.9230769230769231)]"
      ]
     },
     "metadata": {},
     "execution_count": 78
    }
   ],
   "source": [
    "match_values[0.8]"
   ]
  },
  {
   "cell_type": "code",
   "execution_count": 79,
   "metadata": {},
   "outputs": [
    {
     "output_type": "execute_result",
     "data": {
      "text/plain": [
       "[]"
      ]
     },
     "metadata": {},
     "execution_count": 79
    }
   ],
   "source": [
    "match_values[0.6]"
   ]
  },
  {
   "cell_type": "code",
   "execution_count": 80,
   "metadata": {},
   "outputs": [
    {
     "output_type": "execute_result",
     "data": {
      "text/plain": [
       "[]"
      ]
     },
     "metadata": {},
     "execution_count": 80
    }
   ],
   "source": [
    "match_values[0.4][:20] # Shows first n"
   ]
  },
  {
   "cell_type": "code",
   "execution_count": 82,
   "metadata": {},
   "outputs": [
    {
     "output_type": "execute_result",
     "data": {
      "text/plain": [
       "[(0, '#mehmet kandemir#', 0.07692307692307693),\n",
       " (1, '#mehmet halil elceoglu#', 0.07692307692307693),\n",
       " (2, '#meryem yildiz#', 0.15384615384615385),\n",
       " (3, '#metsan sosyal hizmetler limited sirketi#', 0.07692307692307693),\n",
       " (4, '#mehmet keser#', 0.07692307692307693),\n",
       " (5,\n",
       "  '#med egitimdersane yayincilik basimm pazarlama ve d#',\n",
       "  0.07692307692307693),\n",
       " (6, '#mehmet ali gedik#', 0.07692307692307693),\n",
       " (7, '#mehmet nurullah altas#', 0.15384615384615385),\n",
       " (8,\n",
       "  '#mese kimya danismanlik makina san  ve tic ltd sti#',\n",
       "  0.07692307692307693),\n",
       " (9, '#mesut tufekcioglu#', 0.07692307692307693),\n",
       " (10, '#mehmet zeki dogan#', 0.07692307692307693),\n",
       " (11, '#mehmet nuri alim#', 0.07692307692307693),\n",
       " (12, '#mehmet duran#', 0.07692307692307693),\n",
       " (13, '#mehmet serkan konur#', 0.07692307692307693),\n",
       " (14, '#mesut idil#', 0.07692307692307693),\n",
       " (15,\n",
       "  '#medar dent dis protez laboratuari san ve tic ltd s#',\n",
       "  0.07692307692307693),\n",
       " (16, '#metin buyuksoy#', 0.07692307692307693),\n",
       " (17, '#mehmet yaylaci#', 0.07692307692307693),\n",
       " (18, '#mehmet ali yuksel#', 0.07692307692307693),\n",
       " (19, '#metin tanriover#', 0.07692307692307693)]"
      ]
     },
     "metadata": {},
     "execution_count": 82
    }
   ],
   "source": [
    "match_values[0.0][:20] # Shows first n"
   ]
  },
  {
   "cell_type": "code",
   "execution_count": null,
   "metadata": {},
   "outputs": [],
   "source": []
  },
  {
   "cell_type": "code",
   "execution_count": null,
   "metadata": {},
   "outputs": [],
   "source": []
  }
 ]
}