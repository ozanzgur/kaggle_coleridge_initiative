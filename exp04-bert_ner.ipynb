{
 "metadata": {
  "language_info": {
   "codemirror_mode": {
    "name": "ipython",
    "version": 3
   },
   "file_extension": ".py",
   "mimetype": "text/x-python",
   "name": "python",
   "nbconvert_exporter": "python",
   "pygments_lexer": "ipython3",
   "version": "3.8.8"
  },
  "orig_nbformat": 2,
  "kernelspec": {
   "name": "python388jvsc74a57bd01b4c7016e99d31c2e7c892573dc93dbd4548eb0a0f5dca22fbf3a690830b4e66",
   "display_name": "Python 3.8.8 64-bit ('torch': conda)"
  },
  "metadata": {
   "interpreter": {
    "hash": "aac00fb1da9c94ab374af15aaaf3bdbaafa792d2239349bc70bec9f747decd69"
   }
  }
 },
 "nbformat": 4,
 "nbformat_minor": 2,
 "cells": [
  {
   "source": [
    "https://www.analyticsvidhya.com/blog/2020/07/transfer-learning-for-nlp-fine-tuning-bert-for-text-classification/\n",
    "### Model from:\n",
    "\n",
    "https://github.com/allenai/scibert"
   ],
   "cell_type": "markdown",
   "metadata": {}
  },
  {
   "cell_type": "code",
   "execution_count": 1,
   "metadata": {},
   "outputs": [
    {
     "output_type": "stream",
     "name": "stderr",
     "text": [
      "[nltk_data] Downloading package punkt to\n[nltk_data]     C:\\Users\\ozano\\AppData\\Roaming\\nltk_data...\n[nltk_data]   Package punkt is already up-to-date!\n"
     ]
    }
   ],
   "source": [
    "import json\n",
    "import pandas as pd\n",
    "import numpy as np\n",
    "import matplotlib.pyplot as plt\n",
    "import glob\n",
    "import os\n",
    "import re\n",
    "import seaborn as sns\n",
    "from tqdm import tqdm\n",
    "import nltk\n",
    "import random\n",
    "nltk.download('punkt')\n",
    "from nltk.tokenize import word_tokenize,sent_tokenize\n",
    "import pickle\n",
    "\n",
    "train_example_names = [fn.split('.')[0] for fn in os.listdir('data/train')]\n",
    "test_example_names = [fn.split('.')[0] for fn in os.listdir('data/test')]\n",
    "\n",
    "metadata = pd.read_csv('data/train.csv')\n",
    "docIdx = train_example_names.copy()"
   ]
  },
  {
   "source": [
    "## Create dataframe for tokens and targets"
   ],
   "cell_type": "markdown",
   "metadata": {}
  },
  {
   "cell_type": "code",
   "execution_count": 2,
   "metadata": {},
   "outputs": [],
   "source": [
    "import unidecode\n",
    "\n",
    "match_puncs_re = r\"([.,!?()\\-;\\[\\]+\\\\\\/@:<>#_{}&%'*=\" + r'\"' + r\"|])\"\n",
    "match_puncs_re = re.compile(match_puncs_re)\n",
    "\n",
    "def load_train_example_by_name(name):\n",
    "    doc_path = os.path.join('data/train', name + '.json')\n",
    "    with open(doc_path) as f:\n",
    "        data = json.load(f)\n",
    "    return data\n",
    "\n",
    "def load_test_example_by_name(name):\n",
    "    doc_path = os.path.join('data/test', name + '.json')\n",
    "    with open(doc_path) as f:\n",
    "        data = json.load(f)\n",
    "    return data\n",
    "\n",
    "def text_cleaning_for_bert(text):\n",
    "    # Keeps puncs, pads them with whitespaces\n",
    "\n",
    "    text = text.replace('^', ' ')\n",
    "    text = unidecode.unidecode(text)\n",
    "\n",
    "    # Remove websites\n",
    "    text = ' '.join(['specialwebsite' if 'http' in t or 'www' in t else t for t in text.split(' ') ])\n",
    "\n",
    "    text = match_puncs_re.sub(r' \\1 ', text)\n",
    "\n",
    "    # remove extra spaces\n",
    "    text = re.sub(\"\\s+\",\" \", text)\n",
    "\n",
    "    return text.lower()\n",
    "\n",
    "def text_cleaning_for_label(text):\n",
    "    text = text.replace('^', ' ')\n",
    "    text = unidecode.unidecode(text)\n",
    "\n",
    "    text = re.sub('[^A-Za-z0-9]+', ' ', str(text)).strip() # remove unnecessary literals\n",
    "\n",
    "    # Remove websites\n",
    "    text = ' '.join(['specialwebsite' if 'http' in t or 'www' in t else t for t in text.split(' ') ])\n",
    "\n",
    "    # remove extra spaces\n",
    "    text = re.sub(\"\\s+\",\" \", text)\n",
    "\n",
    "    return text.lower()"
   ]
  },
  {
   "cell_type": "code",
   "execution_count": 3,
   "metadata": {},
   "outputs": [],
   "source": [
    "import string\n",
    "\n",
    "def text_cleaning(text):\n",
    "    text = re.sub('[^A-Za-z0-9]+', ' ', str(text)).strip() # remove unnecessary literals\n",
    "\n",
    "    # remove extra spaces\n",
    "    text = re.sub(\"\\s+\",\" \", text)\n",
    "\n",
    "    return text.lower()\n",
    "\n",
    "##### STEP 1: Make a list of the known labels provided to us\n",
    "\n",
    "temp_1 = [text_cleaning(x) for x in metadata['dataset_label']]\n",
    "temp_2 = [text_cleaning(x) for x in metadata['dataset_title']]\n",
    "temp_3 = [text_cleaning(x) for x in metadata['cleaned_label']]\n",
    "\n",
    "existing_labels = temp_1 + temp_2 + temp_3\n",
    "existing_labels = [l.lower() for l in existing_labels]\n",
    "existing_labels = list(set(existing_labels))\n",
    "existing_labels = existing_labels + ['programme for international student assessment', 'kindergarten cohort ecls', 'blsa']\n",
    "# Sort labels by length in descending order\n",
    "existing_labels = sorted(existing_labels, key = len, reverse= True)"
   ]
  },
  {
   "source": [
    "## Make sentences"
   ],
   "cell_type": "markdown",
   "metadata": {}
  },
  {
   "cell_type": "code",
   "execution_count": 4,
   "metadata": {},
   "outputs": [],
   "source": [
    "pos_sentences = []\n",
    "neg_sentences = []\n",
    "\n",
    "def process_doc(doc_id):\n",
    "    doc_json = load_train_example_by_name(doc_id)\n",
    "    doc_text = ' '.join([sec['text'] for sec in doc_json])\n",
    "\n",
    "    # Tokenize sentencewise\n",
    "    sentences = sent_tokenize(doc_text)\n",
    "\n",
    "    adni_count = 0\n",
    "    for sentence in sentences:\n",
    "        clean_sentence = text_cleaning(sentence)\n",
    "\n",
    "        has_label = False\n",
    "        label_is_adni = False\n",
    "        for clean_label in existing_labels:\n",
    "            if clean_label in clean_sentence:\n",
    "                has_label = True\n",
    "\n",
    "                if 'adni' in clean_label or 'alzheimer' in clean_label:\n",
    "                    adni_count += 1\n",
    "                    label_is_adni = True\n",
    "\n",
    "                break\n",
    "\n",
    "        if has_label and (adni_count <= 2 or not label_is_adni):\n",
    "            pos_sentences.append(sentence)\n",
    "        else:\n",
    "            if random.uniform(0, 1) < 0.25:\n",
    "                neg_sentences.append(sentence)"
   ]
  },
  {
   "source": [
    "## Generate and Save Sentences"
   ],
   "cell_type": "markdown",
   "metadata": {}
  },
  {
   "cell_type": "code",
   "execution_count": 5,
   "metadata": {},
   "outputs": [
    {
     "output_type": "stream",
     "name": "stderr",
     "text": [
      "  1%|          | 149/14316 [00:02<04:49, 49.00it/s]"
     ]
    }
   ],
   "source": [
    "import pickle\n",
    "\n",
    "pos_sentences = []\n",
    "neg_sentences = []\n",
    "\n",
    "for doc_id in tqdm(docIdx):\n",
    "    process_doc(doc_id)\n",
    "\n",
    "with open(f'data/bert_ner_sentences/pos.pkl', 'wb') as f:\n",
    "    pickle.dump(pos_sentences, f)\n",
    "\n",
    "with open(f'data/bert_ner_sentences/neg.pkl', 'wb') as f:\n",
    "    pickle.dump(neg_sentences, f)\n",
    "\n",
    "print(f'pos size: {len(pos_sentences)}')\n",
    "print(f'neg size: {len(neg_sentences)}')"
   ]
  },
  {
   "source": [
    "## Load Sentences"
   ],
   "cell_type": "markdown",
   "metadata": {}
  },
  {
   "cell_type": "code",
   "execution_count": 5,
   "metadata": {},
   "outputs": [
    {
     "output_type": "stream",
     "name": "stdout",
     "text": [
      "pos size: 32509\nneg size: 1036186\n"
     ]
    }
   ],
   "source": [
    "import pickle\n",
    "\n",
    "with open(f'data/bert_ner_sentences/pos.pkl', 'rb') as f:\n",
    "    pos_sentences = pickle.load(f)\n",
    "\n",
    "with open(f'data/bert_ner_sentences/neg.pkl', 'rb') as f:\n",
    "    neg_sentences = pickle.load(f)\n",
    "\n",
    "print(f'pos size: {len(pos_sentences)}')\n",
    "print(f'neg size: {len(neg_sentences)}')"
   ]
  },
  {
   "cell_type": "code",
   "execution_count": 7,
   "metadata": {},
   "outputs": [],
   "source": [
    "pos_sentences_processed = []\n",
    "neg_sentences_processed = []\n",
    "pos_labels = []\n",
    "neg_labels = []\n",
    "\n",
    "n_broken_sent = 0\n",
    "n_pos_no_label = 0\n",
    "\n",
    "def is_text_broken(tokens):\n",
    "    # Some texts are like 'p a dsdv a d a ds f b', remove them\n",
    "    if len(tokens) == 0:\n",
    "        return True\n",
    "\n",
    "    if len(tokens) < 50:\n",
    "        return False\n",
    "\n",
    "    one_char_token_ratio = len([l for l in tokens if len(l) == 1]) / len(tokens)\n",
    "    return one_char_token_ratio > 0.15\n",
    "\n",
    "def split_to_smaller_sent(tokens, s_size, overlap_size):\n",
    "    # output sentences will be s_size + overlap_size long\n",
    "    small_sents = []\n",
    "\n",
    "    if len(tokens) <= s_size:\n",
    "        return [tokens]\n",
    "\n",
    "    n_parts = len(tokens) // s_size\n",
    "    if len(tokens) % s_size != 0:\n",
    "        n_parts += 1\n",
    "\n",
    "    for i_part in range(n_parts):\n",
    "        start_i = i_part * s_size\n",
    "        if i_part > 0:\n",
    "            start_i -= overlap_size\n",
    "\n",
    "        end_i = min(len(tokens), (i_part + 1) * s_size)\n",
    "\n",
    "        small_sents.append(tokens[start_i: end_i])\n",
    "\n",
    "    return small_sents\n",
    "\n",
    "def join_tuple_tokens(tuples):\n",
    "    return ' '.join([t[1] for t in tuples])\n",
    "\n",
    "def get_index(lst, el):\n",
    "    idx = []\n",
    "    for i, lst_el in enumerate(lst):\n",
    "        if el in lst_el:\n",
    "            idx.append(i)\n",
    "\n",
    "    return idx\n",
    "\n",
    "def process_pos_sentence(sentence):\n",
    "    global n_broken_sent\n",
    "    global last_doc_labels\n",
    "\n",
    "    bert_sentence = text_cleaning_for_bert(sentence)\n",
    "    label_sentence = text_cleaning_for_label(sentence)\n",
    "\n",
    "    if is_text_broken(label_sentence.split(' ')): # Can't use bert cleaning for this, because all punc.s are padded with spaces\n",
    "        n_broken_sent += 1\n",
    "        return\n",
    "    \n",
    "    bert_tokens = bert_sentence.split(' ')\n",
    "    ### STEP 1: Split into fixed sized sentences ###\n",
    "    for small_sentence_tokens in split_to_smaller_sent(bert_tokens, s_size = 125, overlap_size = 25):\n",
    "\n",
    "        small_bert_sentence = ' '.join(small_sentence_tokens)\n",
    "\n",
    "        # Need to remove punc.s and uppercase letters to find labels\n",
    "        small_label_sentence = text_cleaning_for_label(small_bert_sentence)\n",
    "\n",
    "        has_label = False\n",
    "        sent_labels = []\n",
    "        ### STEP 2: Match labels ###\n",
    "        # Check if contains labels\n",
    "        for clean_label in existing_labels:\n",
    "            if clean_label in small_label_sentence:\n",
    "                has_label = True\n",
    "\n",
    "                # Remove label from the text, to only match the largest label\n",
    "                small_label_sentence = small_label_sentence.replace(clean_label, '')\n",
    "                sent_labels.append(clean_label)\n",
    "\n",
    "        small_sent_targets = ['O' for _ in range(len(small_sentence_tokens))]\n",
    "\n",
    "        if has_label:\n",
    "            # Tokenize labels for matching\n",
    "            sent_label_tokens = [l.split(' ') for l in sent_labels]\n",
    "\n",
    "            # Get index, token tuples for clean tokens. Indices are for raw tokens\n",
    "            small_sent_tuples = [(i, token) for i, token in enumerate(small_sentence_tokens) if text_cleaning_for_label(token) != '']\n",
    "\n",
    "            ### STEP 3: Set corresponding targets for each label ###\n",
    "            # Target: (B, I, O), Label: adni\n",
    "            for l in sent_labels:\n",
    "                l_tokens = l.split(' ')\n",
    "                small_sent_joined = [join_tuple_tokens(small_sent_tuples[i: i + len(l_tokens)]) for i in range(len(small_sent_tuples) - len(l_tokens) + 1)]\n",
    "\n",
    "                label_start_idx = get_index(small_sent_joined, l) # list of indices\n",
    "                for label_start_i in label_start_idx:\n",
    "                    label_end_i = label_start_i + len(l_tokens) - 1\n",
    "\n",
    "                    target_start_i = small_sent_tuples[label_start_i][0]\n",
    "                    target_end_i = small_sent_tuples[label_end_i][0]\n",
    "\n",
    "                    # Do not use the same tokens for multiple labels\n",
    "                    #small_sent_tuples = small_sent_tuples[:label_start_i] + small_sent_tuples[label_end_i:]\n",
    "\n",
    "                    try:\n",
    "                        if small_sent_targets[target_start_i] == 'O': # If not was already labeled\n",
    "                            small_sent_targets[target_start_i] = 'B'\n",
    "                            if target_end_i - target_start_i > 0:\n",
    "                                for i in range(target_start_i+1, target_end_i+1):\n",
    "                                    small_sent_targets[i] = 'I'\n",
    "\n",
    "                    except Exception as e:\n",
    "                        print('DEBUG')\n",
    "                        print(small_sentence_tokens)\n",
    "                        print(len(small_sentence_tokens))\n",
    "                        print(len(small_sent_targets))\n",
    "                        print(target_start_i)\n",
    "                        print(small_sent_joined)\n",
    "                        print('DEBUG')\n",
    "                        raise e\n",
    "\n",
    "        ### STEP 4: Add sentence output to lists ###\n",
    "        if has_label:\n",
    "            pos_sentences_processed.append(small_sentence_tokens)\n",
    "            pos_labels.append(small_sent_targets)\n",
    "        \"\"\"else:\n",
    "            neg_sentences_processed.append(small_sentence_tokens)\n",
    "            neg_labels.append(small_sent_targets)\"\"\"\n",
    "\n",
    "def process_neg_sentence(sentence):\n",
    "    global n_broken_sent\n",
    "    \n",
    "    bert_sentence = text_cleaning_for_bert(sentence)\n",
    "    label_sentence = text_cleaning_for_label(sentence)\n",
    "\n",
    "    if is_text_broken(label_sentence.split(' ')): # Can't use bert cleaning for this, because all punc.s are padded with spaces\n",
    "        n_broken_sent += 1\n",
    "        return\n",
    "\n",
    "    bert_tokens = bert_sentence.split(' ')\n",
    "    \n",
    "    ### STEP 1: Split into fixed sized sentences ###\n",
    "    for small_sentence_tokens in split_to_smaller_sent(bert_tokens, s_size = 125, overlap_size = 25):\n",
    "        small_sent_targets = ['O' for _ in range(len(bert_tokens))]\n",
    "\n",
    "        neg_sentences_processed.append(small_sentence_tokens)\n",
    "        neg_labels.append(small_sent_targets)\n",
    "\n",
    "#process_pos_sentence(pos_sentences[2472])"
   ]
  },
  {
   "source": [
    "## Create NER Dataset and Save"
   ],
   "cell_type": "markdown",
   "metadata": {}
  },
  {
   "cell_type": "code",
   "execution_count": 8,
   "metadata": {
    "tags": []
   },
   "outputs": [
    {
     "output_type": "stream",
     "name": "stderr",
     "text": [
      "100%|██████████| 32509/32509 [00:08<00:00, 3813.00it/s]\n",
      "100%|██████████| 1036186/1036186 [00:57<00:00, 18013.13it/s]\n",
      "\n",
      "broken sentences: 8296\n",
      "n_pos_no_label: 0\n",
      "pos_proc size: 32016\n",
      "neg_proc size: 1032513\n"
     ]
    }
   ],
   "source": [
    "pos_sentences_processed = []\n",
    "neg_sentences_processed = []\n",
    "pos_labels = []\n",
    "neg_labels = []\n",
    "\n",
    "n_pos_no_label = 0\n",
    "n_broken_sent = 0\n",
    "\n",
    "for sent in tqdm(pos_sentences):\n",
    "    process_pos_sentence(sent)\n",
    "\n",
    "for sent in tqdm(neg_sentences):\n",
    "    process_neg_sentence(sent)\n",
    "\n",
    "import pickle\n",
    "\n",
    "with open(f'data/bert_ner_data/pos.pkl', 'wb') as f:\n",
    "    pickle.dump(pos_sentences_processed, f)\n",
    "\n",
    "with open(f'data/bert_ner_data/neg.pkl', 'wb') as f:\n",
    "    pickle.dump(neg_sentences_processed, f)\n",
    "\n",
    "with open(f'data/bert_ner_data/pos_labels.pkl', 'wb') as f:\n",
    "    pickle.dump(pos_labels, f)\n",
    "\n",
    "with open(f'data/bert_ner_data/neg_labels.pkl', 'wb') as f:\n",
    "    pickle.dump(neg_labels, f)\n",
    "\n",
    "\n",
    "print('')\n",
    "print(f'broken sentences: {n_broken_sent}')\n",
    "print(f'n_pos_no_label: {n_pos_no_label}')\n",
    "print(f'pos_proc size: {len(pos_sentences_processed)}')\n",
    "print(f'neg_proc size: {len(neg_sentences_processed)}')"
   ]
  },
  {
   "source": [
    "## Load NER Dataset"
   ],
   "cell_type": "markdown",
   "metadata": {}
  },
  {
   "cell_type": "code",
   "execution_count": 13,
   "metadata": {},
   "outputs": [
    {
     "output_type": "stream",
     "name": "stdout",
     "text": [
      "pos size: 32016\nneg size: 1032513\npos label size: 32016\nneg label size: 1032513\n"
     ]
    }
   ],
   "source": [
    "import pickle\n",
    "\n",
    "with open(f'data/bert_ner_data/pos.pkl', 'rb') as f:\n",
    "    pos_sentences_processed = pickle.load(f)\n",
    "\n",
    "with open(f'data/bert_ner_data/neg.pkl', 'rb') as f:\n",
    "    neg_sentences_processed = pickle.load(f)\n",
    "\n",
    "with open(f'data/bert_ner_data/pos_labels.pkl', 'rb') as f:\n",
    "    pos_labels = pickle.load(f)\n",
    "\n",
    "with open(f'data/bert_ner_data/neg_labels.pkl', 'rb') as f:\n",
    "    neg_labels = pickle.load(f)\n",
    "\n",
    "print(f'pos size: {len(pos_sentences_processed)}')\n",
    "print(f'neg size: {len(neg_sentences_processed)}')\n",
    "print(f'pos label size: {len(pos_labels)}')\n",
    "print(f'neg label size: {len(neg_labels)}')"
   ]
  },
  {
   "source": [
    "## Augmentation"
   ],
   "cell_type": "markdown",
   "metadata": {}
  },
  {
   "cell_type": "code",
   "execution_count": 14,
   "metadata": {},
   "outputs": [],
   "source": [
    "# Load dataset names\n",
    "dataset_names = list(pd.read_csv('data/kaggle_22k_datasets.csv').title.values) +\\\n",
    "                list(pd.read_csv('data/kaggle_800_datasets.csv').title.values)\n",
    "\n",
    "dataset_names = [n for n in dataset_names if len(n) > 15]\n",
    "dataset_names = [text_cleaning_for_label(n) for n in dataset_names]\n",
    "dataset_names = [n for n in dataset_names if len(n.split(' ')) < 8]\n",
    "\n",
    "def replace_target(x, lst):\n",
    "    if x['label'].iloc[0] == 'O':\n",
    "        # if not a dataset name, do not augment\n",
    "        lst.append(x)\n",
    "    else:\n",
    "        random_name_tokens = random.choice(dataset_names).split(' ')\n",
    "\n",
    "        new_x = pd.DataFrame()\n",
    "        # Replace tokens\n",
    "        new_x['token'] = random_name_tokens\n",
    "        new_x['label'] = 'I'\n",
    "        new_x.loc[new_x.index == 0, 'label'] = 'B'\n",
    "        lst.append(new_x)\n",
    "\n",
    "def augment_sentence(tokens, labels, augment_chance = 0.8):\n",
    "    if random.uniform(0,1) > augment_chance:\n",
    "        # No augmentation\n",
    "        return tokens, labels\n",
    "\n",
    "    df_pieces = []\n",
    "    sent_df = pd.DataFrame({'token': tokens, 'label': labels})\n",
    "    sent_df['label_o'] = sent_df.label == 'O'\n",
    "\n",
    "    gb = sent_df.groupby((sent_df['label_o'].shift() != sent_df['label_o']).cumsum())\n",
    "    for name, group in gb:\n",
    "        replace_target(group, df_pieces)\n",
    "\n",
    "    sent_df = pd.concat(df_pieces, ignore_index = True, axis = 0)\n",
    "\n",
    "    return list(sent_df.token.values), list(sent_df.label.values)"
   ]
  },
  {
   "cell_type": "code",
   "execution_count": 15,
   "metadata": {},
   "outputs": [
    {
     "output_type": "stream",
     "name": "stderr",
     "text": [
      "100%|██████████| 32016/32016 [01:38<00:00, 325.99it/s]\n"
     ]
    }
   ],
   "source": [
    "pos_sentences_processed_aug = []\n",
    "pos_labels_aug = []\n",
    "\n",
    "for _ in range(5):\n",
    "    for s_tokens, s_labels in tqdm(zip(pos_sentences_processed, pos_labels), total = len(pos_labels)):\n",
    "        aug_tokens, aug_labels = augment_sentence(s_tokens, s_labels)\n",
    "        pos_sentences_processed_aug.append(aug_tokens)\n",
    "        pos_labels_aug.append(aug_labels)\n",
    "\n",
    "pos_sentences_processed = pos_sentences_processed_aug\n",
    "pos_labels = pos_labels_aug"
   ]
  },
  {
   "source": [
    "## Create Training Data"
   ],
   "cell_type": "markdown",
   "metadata": {}
  },
  {
   "cell_type": "code",
   "execution_count": 8,
   "metadata": {},
   "outputs": [
    {
     "output_type": "execute_result",
     "data": {
      "text/plain": [
       "\"print('Splitting data...')\\ntrain_sents, val_sents, train_labels, val_labels = train_test_split(sentences, labels, test_size=0.20, random_state=42)\""
      ]
     },
     "metadata": {},
     "execution_count": 8
    }
   ],
   "source": [
    "from sklearn.model_selection import train_test_split\n",
    "import numpy as np\n",
    "\n",
    "neg_size = 300000\n",
    "neg_idx = np.random.permutation(len(neg_labels))\n",
    "neg_sentences_processed = [neg_sentences_processed[i] for i in neg_idx[:neg_size]]\n",
    "neg_labels = [neg_labels[i] for i in neg_idx[:neg_size]]\n",
    "\n",
    "sentences = pos_sentences_processed + neg_sentences_processed\n",
    "labels = pos_labels + neg_labels\n",
    "\n",
    "del pos_sentences_processed\n",
    "del neg_sentences_processed\n",
    "del pos_labels\n",
    "del neg_labels\n",
    "\n",
    "\"\"\"print('Splitting data...')\n",
    "train_sents, val_sents, train_labels, val_labels = train_test_split(sentences, labels, test_size=0.20, random_state=42)\"\"\""
   ]
  },
  {
   "source": [
    "## Fine Tune Bert"
   ],
   "cell_type": "markdown",
   "metadata": {}
  },
  {
   "cell_type": "code",
   "execution_count": 9,
   "metadata": {},
   "outputs": [],
   "source": [
    "import os\n",
    "import math\n",
    "import random\n",
    "import csv\n",
    "import sys\n",
    "import numpy as np\n",
    "import pandas as pd\n",
    "from sklearn import metrics\n",
    "from sklearn.metrics import f1_score, precision_score, recall_score\n",
    "from sklearn.metrics import classification_report\n",
    "import statistics as stats\n",
    "from bert_sklearn import BertTokenClassifier "
   ]
  },
  {
   "cell_type": "code",
   "execution_count": 10,
   "metadata": {},
   "outputs": [
    {
     "output_type": "stream",
     "name": "stdout",
     "text": [
      "Building sklearn token classifier...\n"
     ]
    }
   ],
   "source": [
    "model = BertTokenClassifier(bert_model='scibert-scivocab-uncased',\n",
    "                             max_seq_length=150, \n",
    "                             epochs=2,\n",
    "                             #gradient accumulation\n",
    "                             gradient_accumulation_steps=4,\n",
    "                             learning_rate=3e-5,\n",
    "                             train_batch_size=8,#batch size for training\n",
    "                             eval_batch_size=8, #batch size for evaluation\n",
    "                             validation_fraction=0.15, \n",
    "                             #ignore the tokens with label ‘O’\n",
    "                             ignore_label=['O'])"
   ]
  },
  {
   "cell_type": "code",
   "execution_count": 11,
   "metadata": {},
   "outputs": [
    {
     "output_type": "stream",
     "name": "stderr",
     "text": [
      "C:\\Users\\ozano\\.conda\\envs\\torch\\lib\\site-packages\\bert_sklearn\\utils.py:26: VisibleDeprecationWarning: Creating an ndarray from ragged nested sequences (which is a list-or-tuple of lists-or-tuples-or ndarrays with different lengths or shapes) is deprecated. If you meant to do this, you must specify 'dtype=object' when creating the ndarray.\n",
      "  return np.array(X)\n",
      "Loading scibert-scivocab-uncased model...\n",
      "Defaulting to linear classifier/regressor\n",
      "Loading Pytorch checkpoint\n",
      "train data size: 255000, validation data size: 45000\n",
      "Training  :   0%|          | 2/127500 [00:30<448:17:19, 12.66s/it, loss=0]C:\\Users\\ozano\\.conda\\envs\\torch\\lib\\site-packages\\bert_sklearn\\model\\pytorch_pretrained\\optimization.py:275: UserWarning: This overload of add_ is deprecated:\n",
      "\tadd_(Number alpha, Tensor other)\n",
      "Consider using one of the following signatures instead:\n",
      "\tadd_(Tensor other, *, Number alpha) (Triggered internally at  ..\\torch\\csrc\\utils\\python_arg_parser.cpp:1005.)\n",
      "  next_m.mul_(beta1).add_(1 - beta1, grad)\n",
      "Training  :   0%|          | 134/127500 [00:45<3:51:09,  9.18it/s, loss=0]Exception ignored in: <function _MultiProcessingDataLoaderIter.__del__ at 0x0000026D0706E310>\n",
      "Traceback (most recent call last):\n",
      "  File \"C:\\Users\\ozano\\.conda\\envs\\torch\\lib\\site-packages\\torch\\utils\\data\\dataloader.py\", line 1324, in __del__\n",
      "    self._shutdown_workers()\n",
      "  File \"C:\\Users\\ozano\\.conda\\envs\\torch\\lib\\site-packages\\torch\\utils\\data\\dataloader.py\", line 1297, in _shutdown_workers\n",
      "    w.join(timeout=_utils.MP_STATUS_CHECK_INTERVAL)\n",
      "  File \"C:\\Users\\ozano\\.conda\\envs\\torch\\lib\\multiprocessing\\process.py\", line 149, in join\n",
      "    res = self._popen.wait(timeout)\n",
      "  File \"C:\\Users\\ozano\\.conda\\envs\\torch\\lib\\multiprocessing\\popen_spawn_win32.py\", line 108, in wait\n",
      "    res = _winapi.WaitForSingleObject(int(self._handle), msecs)\n",
      "KeyboardInterrupt: \n",
      "Training  :   0%|          | 134/127500 [00:47<12:36:17,  2.81it/s, loss=0]\n"
     ]
    },
    {
     "output_type": "error",
     "ename": "KeyboardInterrupt",
     "evalue": "",
     "traceback": [
      "\u001b[1;31m---------------------------------------------------------------------------\u001b[0m",
      "\u001b[1;31mKeyboardInterrupt\u001b[0m                         Traceback (most recent call last)",
      "\u001b[1;32m<ipython-input-11-a7ba2a286e4e>\u001b[0m in \u001b[0;36m<module>\u001b[1;34m\u001b[0m\n\u001b[1;32m----> 1\u001b[1;33m \u001b[0mmodel\u001b[0m\u001b[1;33m.\u001b[0m\u001b[0mfit\u001b[0m\u001b[1;33m(\u001b[0m\u001b[0msentences\u001b[0m\u001b[1;33m,\u001b[0m \u001b[0mlabels\u001b[0m\u001b[1;33m)\u001b[0m\u001b[1;33m\u001b[0m\u001b[1;33m\u001b[0m\u001b[0m\n\u001b[0m",
      "\u001b[1;32m~\\.conda\\envs\\torch\\lib\\site-packages\\bert_sklearn\\sklearn.py\u001b[0m in \u001b[0;36mfit\u001b[1;34m(self, X, y, load_at_start)\u001b[0m\n\u001b[0;32m    372\u001b[0m \u001b[1;33m\u001b[0m\u001b[0m\n\u001b[0;32m    373\u001b[0m         \u001b[1;31m# finetune model!\u001b[0m\u001b[1;33m\u001b[0m\u001b[1;33m\u001b[0m\u001b[1;33m\u001b[0m\u001b[0m\n\u001b[1;32m--> 374\u001b[1;33m         \u001b[0mself\u001b[0m\u001b[1;33m.\u001b[0m\u001b[0mmodel\u001b[0m \u001b[1;33m=\u001b[0m \u001b[0mfinetune\u001b[0m\u001b[1;33m(\u001b[0m\u001b[0mself\u001b[0m\u001b[1;33m.\u001b[0m\u001b[0mmodel\u001b[0m\u001b[1;33m,\u001b[0m \u001b[0mtexts_a\u001b[0m\u001b[1;33m,\u001b[0m \u001b[0mtexts_b\u001b[0m\u001b[1;33m,\u001b[0m \u001b[0mlabels\u001b[0m\u001b[1;33m,\u001b[0m \u001b[0mconfig\u001b[0m\u001b[1;33m)\u001b[0m\u001b[1;33m\u001b[0m\u001b[1;33m\u001b[0m\u001b[0m\n\u001b[0m\u001b[0;32m    375\u001b[0m \u001b[1;33m\u001b[0m\u001b[0m\n\u001b[0;32m    376\u001b[0m         \u001b[1;32mreturn\u001b[0m \u001b[0mself\u001b[0m\u001b[1;33m\u001b[0m\u001b[1;33m\u001b[0m\u001b[0m\n",
      "\u001b[1;32m~\\.conda\\envs\\torch\\lib\\site-packages\\bert_sklearn\\finetune.py\u001b[0m in \u001b[0;36mfinetune\u001b[1;34m(model, X1, X2, y, config)\u001b[0m\n\u001b[0;32m    129\u001b[0m                 \u001b[0moptimizer\u001b[0m\u001b[1;33m.\u001b[0m\u001b[0mbackward\u001b[0m\u001b[1;33m(\u001b[0m\u001b[0mloss\u001b[0m\u001b[1;33m)\u001b[0m\u001b[1;33m\u001b[0m\u001b[1;33m\u001b[0m\u001b[0m\n\u001b[0;32m    130\u001b[0m             \u001b[1;32melse\u001b[0m\u001b[1;33m:\u001b[0m\u001b[1;33m\u001b[0m\u001b[1;33m\u001b[0m\u001b[0m\n\u001b[1;32m--> 131\u001b[1;33m                 \u001b[0mloss\u001b[0m\u001b[1;33m.\u001b[0m\u001b[0mbackward\u001b[0m\u001b[1;33m(\u001b[0m\u001b[1;33m)\u001b[0m\u001b[1;33m\u001b[0m\u001b[1;33m\u001b[0m\u001b[0m\n\u001b[0m\u001b[0;32m    132\u001b[0m \u001b[1;33m\u001b[0m\u001b[0m\n\u001b[0;32m    133\u001b[0m             \u001b[1;31m# step the optimizer every grad_accum_steps\u001b[0m\u001b[1;33m\u001b[0m\u001b[1;33m\u001b[0m\u001b[1;33m\u001b[0m\u001b[0m\n",
      "\u001b[1;32m~\\.conda\\envs\\torch\\lib\\site-packages\\torch\\tensor.py\u001b[0m in \u001b[0;36mbackward\u001b[1;34m(self, gradient, retain_graph, create_graph, inputs)\u001b[0m\n\u001b[0;32m    243\u001b[0m                 \u001b[0mcreate_graph\u001b[0m\u001b[1;33m=\u001b[0m\u001b[0mcreate_graph\u001b[0m\u001b[1;33m,\u001b[0m\u001b[1;33m\u001b[0m\u001b[1;33m\u001b[0m\u001b[0m\n\u001b[0;32m    244\u001b[0m                 inputs=inputs)\n\u001b[1;32m--> 245\u001b[1;33m         \u001b[0mtorch\u001b[0m\u001b[1;33m.\u001b[0m\u001b[0mautograd\u001b[0m\u001b[1;33m.\u001b[0m\u001b[0mbackward\u001b[0m\u001b[1;33m(\u001b[0m\u001b[0mself\u001b[0m\u001b[1;33m,\u001b[0m \u001b[0mgradient\u001b[0m\u001b[1;33m,\u001b[0m \u001b[0mretain_graph\u001b[0m\u001b[1;33m,\u001b[0m \u001b[0mcreate_graph\u001b[0m\u001b[1;33m,\u001b[0m \u001b[0minputs\u001b[0m\u001b[1;33m=\u001b[0m\u001b[0minputs\u001b[0m\u001b[1;33m)\u001b[0m\u001b[1;33m\u001b[0m\u001b[1;33m\u001b[0m\u001b[0m\n\u001b[0m\u001b[0;32m    246\u001b[0m \u001b[1;33m\u001b[0m\u001b[0m\n\u001b[0;32m    247\u001b[0m     \u001b[1;32mdef\u001b[0m \u001b[0mregister_hook\u001b[0m\u001b[1;33m(\u001b[0m\u001b[0mself\u001b[0m\u001b[1;33m,\u001b[0m \u001b[0mhook\u001b[0m\u001b[1;33m)\u001b[0m\u001b[1;33m:\u001b[0m\u001b[1;33m\u001b[0m\u001b[1;33m\u001b[0m\u001b[0m\n",
      "\u001b[1;32m~\\.conda\\envs\\torch\\lib\\site-packages\\torch\\autograd\\__init__.py\u001b[0m in \u001b[0;36mbackward\u001b[1;34m(tensors, grad_tensors, retain_graph, create_graph, grad_variables, inputs)\u001b[0m\n\u001b[0;32m    143\u001b[0m         \u001b[0mretain_graph\u001b[0m \u001b[1;33m=\u001b[0m \u001b[0mcreate_graph\u001b[0m\u001b[1;33m\u001b[0m\u001b[1;33m\u001b[0m\u001b[0m\n\u001b[0;32m    144\u001b[0m \u001b[1;33m\u001b[0m\u001b[0m\n\u001b[1;32m--> 145\u001b[1;33m     Variable._execution_engine.run_backward(\n\u001b[0m\u001b[0;32m    146\u001b[0m         \u001b[0mtensors\u001b[0m\u001b[1;33m,\u001b[0m \u001b[0mgrad_tensors_\u001b[0m\u001b[1;33m,\u001b[0m \u001b[0mretain_graph\u001b[0m\u001b[1;33m,\u001b[0m \u001b[0mcreate_graph\u001b[0m\u001b[1;33m,\u001b[0m \u001b[0minputs\u001b[0m\u001b[1;33m,\u001b[0m\u001b[1;33m\u001b[0m\u001b[1;33m\u001b[0m\u001b[0m\n\u001b[0;32m    147\u001b[0m         allow_unreachable=True, accumulate_grad=True)  # allow_unreachable flag\n",
      "\u001b[1;31mKeyboardInterrupt\u001b[0m: "
     ]
    }
   ],
   "source": [
    "model.fit(sentences, labels)"
   ]
  },
  {
   "cell_type": "code",
   "execution_count": 12,
   "metadata": {},
   "outputs": [],
   "source": [
    "# save model to disk\n",
    "savefile='data/sklearn_bert.bin'\n",
    "model.save(savefile)"
   ]
  },
  {
   "source": [
    "## Load model"
   ],
   "cell_type": "markdown",
   "metadata": {}
  },
  {
   "cell_type": "code",
   "execution_count": 2,
   "metadata": {},
   "outputs": [
    {
     "output_type": "stream",
     "name": "stdout",
     "text": [
      "Loading model from data/sklearn_bert.bin...\n",
      "06/02/2021 02:52:48 - INFO - bert_sklearn.model.pytorch_pretrained.modeling -   Model config {\n",
      "  \"attention_probs_dropout_prob\": 0.1,\n",
      "  \"hidden_act\": \"gelu\",\n",
      "  \"hidden_dropout_prob\": 0.1,\n",
      "  \"hidden_size\": 768,\n",
      "  \"initializer_range\": 0.02,\n",
      "  \"intermediate_size\": 3072,\n",
      "  \"layer_norm_eps\": 1e-12,\n",
      "  \"max_position_embeddings\": 512,\n",
      "  \"num_attention_heads\": 12,\n",
      "  \"num_hidden_layers\": 12,\n",
      "  \"type_vocab_size\": 2,\n",
      "  \"vocab_size\": 31090\n",
      "}\n",
      "\n",
      "Defaulting to linear classifier/regressor\n",
      "Building sklearn token classifier...\n"
     ]
    }
   ],
   "source": [
    "from bert_sklearn import load_model\n",
    "bert_model = load_model(r'data/sklearn_bert.bin')"
   ]
  },
  {
   "cell_type": "code",
   "execution_count": null,
   "metadata": {},
   "outputs": [],
   "source": []
  },
  {
   "cell_type": "code",
   "execution_count": 10,
   "metadata": {},
   "outputs": [
    {
     "output_type": "stream",
     "name": "stderr",
     "text": [
      "C:\\Users\\ozano\\.conda\\envs\\torch\\lib\\site-packages\\bert_sklearn\\utils.py:26: VisibleDeprecationWarning: Creating an ndarray from ragged nested sequences (which is a list-or-tuple of lists-or-tuples-or ndarrays with different lengths or shapes) is deprecated. If you meant to do this, you must specify 'dtype=object' when creating the ndarray.\n",
      "  return np.array(X)\n",
      "Predicting: 100%|██████████| 806/806 [01:38<00:00,  8.19it/s]\n"
     ]
    }
   ],
   "source": [
    "val_preds = model.predict(val_sents)"
   ]
  },
  {
   "cell_type": "code",
   "execution_count": 27,
   "metadata": {},
   "outputs": [
    {
     "output_type": "execute_result",
     "data": {
      "text/plain": [
       "           token pred\n",
       "0           each    O\n",
       "1    institution    O\n",
       "2              '    O\n",
       "3              s    O\n",
       "4              r    O\n",
       "5              &    O\n",
       "6              d    O\n",
       "7   expenditures    O\n",
       "8            are    O\n",
       "9     determined    O\n",
       "10       through    O\n",
       "11           the    O\n",
       "12      national    B\n",
       "13       science    I\n",
       "14    foundation    I\n",
       "15        higher    I\n",
       "16     education    I\n",
       "17      research    I\n",
       "18           and    I\n",
       "19   development    I\n",
       "20        survey    I\n",
       "21             .    O\n",
       "22                  O"
      ],
      "text/html": "<div>\n<style scoped>\n    .dataframe tbody tr th:only-of-type {\n        vertical-align: middle;\n    }\n\n    .dataframe tbody tr th {\n        vertical-align: top;\n    }\n\n    .dataframe thead th {\n        text-align: right;\n    }\n</style>\n<table border=\"1\" class=\"dataframe\">\n  <thead>\n    <tr style=\"text-align: right;\">\n      <th></th>\n      <th>token</th>\n      <th>pred</th>\n    </tr>\n  </thead>\n  <tbody>\n    <tr>\n      <th>0</th>\n      <td>each</td>\n      <td>O</td>\n    </tr>\n    <tr>\n      <th>1</th>\n      <td>institution</td>\n      <td>O</td>\n    </tr>\n    <tr>\n      <th>2</th>\n      <td>'</td>\n      <td>O</td>\n    </tr>\n    <tr>\n      <th>3</th>\n      <td>s</td>\n      <td>O</td>\n    </tr>\n    <tr>\n      <th>4</th>\n      <td>r</td>\n      <td>O</td>\n    </tr>\n    <tr>\n      <th>5</th>\n      <td>&amp;</td>\n      <td>O</td>\n    </tr>\n    <tr>\n      <th>6</th>\n      <td>d</td>\n      <td>O</td>\n    </tr>\n    <tr>\n      <th>7</th>\n      <td>expenditures</td>\n      <td>O</td>\n    </tr>\n    <tr>\n      <th>8</th>\n      <td>are</td>\n      <td>O</td>\n    </tr>\n    <tr>\n      <th>9</th>\n      <td>determined</td>\n      <td>O</td>\n    </tr>\n    <tr>\n      <th>10</th>\n      <td>through</td>\n      <td>O</td>\n    </tr>\n    <tr>\n      <th>11</th>\n      <td>the</td>\n      <td>O</td>\n    </tr>\n    <tr>\n      <th>12</th>\n      <td>national</td>\n      <td>B</td>\n    </tr>\n    <tr>\n      <th>13</th>\n      <td>science</td>\n      <td>I</td>\n    </tr>\n    <tr>\n      <th>14</th>\n      <td>foundation</td>\n      <td>I</td>\n    </tr>\n    <tr>\n      <th>15</th>\n      <td>higher</td>\n      <td>I</td>\n    </tr>\n    <tr>\n      <th>16</th>\n      <td>education</td>\n      <td>I</td>\n    </tr>\n    <tr>\n      <th>17</th>\n      <td>research</td>\n      <td>I</td>\n    </tr>\n    <tr>\n      <th>18</th>\n      <td>and</td>\n      <td>I</td>\n    </tr>\n    <tr>\n      <th>19</th>\n      <td>development</td>\n      <td>I</td>\n    </tr>\n    <tr>\n      <th>20</th>\n      <td>survey</td>\n      <td>I</td>\n    </tr>\n    <tr>\n      <th>21</th>\n      <td>.</td>\n      <td>O</td>\n    </tr>\n    <tr>\n      <th>22</th>\n      <td></td>\n      <td>O</td>\n    </tr>\n  </tbody>\n</table>\n</div>"
     },
     "metadata": {},
     "execution_count": 27
    }
   ],
   "source": [
    "ex_i = 101\n",
    "pd.DataFrame({'token': val_sents[ex_i], 'pred':val_preds[ex_i]})"
   ]
  },
  {
   "cell_type": "code",
   "execution_count": 13,
   "metadata": {},
   "outputs": [
    {
     "output_type": "stream",
     "name": "stderr",
     "text": [
      "Predicting: 100%|██████████| 1/1 [00:13<00:00, 13.40s/it]\n"
     ]
    },
    {
     "output_type": "execute_result",
     "data": {
      "text/plain": [
       "         token pred\n",
       "0     veronica    O\n",
       "1         then    O\n",
       "2     remained    O\n",
       "3         near    O\n",
       "4            -    O\n",
       "5   stationary    O\n",
       "6            ,    O\n",
       "7       moving    O\n",
       "8         less    O\n",
       "9         than    O\n",
       "10          50    O\n",
       "11          km    O\n",
       "12          in    O\n",
       "13          24    O\n",
       "14       hours    O\n",
       "15           ,    O\n",
       "16       while    O\n",
       "17      slowly    O\n",
       "18   weakening    O\n",
       "19           ,    O\n",
       "20      before    O\n",
       "21    resuming    O\n",
       "22         its    O\n",
       "23    movement    O\n",
       "24        west    O\n",
       "25           ,    O\n",
       "26    parallel    O\n",
       "27          to    O\n",
       "28         the    O\n",
       "29     pilbara    O\n",
       "30       coast    O\n",
       "31           .    O\n",
       "32                O"
      ],
      "text/html": "<div>\n<style scoped>\n    .dataframe tbody tr th:only-of-type {\n        vertical-align: middle;\n    }\n\n    .dataframe tbody tr th {\n        vertical-align: top;\n    }\n\n    .dataframe thead th {\n        text-align: right;\n    }\n</style>\n<table border=\"1\" class=\"dataframe\">\n  <thead>\n    <tr style=\"text-align: right;\">\n      <th></th>\n      <th>token</th>\n      <th>pred</th>\n    </tr>\n  </thead>\n  <tbody>\n    <tr>\n      <th>0</th>\n      <td>veronica</td>\n      <td>O</td>\n    </tr>\n    <tr>\n      <th>1</th>\n      <td>then</td>\n      <td>O</td>\n    </tr>\n    <tr>\n      <th>2</th>\n      <td>remained</td>\n      <td>O</td>\n    </tr>\n    <tr>\n      <th>3</th>\n      <td>near</td>\n      <td>O</td>\n    </tr>\n    <tr>\n      <th>4</th>\n      <td>-</td>\n      <td>O</td>\n    </tr>\n    <tr>\n      <th>5</th>\n      <td>stationary</td>\n      <td>O</td>\n    </tr>\n    <tr>\n      <th>6</th>\n      <td>,</td>\n      <td>O</td>\n    </tr>\n    <tr>\n      <th>7</th>\n      <td>moving</td>\n      <td>O</td>\n    </tr>\n    <tr>\n      <th>8</th>\n      <td>less</td>\n      <td>O</td>\n    </tr>\n    <tr>\n      <th>9</th>\n      <td>than</td>\n      <td>O</td>\n    </tr>\n    <tr>\n      <th>10</th>\n      <td>50</td>\n      <td>O</td>\n    </tr>\n    <tr>\n      <th>11</th>\n      <td>km</td>\n      <td>O</td>\n    </tr>\n    <tr>\n      <th>12</th>\n      <td>in</td>\n      <td>O</td>\n    </tr>\n    <tr>\n      <th>13</th>\n      <td>24</td>\n      <td>O</td>\n    </tr>\n    <tr>\n      <th>14</th>\n      <td>hours</td>\n      <td>O</td>\n    </tr>\n    <tr>\n      <th>15</th>\n      <td>,</td>\n      <td>O</td>\n    </tr>\n    <tr>\n      <th>16</th>\n      <td>while</td>\n      <td>O</td>\n    </tr>\n    <tr>\n      <th>17</th>\n      <td>slowly</td>\n      <td>O</td>\n    </tr>\n    <tr>\n      <th>18</th>\n      <td>weakening</td>\n      <td>O</td>\n    </tr>\n    <tr>\n      <th>19</th>\n      <td>,</td>\n      <td>O</td>\n    </tr>\n    <tr>\n      <th>20</th>\n      <td>before</td>\n      <td>O</td>\n    </tr>\n    <tr>\n      <th>21</th>\n      <td>resuming</td>\n      <td>O</td>\n    </tr>\n    <tr>\n      <th>22</th>\n      <td>its</td>\n      <td>O</td>\n    </tr>\n    <tr>\n      <th>23</th>\n      <td>movement</td>\n      <td>O</td>\n    </tr>\n    <tr>\n      <th>24</th>\n      <td>west</td>\n      <td>O</td>\n    </tr>\n    <tr>\n      <th>25</th>\n      <td>,</td>\n      <td>O</td>\n    </tr>\n    <tr>\n      <th>26</th>\n      <td>parallel</td>\n      <td>O</td>\n    </tr>\n    <tr>\n      <th>27</th>\n      <td>to</td>\n      <td>O</td>\n    </tr>\n    <tr>\n      <th>28</th>\n      <td>the</td>\n      <td>O</td>\n    </tr>\n    <tr>\n      <th>29</th>\n      <td>pilbara</td>\n      <td>O</td>\n    </tr>\n    <tr>\n      <th>30</th>\n      <td>coast</td>\n      <td>O</td>\n    </tr>\n    <tr>\n      <th>31</th>\n      <td>.</td>\n      <td>O</td>\n    </tr>\n    <tr>\n      <th>32</th>\n      <td></td>\n      <td>O</td>\n    </tr>\n  </tbody>\n</table>\n</div>"
     },
     "metadata": {},
     "execution_count": 13
    }
   ],
   "source": [
    "#ex_sent = val_sents[101]\n",
    "ex_sent = neg_sentences_processed[10]\n",
    "ex_pred = model.predict([ex_sent])\n",
    "\n",
    "pd.DataFrame({'token': ex_sent, 'pred':ex_pred[0]})"
   ]
  },
  {
   "cell_type": "code",
   "execution_count": 3,
   "metadata": {},
   "outputs": [
    {
     "output_type": "execute_result",
     "data": {
      "text/plain": [
       "['we',\n",
       " 'used',\n",
       " 'data',\n",
       " 'from',\n",
       " 'the',\n",
       " 'early',\n",
       " 'childhood',\n",
       " 'longitudinal',\n",
       " 'study',\n",
       " '-',\n",
       " 'kindergarten',\n",
       " 'cohort',\n",
       " '(',\n",
       " 'ecls',\n",
       " '-',\n",
       " 'k',\n",
       " ')',\n",
       " '.',\n",
       " '']"
      ]
     },
     "metadata": {},
     "execution_count": 3
    }
   ],
   "source": [
    "pos_sentences_processed[10]"
   ]
  },
  {
   "cell_type": "code",
   "execution_count": null,
   "metadata": {},
   "outputs": [],
   "source": []
  }
 ]
}