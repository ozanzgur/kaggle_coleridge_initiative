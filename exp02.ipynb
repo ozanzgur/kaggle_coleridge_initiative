{
 "metadata": {
  "language_info": {
   "codemirror_mode": {
    "name": "ipython",
    "version": 3
   },
   "file_extension": ".py",
   "mimetype": "text/x-python",
   "name": "python",
   "nbconvert_exporter": "python",
   "pygments_lexer": "ipython3",
   "version": "3.8.8"
  },
  "orig_nbformat": 2,
  "kernelspec": {
   "name": "python388jvsc74a57bd01b4c7016e99d31c2e7c892573dc93dbd4548eb0a0f5dca22fbf3a690830b4e66",
   "display_name": "Python 3.8.8 64-bit ('torch': conda)"
  }
 },
 "nbformat": 4,
 "nbformat_minor": 2,
 "cells": [
  {
   "cell_type": "code",
   "execution_count": 1,
   "metadata": {},
   "outputs": [],
   "source": [
    "import json\n",
    "import pandas as pd\n",
    "import numpy as np\n",
    "import matplotlib.pyplot as plt\n",
    "import glob\n",
    "import os\n",
    "import re\n",
    "import seaborn as sns\n",
    "from tqdm import tqdm\n",
    "\n",
    "train_example_paths = glob.glob('data/train/*.json')\n",
    "test_example_paths = glob.glob('data/test/*.json')\n",
    "\n",
    "train_example_names = [fn.split('.')[0] for fn in os.listdir('data/train')]\n",
    "test_example_names = [fn.split('.')[0] for fn in os.listdir('data/test')]\n",
    "\n",
    "metadata = pd.read_csv('data/train.csv')\n",
    "metadata_train = metadata.loc[metadata.Id.isin(train_example_names)]\n",
    "metadata_test = metadata.loc[metadata.Id.isin(test_example_names)]\n",
    "\n",
    "metadata = pd.read_csv('data/train.csv')\n",
    "metadata_train = metadata.loc[metadata.Id.isin(train_example_names)]\n",
    "metadata_test = metadata.loc[metadata.Id.isin(test_example_names)]\n",
    "\n",
    "_RE_COMBINE_WHITESPACE = re.compile(r\"\\s+\")\n",
    "def make_single_whitespace(text):\n",
    "    return _RE_COMBINE_WHITESPACE.sub(\" \", text).strip()\n",
    "\n",
    "def remove_punc(txt):\n",
    "    return re.sub('[^A-Za-z0-9]+', ' ', str(txt))\n",
    "\n",
    "def load_train_example_by_name(name):\n",
    "    doc_path = os.path.join('data/train', name + '.json')\n",
    "    with open(doc_path) as f:\n",
    "        data = json.load(f)\n",
    "    return data\n",
    "\n",
    "def get_doc_id(doc_path):\n",
    "    return os.path.split(train_example_names[0])[-1].split('.')[0]\n",
    "\n",
    "def clean_text(txt):\n",
    "    return re.sub('[^A-Za-z0-9]+', ' ', str(txt).lower())\n",
    "\n",
    "def jaccard(str1, str2): \n",
    "    a = set(str1.lower().split()) \n",
    "    b = set(str2.lower().split())\n",
    "    c = a.intersection(b)\n",
    "    return float(len(c)) / (len(a) + len(b) - len(c))\n",
    "\n",
    "# Load dataset names\n",
    "df = pd.read_csv('C:\\projects\\personal\\kaggle\\kaggle_coleridge_initiative\\data\\data_set_26897.csv')\n",
    "us_dataset_names = list(df.title.values)\n",
    "us_dataset_names = [make_single_whitespace(remove_punc(n)).lower() for n in us_dataset_names]\n",
    "\n",
    "labels = list(metadata.cleaned_label.unique())\n",
    "labels = sorted(labels, key = len, reverse = True)\n",
    "labels = [l.strip() for l in labels]"
   ]
  },
  {
   "cell_type": "code",
   "execution_count": null,
   "metadata": {},
   "outputs": [],
   "source": [
    "def get_token_bigrams(label):\n",
    "    tokens = label.split(' ')\n",
    "    return [f'{t1} {t2}' for t1, t2 in zip()]"
   ]
  },
  {
   "cell_type": "code",
   "execution_count": 578,
   "metadata": {},
   "outputs": [],
   "source": [
    "from nltk.corpus import stopwords\n",
    "stop_words = stopwords.words('english')\n",
    "\n",
    "for t in ['and', 'was', 'in']:\n",
    "    stop_words.remove(t)\n",
    "\n",
    "banned_kw = [\n",
    "    'STEM', 'FDA', 'SSH', 'FSIZE', 'PET', 'NCATE', 'TESOL', 'AVHRR-OI',\n",
    "    'ICT',\n",
    "    'AAEA',\n",
    "    'BMI', 'ADGC', 'CDRSUM', 'NASS',\n",
    "    'MMSE', 'CDR', 'SPSS', 'LCRP', 'DML', 'ITU', 'DRI', 'CIPSEA', 'IEP', 'NCES', 'BCG', 'HLM', 'MLLW', 'FDG', 'MRMC'\n",
    "]\n",
    "\n",
    "banned_values = [\n",
    "    'laboratory', 'body mass index', 'admission test', 'neural networks', 'accuracy of', 'chain reaction', 'adversarial network',\n",
    "    'state exam', 'reform act', 'least', 'labeling', 'principal components analysis', 'independent components analysis', 'markov chain', 'monte carlo',\n",
    "    'bayesian information', 'family wise error', 'posterior anterior', 'Bidirectional Encoder', 'Morphometry', 'Integral', 'T2*weighted', 'T2-weighted',\n",
    "    'T2weighted', 'T1*weighted', 'T1-weighted', 'T1weighted', 'EMCI', 'Learning Test', 'Gradepoint average', 'doctor of', 'masters of',\n",
    "    'Expected Family Contribution', 'life in', 'Long Short Term', 'Long ShortTerm', 'LSTM', 'lipoprotein', 'Support Vector Machine', 'User Interface',\n",
    "    'National Institute of', 'glucose', 'Research Division', '%', 'Heating Weeks', 'Public Management', 'Theory', 'Middle East respiratory',\n",
    "    'Discriminant Analysis', 'boltzmann', 'Disease Control and Prevention', 'polymorphism', 'positron emission tomography', 'dorsolateral', 'Data Analysis System',\n",
    "    'Analysis Kit', 'Google', 'Principal Analysis', 'Cognitive Impairment', 'Analysis of Variance'\n",
    "    ]\n",
    "\n",
    "banned_after_tokens = stop_words\n",
    "\n",
    "banned_values = [b.lower() for b in banned_values]"
   ]
  },
  {
   "cell_type": "code",
   "execution_count": 579,
   "metadata": {},
   "outputs": [],
   "source": [
    "def get_words_from_abbr_in_parantheses(match, doc_text):\n",
    "    try:\n",
    "        match_i = doc_text.index(f'({match})')\n",
    "    except:\n",
    "        try:\n",
    "            match_i = doc_text.index(f'({match};')\n",
    "        except:\n",
    "            match_i = doc_text.index(f'({match}')\n",
    "\n",
    "    match_nopunc = remove_punc(match).replace(' ', '')\n",
    "    n_tokens = len(match_nopunc.replace(' ', ''))\n",
    "\n",
    "    slice_start_i = max(match_i - 200, 0)\n",
    "    slice_end_i = min(match_i + len(match) + 40, len(doc_text))\n",
    "    doc_slice = doc_text[slice_start_i: slice_end_i]\n",
    "    \n",
    "    # Remove dates\n",
    "    doc_slice = re.sub(r'(19|20)[0-9][0-9]', ' ', doc_slice)\n",
    "\n",
    "    # Remove parantheses\n",
    "    doc_slice = doc_slice.replace('(', ' ').replace(')', ' ').replace(';', ' ').replace('-', '').replace('\\n', ' ')\n",
    "\n",
    "    tokens = doc_slice.split(' ')\n",
    "\n",
    "    tokens = [t for t in tokens if len(t) > 0]\n",
    "    match_token_i = tokens.index(match_nopunc)\n",
    "\n",
    "    if match_token_i - n_tokens <= 0:\n",
    "        return [], [], \"\"\n",
    "\n",
    "    start_i = match_token_i-n_tokens\n",
    "    end_i = match_token_i\n",
    "\n",
    "    # If a prev token started with uppercase, use it\n",
    "    try:\n",
    "        if start_i > 1:\n",
    "            if tokens[start_i-2][0].isupper():\n",
    "                start_i -= 2\n",
    "            else:\n",
    "                if tokens[start_i-1][0].isupper():\n",
    "                    start_i -= 1\n",
    "\n",
    "        word_tokens = tokens[start_i:end_i]\n",
    "\n",
    "        # Drop number token if it is coming first\n",
    "        if word_tokens[0].isdigit():\n",
    "            word_tokens = word_tokens[1:]\n",
    "\n",
    "        # Remove 2 lowercase tokens from start\n",
    "        for _ in range(2):\n",
    "            if word_tokens[0][0].islower():\n",
    "                word_tokens = word_tokens[1:]\n",
    "                start_i += 1\n",
    "\n",
    "    except IndexError:\n",
    "        print(f'IndexError for {match}')\n",
    "        return [], [], \"\"\n",
    "\n",
    "    after_token = \"\"\n",
    "    if len(tokens) > match_token_i + 1:\n",
    "        after_token = tokens[match_token_i + 1]\n",
    "\n",
    "    before_tokens = tokens[max(start_i - 3, 0) : start_i]\n",
    "\n",
    "    return before_tokens, word_tokens, after_token\n",
    "\n",
    "\n",
    "def tokens_are_dataset_name(tokens):\n",
    "    if len(tokens) == 0:\n",
    "        return False\n",
    "    \n",
    "    long_tokens = [t for t in tokens if len(t) > 3]\n",
    "    lowercase_count = len([t for t in long_tokens if t[0].islower()])\n",
    "    uppercase_count = len([t for t in long_tokens if t[0].isupper()])\n",
    "\n",
    "    return lowercase_count < 4 and uppercase_count > 0\n",
    "\n",
    "def after_token_ok(after_token):\n",
    "    if after_token == \"\":\n",
    "        return True\n",
    "\n",
    "    if after_token.lower() in banned_after_tokens:\n",
    "        return False\n",
    "\n",
    "    # Probably plural\n",
    "    if after_token not in ['was', 'has', 'is', 'this'] and after_token[-1].lower() == 's':\n",
    "        return False\n",
    "\n",
    "    # Probably a link\n",
    "    if 'http' in after_token:\n",
    "        return False\n",
    "\n",
    "    # A reference. Datasets don't get referenced like that\n",
    "    if '[' in after_token and ']' in after_token:\n",
    "        return False\n",
    "\n",
    "    # Probably a link\n",
    "    if '/' in after_token:\n",
    "        return False\n",
    "\n",
    "    if 'cell' in after_token:\n",
    "        return False\n",
    "\n",
    "    return True\n",
    "\n",
    "def before_tokens_ok(before_tokens):\n",
    "    if len(before_tokens) == 0:\n",
    "        return True\n",
    "\n",
    "    if 'by' in before_tokens:\n",
    "        return False\n",
    "\n",
    "    if 'adjusted' in before_tokens:\n",
    "        return False\n",
    "\n",
    "    return True\n",
    "\n",
    "\n",
    "#get_words_from_abbr_in_parantheses('BDNF', doc_text)"
   ]
  },
  {
   "cell_type": "code",
   "execution_count": 590,
   "metadata": {},
   "outputs": [],
   "source": [
    "i = 5113\n",
    "\n",
    "doc_id = train_example_names[i]"
   ]
  },
  {
   "cell_type": "code",
   "execution_count": 591,
   "metadata": {},
   "outputs": [
    {
     "output_type": "stream",
     "name": "stdout",
     "text": [
      "5c038729-c9a6-4521-b692-102a2295811a\n['beginning postsecondary students longitudinal study', 'beginning postsecondary student', 'education longitudinal study', 'beginning postsecondary students', 'national education longitudinal study']\n{'DEFTs', 'PSEFIRTY', 'NEB', 'PSE', 'PSEFIRDA', 'BPSLNKWT', 'DEFT', 'BYFCOMP', 'ANOVA', 'GED', 'SES', 'DAS', 'BYSES', 'IPEDS'}\n"
     ]
    }
   ],
   "source": [
    "doc_json = load_train_example_by_name(doc_id)\n",
    "\n",
    "doc_labels = list(metadata_train.loc[metadata_train.Id == doc_id, 'dataset_label'].values)\n",
    "doc_labels = [make_single_whitespace(remove_punc(l.strip())).lower() for l in doc_labels]\n",
    "doc_text = ' '.join([s['text'] for s in doc_json])\n",
    "print(doc_id)\n",
    "print(doc_labels)\n",
    "\n",
    "re_find_par = r'\\(([A-Z]{2,}-?[A-Z]{1,}?[a-z]?)[\\);]'\n",
    "matches = set(re.findall(re_find_par, doc_text))\n",
    "print(matches)"
   ]
  },
  {
   "cell_type": "code",
   "execution_count": 592,
   "metadata": {},
   "outputs": [
    {
     "output_type": "stream",
     "name": "stdout",
     "text": [
      "DEFTs : Tokens ['the', 'design', 'effects'] do not make a dataset name.\nDEFTs : Aftertoken for was in banlist.\nPSEFIRTY : Tokens ['consider', 'type', 'of', 'institution', 'first', 'attended'] do not make a dataset name.\nPSEFIRDA : Tokens ['education', 'enrollment', 'date', 'for', 'valid', 'institutions'] do not make a dataset name.\nBPSLNKWT : Tokens ['This', 'disturbance', 'term', 'inflated', 'the', 'weight'] do not make a dataset name.\nBPSLNKWT : Aftertoken so was in banlist.\nDEFT : Tokens ['dependent', 'variable'] do not make a dataset name.\nSES : Tokens ['status'] do not make a dataset name.\nSES : Aftertoken are was in banlist.\nBYSES : Tokens ['1.', 'Low', 'SES'] do not make a dataset name.\n"
     ]
    },
    {
     "output_type": "execute_result",
     "data": {
      "text/plain": [
       "{'NEB': ('Beginning Postsecondary Longitudinal Study', 'Data'),\n",
       " 'PSE': ('Postsecondary Education', 'enrollment.'),\n",
       " 'BYFCOMP': ('Low SES BYSES 2. Single parent family', '3.'),\n",
       " 'ANOVA': ('Analysis of Variance', 'was'),\n",
       " 'GED': ('General Educational Development', ','),\n",
       " 'DAS': ('Data File Data Analysis System', 'see'),\n",
       " 'IPEDS': ('Integrated Postsecondary Education Data System', 'data')}"
      ]
     },
     "metadata": {},
     "execution_count": 592
    }
   ],
   "source": [
    "selected_mathces = {}\n",
    "for m in matches:\n",
    "    try:\n",
    "        before_tokens, found_tokens, after_token = get_words_from_abbr_in_parantheses(m, doc_text)\n",
    "    except Exception as e:\n",
    "        print(f'Exception for {m}')\n",
    "        raise e\n",
    "\n",
    "    cond1 = tokens_are_dataset_name(found_tokens)\n",
    "    cond2 = after_token_ok(after_token)\n",
    "    cond3 = before_tokens_ok(before_tokens)\n",
    "\n",
    "    if not cond1:\n",
    "        print(f'{m} : Tokens {found_tokens} do not make a dataset name.')\n",
    "\n",
    "    if not cond2:\n",
    "        print(f'{m} : Aftertoken {after_token} was in banlist.')\n",
    "\n",
    "    if not cond3:\n",
    "        print(f'{m} : Beforetokens {before_tokens} were in banlist.')\n",
    "\n",
    "    if cond1 and cond2 and cond3:\n",
    "        selected_mathces[m] = (' '.join(found_tokens), after_token)\n",
    "\n",
    "selected_mathces"
   ]
  },
  {
   "cell_type": "code",
   "execution_count": 593,
   "metadata": {},
   "outputs": [
    {
     "output_type": "execute_result",
     "data": {
      "text/plain": [
       "{'NEB': ('Beginning Postsecondary Longitudinal Study', 'Data'),\n",
       " 'PSE': ('Postsecondary Education', 'enrollment.'),\n",
       " 'BYFCOMP': ('Low SES BYSES 2. Single parent family', '3.'),\n",
       " 'ANOVA': ('Analysis of Variance', 'was'),\n",
       " 'GED': ('General Educational Development', ','),\n",
       " 'DAS': ('Data File Data Analysis System', 'see'),\n",
       " 'IPEDS': ('Integrated Postsecondary Education Data System', 'data')}"
      ]
     },
     "metadata": {},
     "execution_count": 593
    }
   ],
   "source": [
    "# Drop by keyword\n",
    "matches_not_banned = {m: v for m, v in selected_mathces.items() if m not in banned_kw}\n",
    "matches_not_banned"
   ]
  },
  {
   "cell_type": "code",
   "execution_count": 594,
   "metadata": {},
   "outputs": [
    {
     "output_type": "execute_result",
     "data": {
      "text/plain": [
       "{'NEB': ('Beginning Postsecondary Longitudinal Study', 'Data'),\n",
       " 'PSE': ('Postsecondary Education', 'enrollment.'),\n",
       " 'BYFCOMP': ('Low SES BYSES 2. Single parent family', '3.'),\n",
       " 'ANOVA': ('Analysis of Variance', 'was'),\n",
       " 'GED': ('General Educational Development', ','),\n",
       " 'IPEDS': ('Integrated Postsecondary Education Data System', 'data')}"
      ]
     },
     "metadata": {},
     "execution_count": 594
    }
   ],
   "source": [
    "# Drop by text\n",
    "matches_not_banned = {m: v for m, v in matches_not_banned.items() if not any([b for b in banned_values if b in v[0].lower()])}\n",
    "matches_not_banned"
   ]
  },
  {
   "cell_type": "code",
   "execution_count": null,
   "metadata": {},
   "outputs": [],
   "source": []
  },
  {
   "cell_type": "code",
   "execution_count": 173,
   "metadata": {},
   "outputs": [
    {
     "output_type": "execute_result",
     "data": {
      "text/plain": [
       "[{'section_title': 'Discussion',\n",
       "  'text': 'For the first time, to the best of our knowledge, in older patients hospitalized for acute or subacute event with inflammatory process, PAL was determined with the gold standard DLW method as 1.3 ± 0.2, with daily energy intake (1420 kcal/d) being just sufficient to cover the daily energy requirements (1497 kcal/d). Our data did not show that TEE was increased in acutely or subacutely ill old patients with inflammatory process and malnutrition. However, although we observed relatively low values of REE, a negative association was found between the evolution of CRP and REE at baseline. These results could suggest a possible influence of inflammation on REE, although this could not definitely be confirmed.\\nREE declines with age in older adults, as many studies have shown [29] [30] [31] . Generally, this decline is partly the result of the decrease in FFM, and although there is no consensus, several authors have shown a decreased REE adjusted for FFM of about 5% in older patients [32] [33] [34] . This difference could be related to the heterogeneity of FFM, which includes tissues with a higher metabolic rate (heart, liver, kidneys, and brain) and others with a lower metabolic rate as muscle mass. Muscle metabolism may account for only 25% of REE [32] . The decline in REE with aging may be explained by an increased proportion of organ tissue compared to muscle mass as well as a decline in total muscle mass in proportion to FFM [29, 30] . However, the relative contribution of these two factors in the decline of REE with age remains to be clarified. It is also important to determine whether the contribution of the REE of organ tissues is higher in acute or subacute situations in order to better understand the energy needs and malnutrition mechanisms of older patients who are often frail and suffer from diseases with various degrees of inflammation. These situations are frequently observed in older hospitalized patients and could be responsible for an increase in energy requirements due to an increase in the energy expenditure of the organ tissue.\\nDisease burden/inflammation and underlying hypermetabolism with elevated REE has been identified as one of the two etiological criteria for the diagnosis of malnutrition according to a recent international consensus [33] . Acute or subacute medical conditions may increase energy expenditure by inflammation, drugs, fever processes, catecholamines, or cortisol production [33] [34] [35] . Schrack et al. showed an increase in REE with the number of chronic diseases in a study with \"healthy\" volunteers from the Baltimore Longitudinal Study of Aging (BLSA) cohort [36] . Although they considered various hypotheses, proinflammatory and catabolic state was put forward to explain the increased REE. However, it was not envisaged that the relationship between REE and inflammatory status would be explored in this study. Inflammation has been found to be associated with an increase in energy expenditure in certain situations, such as cancer [37] or chronic renal failure [38] .\\nExploratory Spearman\\'s partial correlations on the 19 patients of group A seem to suggest that higher inflammatory markers on admission (expressed by a lower CRPdiff value given negative sign) might be associated with increased REE, while no association was found with TEE. It could be hypothesized that a reduction in physical activity directly related to the context of hospitalization and possibly associated with increased REE might result in relatively stable TEE. It must be noted, however, that time scales for these measurements were not strictly superimposed given that the DLW method measures the body isotope clearance over several days, while results of REE were obtained instantaneously on the first day of inclusion. Further studies with repeated calorimetry measurements throughout hospitalization along with inflammatory markers would be needed to better study the associations of REE and inflammation. Unfortunately, this was not done for feasibility and acceptability reasons.\\nIn our study, FFM seemed to be the main determinant of energy expenditure. From a cohort of 714 healthy subjects of all ages, Geisler et al. studied age-dependent changes in REE in relation to detailed body composition and found that the variance of REE/FFM was explained for only 2% by CRP levels, even in the absence of any evolving disease responsible for inflammation [30] . Conversely, many reports did not confirm the reality of hypermetabolism and increased REE in hospitalized elderly patients in acute or subacute situations. In a study of hospitalized elderly subjects in acute or rehabilitation care unit, REE was found to be very close to ours [39] .\\nIn most published reports that studied REE in patients with chronic diseases in the absence of acute event with only mild to moderate degrees of inflammation, REE was found to be similar to that of healthy elderly people when adjusted for FFM [10, 12, 40, 41] . These results may be explained by the more pronounced decrease in FFM in these patients with inflammation and malnutrition. In underweight, malnourished older patients with BMI below 20 kg/m 2 , hypometabolism was observed, which may be due not only to a decrease in FFM but also to a decline in functional status [42] . This suggests that sedentary lifestyle may also explain the decline in REE in addition to the decrease in FFM, even though physical activity was not measured in their study [42] . In our study, very low PAL may also explain the low REE that we observed.\\nIn a review of 19 studies conducted in 1256 hospitalized patients where sepsis was frequently encountered and in whom REE was measured by indirect calorimetry, no clear relationship could be established between severity of illness and hypermetabolism [43] . Another review considered REE and energy requirements in 2450 healthy, sick, and underweight older patients [9] . The REE measured by indirect calorimetry, after adjusting for body weight and FFM, was similar in healthy and sick older people. Heterogeneity was observed between the different situations. Indeed, the average REE was even lower in the hospitalized population. Likewise, the mean REE per kg FFM was not different between healthy and sick older patients, with 28 ± 3 and 29 ± 2 kcal/kg FFM/d, respectively [9] . These values are also very close to our own results (29 ± 3 and 31 ± 4 kcal/kg FFM/d, respectively).\\nSome authors consider that REE is increased with frailty and may have prognostic significance. In a study involving old women from Women\\'s Health and Aging Study (WHAS II) [44] , the average REE was 1119 ± 205 kcal/d. A high variability of REE was observed in frail subjects according to Fried\\'s criteria, suggesting a possible relationship with frailty for both hyper-and hypometabolism situations, which does not allow clear conclusions to be drawn. In the study by Fabbri et al. [45] performed from the BLSA cohort, an increase in REE was predictive of multimorbidity; however, again, the average age of 68.2 years makes the studied populations not really comparable to ours. In two different age groups of 60-74 and 90 years and more from the Louisiana Healthy Aging Study, Kim et al. found an association between REE and a frailty index based on 34 health and functional status variables but only in patients older than 90 years of age [46] . This could suggest an increased energy expenditure in unhealthy very old patients. However, such increase was not observed in the control group of our study, which consisted of frail elderly subjects living in nursing homes. In Kim\\'s study, TEE was also measured by the doubly labeled water method, and the authors did not find the same results for TEE, with no association between frailty index and TEE [46] . Therefore, it is not possible to make firm conclusions about the increase in energetic needs of this population. Lammes et al. found values of 1174 kcal/d (29 kcal/kg FFM/d) for REE in elderly nursing home patients with multiple diagnoses [47] . These values, like those of the studies previously mentioned, are also very close to our results. Interestingly, they found an energy intake/REE ratio of 1.27, which is very close to the TEE/REE ratio that we have determined. Despite the need to better understand energy needs and their components [48] , including PAL in very elderly subjects, few studies that have measured TEE using the DLW method are actually available, with only 248 patients aged 80 or over identified in a recent literature review [19] .\\nAmong nonagenarians living at home, the TEE/REE ratio averaged 1.19 for women and 1.36 for men, indicating very low levels of physical activity, especially as there was no decline in the REE relative to a population of septuagenarians [49] . In a longitudinal study, TEE was reassessed nearly seven years later in 83 participants whose mean initial age was about 74 years. A decline of about 100 kcal of energy expenditure related to physical activity was observed each year. The decline during the eighth decade was associated with higher age, poorer physical condition with reduced walking speed, and a greater decrease in muscle mass during follow-up. The occurrence of intercurrent diseases and inflammation were not related to changes in TEE [50] . In another longitudinal study conducted from the Health ABC study cohort on 302 patients aged 70 to 82 years living in a healthy community [51] , PAL in only the highest tertile was associated with a reduction in mortality after eight years of follow-up, while neither TEE nor REE was associated with mortality. In patients with hypermetabolism linked with colorectal cancer, TEE was again not increased [52] .\\nFinally, the energy requirements of a population of elderly subjects hospitalized in acute or subacute situations are very much below the dietary reference intakes (DRIs) [53] . If these requirements remain at about 1.7 REE in healthy elderly subjects aged about 75 years living in the community as we or others have shown previously [16, 54] , they are significantly decreased beyond 80 years of age below the 25th percentile PAL value of 1.49 as established by the Scientific Advisory Committee on Nutrition (SACN 2011) [55] , regardless of any acute condition. A more pronounced decline in REE in very old subjects could even be a marker of frailty and sarcopenia as suggested by the results of a recent study [56] . In patients with esophageal cancer, not only was the REE not increased [57] , but a low REE was also associated with worse survival at five years [58] .\\nDespite equilibrium of the energy balance with similar values between energy intakes and energy needs as well as the stability of intakes over the two weeks, a significant decrease in weight was observed in our study. This finding suggests that mechanisms other than inflammation alone could be involved and that energy intake must be higher to avoid weight loss. Among these, variations in hydration levels, lack of functional recovery, an increased time of bed rest, the initial pathology, and lower nutritional reserve could be hypothesized. The precision of the measurement methods used is a strength of our study. However, some limitations need to be pointed out. The limited patient numbers due to the high cost of the DLW technique and cross-sectional design are the main limitations of our study. Furthermore, the absence of repeated measures of REE throughout hospitalization does not allow definite conclusions to be drawn on the possible associations between REE and inflammation status in these patients.'}]"
      ]
     },
     "metadata": {},
     "execution_count": 173
    }
   ],
   "source": [
    "l_search = doc_labels[0]\n",
    "[section for section in doc_json if l_search in clean_text(section['text'])]"
   ]
  },
  {
   "cell_type": "code",
   "execution_count": 56,
   "metadata": {},
   "outputs": [
    {
     "output_type": "execute_result",
     "data": {
      "text/plain": [
       "{'ECLS-K', 'IEP', 'IRT', 'MD', 'NCES', 'SEM', 'SES'}"
      ]
     },
     "metadata": {},
     "execution_count": 56
    }
   ],
   "source": []
  },
  {
   "source": [
    "clues:\n",
    "- between parantheses\n",
    "- starts with such as\n",
    "- has abbreviation between parantheses\n",
    "- starts with capital letters or all capital letters"
   ],
   "cell_type": "markdown",
   "metadata": {}
  },
  {
   "source": [
    "How to process:\n",
    "\n",
    "Split into sentences\n",
    "\n",
    "Keep uppercase letters.\n",
    "\n",
    "remove []\n",
    "\n",
    "keep ()\n",
    "\n",
    "Capital letter words followed by (abbreviation)"
   ],
   "cell_type": "markdown",
   "metadata": {}
  },
  {
   "cell_type": "code",
   "execution_count": null,
   "metadata": {},
   "outputs": [],
   "source": [
    " "
   ]
  }
 ]
}