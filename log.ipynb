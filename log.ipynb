{
 "metadata": {
  "language_info": {
   "codemirror_mode": {
    "name": "ipython",
    "version": 3
   },
   "file_extension": ".py",
   "mimetype": "text/x-python",
   "name": "python",
   "nbconvert_exporter": "python",
   "pygments_lexer": "ipython3",
   "version": "3.7.8"
  },
  "orig_nbformat": 2,
  "kernelspec": {
   "name": "python378jvsc74a57bd001de0ae40aa8a02f5dce4eb302558c2ba1e499509f0a7c12e0772621a5681a06",
   "display_name": "Python 3.7.8 64-bit ('env': venv)"
  }
 },
 "nbformat": 4,
 "nbformat_minor": 2,
 "cells": [
  {
   "source": [
    "# notebook: crf_submission"
   ],
   "cell_type": "markdown",
   "metadata": {}
  },
  {
   "source": [
    "## version 14:\n",
    "- score: 0.219\n",
    "- submit all predictions without processing (no '|' in between)\n",
    "- label generation similarity threshold: 80"
   ],
   "cell_type": "markdown",
   "metadata": {}
  },
  {
   "source": [
    "## version 15:\n",
    " - score: 0.38\n",
    " - no label correction, only remove raw duplicates\n",
    " - split predictions that are far from each other using '|'\n",
    " - label generation similarity threshold: 80"
   ],
   "cell_type": "markdown",
   "metadata": {}
  },
  {
   "source": [
    "## version 16:\n",
    "- score: 0.469\n",
    "- Added label correction\n",
    "- set predictions to labels that they are similar with (gt 70)\n",
    "- remove predictions that do not match any label\n",
    "- split predictions that are far from each other using '|'\n",
    "- label generation similarity threshold: 80\n"
   ],
   "cell_type": "markdown",
   "metadata": {}
  },
  {
   "source": [
    "## version 17:\n",
    " - score: 0.411\n",
    " - keep predictions that do not match any label as they are\n",
    " - rest is the same as v16"
   ],
   "cell_type": "markdown",
   "metadata": {}
  },
  {
   "source": [
    "## version 18:\n",
    "- score: 0.445\n",
    "- added string matching\n",
    "- changed prediction join string from ' | ' to '|'"
   ],
   "cell_type": "markdown",
   "metadata": {}
  },
  {
   "source": [
    "## version 21:\n",
    "- score: 0.532\n",
    "- change in 17 rolled back\n",
    "- fixed string matching bug where len(preds) == 0, it didn't work\n",
    "- training labels are generated using exact matches, seems to be improved\n",
    "- training score improved"
   ],
   "cell_type": "markdown",
   "metadata": {}
  },
  {
   "source": [
    "## version 22:\n",
    " - score: low\n",
    " - no string matching\n",
    " - multiple epochs\n",
    " - no augmentation\n",
    " - use predictions without modification"
   ],
   "cell_type": "markdown",
   "metadata": {}
  },
  {
   "source": [
    "## version 23:\n",
    "- score: 0.37\n",
    "- no string matching\n",
    "- 4 epochs, 1 no augmentation, rest with augmentation\n",
    "- use predictions with no modification"
   ],
   "cell_type": "markdown",
   "metadata": {}
  },
  {
   "source": [
    "## version 24:\n",
    "- score: 0.48\n",
    "- string matching, labels sorted from longest to shorted, matches are removed from document (prioritize longer labels)\n",
    "- model same as v23"
   ],
   "cell_type": "markdown",
   "metadata": {}
  },
  {
   "source": [
    "## version 25: (current selection)\n",
    "- score:\n",
    "- same as v24, 12 iterations of hparameter optimization"
   ],
   "cell_type": "markdown",
   "metadata": {}
  }
 ]
}