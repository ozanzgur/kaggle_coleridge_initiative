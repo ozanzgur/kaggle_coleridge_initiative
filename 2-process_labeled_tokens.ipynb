{
 "cells": [
  {
   "cell_type": "code",
   "execution_count": 1,
   "metadata": {},
   "outputs": [],
   "source": [
    "import pandas as pd\n",
    "\n",
    "src_path = 'data/hacizkoyma_coordinates.xlsx'\n",
    "dst_path = 'data/raw_data.csv'\n",
    "\n",
    "hacizkoyma_df = pd.read_excel(src_path)"
   ]
  },
  {
   "cell_type": "markdown",
   "metadata": {},
   "source": [
    "### Drop infrequent labels"
   ]
  },
  {
   "cell_type": "code",
   "execution_count": 2,
   "metadata": {},
   "outputs": [
    {
     "data": {
      "text/plain": [
       "['tal', 'bor ', 'l', 'vbek', ' bor', 'bot']"
      ]
     },
     "execution_count": 2,
     "metadata": {},
     "output_type": "execute_result"
    }
   ],
   "source": [
    "label_counts = hacizkoyma_df.TARGET.value_counts() \n",
    "to_drop = label_counts.loc[label_counts < 10].index.tolist()\n",
    "to_drop"
   ]
  },
  {
   "cell_type": "code",
   "execution_count": 3,
   "metadata": {},
   "outputs": [],
   "source": [
    "mapping = {k: None for k in to_drop}"
   ]
  },
  {
   "cell_type": "code",
   "execution_count": 4,
   "metadata": {},
   "outputs": [],
   "source": [
    "hacizkoyma_df.TARGET = hacizkoyma_df.TARGET.replace(mapping)"
   ]
  },
  {
   "cell_type": "code",
   "execution_count": 5,
   "metadata": {},
   "outputs": [
    {
     "data": {
      "text/plain": [
       "bor     3229\n",
       "kur     1517\n",
       "al      1419\n",
       "avek     939\n",
       "tar      586\n",
       "tut      397\n",
       "dos      321\n",
       "tbor     316\n",
       "vbor     177\n",
       "bvek      36\n",
       "val       11\n",
       "Name: TARGET, dtype: int64"
      ]
     },
     "execution_count": 5,
     "metadata": {},
     "output_type": "execute_result"
    }
   ],
   "source": [
    "hacizkoyma_df.TARGET.value_counts()"
   ]
  },
  {
   "cell_type": "markdown",
   "metadata": {},
   "source": [
    "#### Save label mapping"
   ]
  },
  {
   "cell_type": "code",
   "execution_count": 21,
   "metadata": {},
   "outputs": [],
   "source": [
    "label_mapping = {v: i for i,v in enumerate(hacizkoyma_df.TARGET.value_counts().index)}"
   ]
  },
  {
   "cell_type": "code",
   "execution_count": 22,
   "metadata": {},
   "outputs": [
    {
     "data": {
      "text/plain": [
       "{'bor': 0,\n",
       " 'kur': 1,\n",
       " 'al': 2,\n",
       " 'avek': 3,\n",
       " 'tar': 4,\n",
       " 'tut': 5,\n",
       " 'dos': 6,\n",
       " 'tbor': 7,\n",
       " 'vbor': 8,\n",
       " 'bvek': 9,\n",
       " 'val': 10}"
      ]
     },
     "execution_count": 22,
     "metadata": {},
     "output_type": "execute_result"
    }
   ],
   "source": [
    "label_mapping"
   ]
  },
  {
   "cell_type": "code",
   "execution_count": 23,
   "metadata": {},
   "outputs": [],
   "source": [
    "import json\n",
    "with open('label_mapping.json', 'w') as f:\n",
    "    json.dump(label_mapping, f)"
   ]
  },
  {
   "cell_type": "markdown",
   "metadata": {},
   "source": [
    "### Save dataset"
   ]
  },
  {
   "cell_type": "code",
   "execution_count": 6,
   "metadata": {},
   "outputs": [],
   "source": [
    "# Carry target to newlines\n",
    "prev_target = hacizkoyma_df.TARGET.shift(1)\n",
    "is_newline = hacizkoyma_df.TOKEN == 'NEWLINE'\n",
    "hacizkoyma_df.loc[is_newline, 'TARGET'] = prev_target.loc[is_newline]"
   ]
  },
  {
   "cell_type": "code",
   "execution_count": 7,
   "metadata": {},
   "outputs": [],
   "source": [
    "hacizkoyma_df.FILENAME = hacizkoyma_df.FILENAME.fillna(method = 'ffill')\n",
    "\n",
    "emptyrate = hacizkoyma_df.groupby('FILENAME').apply(lambda x: x.TARGET.isnull().mean())\n",
    "islabeled =  emptyrate != 1.0\n",
    "\n",
    "labeled_docs = list(islabeled[islabeled].index)"
   ]
  },
  {
   "cell_type": "code",
   "execution_count": 8,
   "metadata": {},
   "outputs": [
    {
     "data": {
      "text/plain": [
       "162"
      ]
     },
     "execution_count": 8,
     "metadata": {},
     "output_type": "execute_result"
    }
   ],
   "source": [
    "len(labeled_docs)"
   ]
  },
  {
   "cell_type": "markdown",
   "metadata": {},
   "source": [
    "### Create separate files for test and tr&val"
   ]
  },
  {
   "cell_type": "code",
   "execution_count": 24,
   "metadata": {},
   "outputs": [],
   "source": [
    "\"\"\"import random\n",
    "random.seed(42)\n",
    "\n",
    "train_size = int(len(labeled_docs)*0.7)\n",
    "val_size = int(len(labeled_docs)*0.15)\n",
    "test_size = len(labeled_docs) - train_size - val_size\n",
    "\n",
    "random.shuffle(labeled_docs)\n",
    "test_docs = labeled_docs[-test_size:]\n",
    "trval_docs = labeled_docs[:-test_size]\n",
    "\n",
    "hacizkoyma_df.loc[hacizkoyma_df.FILENAME.isin(trval_docs)].to_csv(dst_path, index = False, header = None)\n",
    "hacizkoyma_df.loc[hacizkoyma_df.FILENAME.isin(test_docs)].to_csv('data/test.csv', index = False, header = None)\n",
    "\"\"\""
   ]
  },
  {
   "cell_type": "markdown",
   "metadata": {},
   "source": [
    "### Save labeled docs"
   ]
  },
  {
   "cell_type": "code",
   "execution_count": 9,
   "metadata": {},
   "outputs": [],
   "source": [
    "hacizkoyma_df.loc[hacizkoyma_df.FILENAME.isin(labeled_docs)].to_csv(dst_path, index = False, header = None)"
   ]
  },
  {
   "cell_type": "markdown",
   "metadata": {},
   "source": [
    "### Show labeled tags"
   ]
  },
  {
   "cell_type": "code",
   "execution_count": 11,
   "metadata": {},
   "outputs": [
    {
     "data": {
      "image/png": "[encoded data removed]",
      "text/plain": [
       "<Figure size 1080x288 with 1 Axes>"
      ]
     },
     "metadata": {
      "needs_background": "light"
     },
     "output_type": "display_data"
    }
   ],
   "source": [
    "import matplotlib.pyplot as plt\n",
    "plt.figure(figsize = (15,4))\n",
    "(~hacizkoyma_df.TARGET.isnull()).astype('int').plot()\n",
    "plt.show()"
   ]
  },
  {
   "cell_type": "markdown",
   "metadata": {},
   "source": [
    "### Show labeled docs"
   ]
  },
  {
   "cell_type": "code",
   "execution_count": 14,
   "metadata": {},
   "outputs": [],
   "source": [
    "emptyrate = hacizkoyma_df.groupby('FILENAME').apply(lambda x: x.TARGET.isnull().mean())\n",
    "islabeled =  emptyrate != 1.0"
   ]
  },
  {
   "cell_type": "code",
   "execution_count": 78,
   "metadata": {},
   "outputs": [
    {
     "data": {
      "text/plain": [
       "0.9132653061224489"
      ]
     },
     "execution_count": 78,
     "metadata": {},
     "output_type": "execute_result"
    }
   ],
   "source": [
    "emptyrate.loc['0a9a7e51-9b1d-4ed5-8469-a0c469054e32.pdf']"
   ]
  },
  {
   "cell_type": "code",
   "execution_count": 75,
   "metadata": {
    "collapsed": true,
    "jupyter": {
     "outputs_hidden": true
    }
   },
   "outputs": [
    {
     "data": {
      "text/plain": [
       "FILENAME\n",
       "00d1996b-e635-4a9f-9769-7e28f22a3c8f.pdf    False\n",
       "0a018113-9ddc-484c-b301-08472e40946d.pdf    False\n",
       "0a031a57-d18f-4b10-8136-d237963d0430.pdf    False\n",
       "0a03254b-967d-48d1-ad71-fcdb1bdf6afb.pdf    False\n",
       "0a043a2a-d1dc-4cca-8fb2-85a4643126c8.pdf    False\n",
       "0a061266-44b8-45b1-8389-6c06a30d7a3c.pdf    False\n",
       "0a0621cf-98cd-41ab-8ad2-2e83980d551c.pdf    False\n",
       "0a10cab9-21b7-416c-8c04-fd6a02ce44f2.pdf    False\n",
       "0a10f441-db91-4093-a8fe-85e37b5cc5a5.pdf    False\n",
       "0a110c1c-688a-4c31-866d-4408473d8a68.pdf    False\n",
       "0a1366ec-b607-4b69-95de-b67bd8648e43.pdf    False\n",
       "0a17f039-c969-4779-892a-78a0668bd73b.pdf    False\n",
       "0a17f63d-9328-4c65-a27e-4863197fe01c.pdf    False\n",
       "0a19b80b-601d-46f5-aa27-315db6b35554.pdf    False\n",
       "0a221490-5075-4809-8c89-b3b16c42de25.pdf    False\n",
       "0a2718f5-4995-43ec-a1af-1cde17447f1e.pdf    False\n",
       "0a2ebfc2-8e82-436a-ac77-5875ee0bdfec.pdf    False\n",
       "0a3109dc-01b0-4bb4-abe4-8016720336e8.pdf    False\n",
       "0a3533b2-7df6-4a58-9890-7607c6ed3858.pdf    False\n",
       "0a35a51a-d6d0-4388-954b-193ba7ca6292.pdf    False\n",
       "0a379763-4102-4ff2-b69b-78e00b5d67fb.pdf    False\n",
       "0a409687-bcad-4c0c-8870-20bf0598fcfd.pdf    False\n",
       "0a411c2c-ab27-416b-927c-a2b7072fcc90.pdf    False\n",
       "0a416fe3-8a6e-4efd-b6cf-c6b0aecd1351.pdf    False\n",
       "0a431d74-daee-4119-a82a-237da4e9b739.pdf    False\n",
       "0a43eb9b-96f8-46fa-9f3e-434118a0c2af.pdf    False\n",
       "0a4550ce-0ec2-44ed-b4c8-4e7ca84dea73.pdf    False\n",
       "0a458fad-e0b7-40a8-86eb-b366c69a7c0b.pdf    False\n",
       "0a46b358-9a0f-4eb9-8838-ed9fc7912355.pdf    False\n",
       "0a51b896-f98b-4533-a6d2-4096e9be2591.pdf    False\n",
       "0a5382bd-4031-4257-9624-906460535ca0.pdf    False\n",
       "0a556136-2181-476a-8259-691831abf800.pdf    False\n",
       "0a5664a0-5122-4523-8db3-7676bf15b087.pdf    False\n",
       "0a57c81c-50d6-4fcb-a937-6d2358004506.pdf    False\n",
       "0a601525-58ef-481e-89e8-d623c2bdc3a5.pdf    False\n",
       "0a611a9e-01a7-4f4c-acbc-0447d88a15fb.pdf    False\n",
       "0a6732f5-7d18-4351-86a2-39fd82d76104.pdf    False\n",
       "0a6f6044-d390-48db-bef3-96b74f43d672.pdf    False\n",
       "0a715855-f4f3-4ad7-bb6a-e0d68d8f697d.pdf    False\n",
       "0a716854-0d61-43a5-839c-f8a9e9a4b2a2.pdf    False\n",
       "0a71e28d-648f-4967-b149-f090626ecadd.pdf    False\n",
       "0a73396d-0e79-47b9-a152-dfe7738189ab.pdf    False\n",
       "0a778437-4334-4c32-8853-5e3730196bfe.pdf    False\n",
       "0a78c5bc-deda-46a4-a7ab-03207c80a767.pdf    False\n",
       "0a78caae-ad59-490d-9cd6-4035659d3ef2.pdf    False\n",
       "0a80e692-9c95-4472-9f79-6c7c8bdc0c15.pdf    False\n",
       "0a81b472-e381-4d04-9d3a-2c8a978a652c.pdf    False\n",
       "0a81b997-98b9-43f0-9eef-d29aa42b0e2a.pdf    False\n",
       "0a83c0de-f34b-42fe-ab0c-94c5b51ea36a.pdf    False\n",
       "0a877dde-1b9a-4303-8925-1af9213e7c66.pdf    False\n",
       "0a899334-b51f-4546-8cb9-130360679171.pdf    False\n",
       "0a91dea4-63fa-4545-82f8-c4a4c56d82e8.pdf    False\n",
       "0a921df8-97fd-4ff5-8bf0-046cd2fc2ec5.pdf    False\n",
       "0a96664e-2d9a-4f1a-b6bf-3ec57965f3e0.pdf    False\n",
       "0a97754f-3850-4170-b852-550a39750697.pdf    False\n",
       "dtype: bool"
      ]
     },
     "execution_count": 75,
     "metadata": {},
     "output_type": "execute_result"
    }
   ],
   "source": [
    "islabeled[islabeled == False]"
   ]
  },
  {
   "cell_type": "code",
   "execution_count": 15,
   "metadata": {},
   "outputs": [
    {
     "data": {
      "text/plain": [
       "<matplotlib.collections.PathCollection at 0x1f6e529c128>"
      ]
     },
     "execution_count": 15,
     "metadata": {},
     "output_type": "execute_result"
    },
    {
     "data": {
      "image/png": "[encoded data removed]",
      "text/plain": [
       "<Figure size 1440x360 with 1 Axes>"
      ]
     },
     "metadata": {
      "needs_background": "light"
     },
     "output_type": "display_data"
    }
   ],
   "source": [
    "import numpy as np\n",
    "\n",
    "plt.figure(figsize = (20,5))\n",
    "plt.scatter(x = np.arange(len(islabeled)), y = islabeled.astype(int).values)"
   ]
  },
  {
   "cell_type": "code",
   "execution_count": null,
   "metadata": {},
   "outputs": [],
   "source": []
  }
 ],
 "metadata": {
  "kernelspec": {
   "display_name": "Python 3",
   "language": "python",
   "name": "python3"
  },
  "language_info": {
   "codemirror_mode": {
    "name": "ipython",
    "version": 3
   },
   "file_extension": ".py",
   "mimetype": "text/x-python",
   "name": "python",
   "nbconvert_exporter": "python",
   "pygments_lexer": "ipython3",
   "version": "3.6.7"
  }
 },
 "nbformat": 4,
 "nbformat_minor": 4
}
