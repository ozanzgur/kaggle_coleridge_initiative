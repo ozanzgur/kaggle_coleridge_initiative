{
 "metadata": {
  "language_info": {
   "codemirror_mode": {
    "name": "ipython",
    "version": 3
   },
   "file_extension": ".py",
   "mimetype": "text/x-python",
   "name": "python",
   "nbconvert_exporter": "python",
   "pygments_lexer": "ipython3",
   "version": "3.8.8"
  },
  "orig_nbformat": 2,
  "kernelspec": {
   "name": "python388jvsc74a57bd01b4c7016e99d31c2e7c892573dc93dbd4548eb0a0f5dca22fbf3a690830b4e66",
   "display_name": "Python 3.8.8 64-bit ('torch': conda)"
  }
 },
 "nbformat": 4,
 "nbformat_minor": 2,
 "cells": [
  {
   "source": [
    "TODO:\n",
    "- Adjust fuzz ratio to catch all labels"
   ],
   "cell_type": "markdown",
   "metadata": {}
  },
  {
   "cell_type": "code",
   "execution_count": 1,
   "metadata": {},
   "outputs": [],
   "source": [
    "import json\n",
    "import pandas as pd\n",
    "import numpy as np\n",
    "import matplotlib.pyplot as plt\n",
    "import glob\n",
    "import os\n",
    "import re\n",
    "import seaborn as sns\n",
    "from tqdm import tqdm\n",
    "\n",
    "train_example_paths = glob.glob('data/train/*.json')\n",
    "test_example_paths = glob.glob('data/test/*.json')\n",
    "\n",
    "train_example_names = [fn.split('.')[0] for fn in os.listdir('data/train')]\n",
    "test_example_names = [fn.split('.')[0] for fn in os.listdir('data/test')]\n",
    "\n",
    "metadata = pd.read_csv('data/train.csv')\n",
    "metadata_train = metadata.loc[metadata.Id.isin(train_example_names)]\n",
    "metadata_test = metadata.loc[metadata.Id.isin(test_example_names)]\n",
    "\n",
    "metadata = pd.read_csv('data/train.csv')\n",
    "metadata_train = metadata.loc[metadata.Id.isin(train_example_names)]\n",
    "metadata_test = metadata.loc[metadata.Id.isin(test_example_names)]"
   ]
  },
  {
   "cell_type": "code",
   "execution_count": 2,
   "metadata": {},
   "outputs": [],
   "source": [
    "def clean_text(txt):\n",
    "    return re.sub('[^A-Za-z0-9]+', ' ', str(txt).lower())\n",
    "\n",
    "def remove_punc(txt):\n",
    "    return re.sub('[^A-Za-z0-9]+', ' ', str(txt))\n",
    "\n",
    "def get_doc_id(doc_path):\n",
    "    return os.path.split(train_example_names[0])[-1].split('.')[0]\n",
    "\n",
    "def load_train_example(i: int):\n",
    "    doc_path = train_example_paths[i]\n",
    "    with open(doc_path) as f:\n",
    "        data = json.load(f)\n",
    "    return {'doc': data, 'meta': metadata.loc[metadata.Id == get_doc_id(doc_path)]}\n",
    "\n",
    "def load_train_example_by_name(name):\n",
    "    doc_path = os.path.join('data/train', name + '.json')\n",
    "    with open(doc_path) as f:\n",
    "        data = json.load(f)\n",
    "    return data\n",
    "\n",
    "def delete_file(filename):\n",
    "    if os.path.exists(filename):\n",
    "        os.remove(filename)"
   ]
  },
  {
   "cell_type": "code",
   "execution_count": 3,
   "metadata": {},
   "outputs": [],
   "source": [
    "import random\n",
    "\n",
    "docIdx = train_example_names.copy()"
   ]
  },
  {
   "source": [
    "## Generate Dataset and Features"
   ],
   "cell_type": "markdown",
   "metadata": {}
  },
  {
   "cell_type": "code",
   "execution_count": 4,
   "metadata": {},
   "outputs": [],
   "source": [
    "def preprocess_tokenize_doc(doc_json):\n",
    "    doc_text = ' '.join([remove_punc(sec['text']) for sec in doc_json])\n",
    "    doc_text = make_single_whitespace(doc_text)\n",
    "    \n",
    "    doc_tokens = doc_text.split(' ')\n",
    "    return doc_tokens\n",
    "\n",
    "def indices(lst, element):\n",
    "    result = [i for i, token in enumerate(lst) if element in token]\n",
    "    return result\n",
    "\n",
    "_RE_COMBINE_WHITESPACE = re.compile(r\"\\s+\")\n",
    "def make_single_whitespace(text):\n",
    "    return _RE_COMBINE_WHITESPACE.sub(\" \", text).strip()"
   ]
  },
  {
   "source": [
    "## Create dataframe for tokens and targets"
   ],
   "cell_type": "markdown",
   "metadata": {}
  },
  {
   "cell_type": "code",
   "execution_count": 9,
   "metadata": {},
   "outputs": [],
   "source": [
    "def get_doc(doc_id, reduce_tokens = False, reduce_size = 150):\n",
    "    doc_labels = list(metadata_train.loc[metadata_train.Id == doc_id, 'dataset_label'].values)\n",
    "    doc_labels = [make_single_whitespace(remove_punc(l.strip())).lower() for l in doc_labels]\n",
    "\n",
    "    doc = load_train_example_by_name(doc_id)\n",
    "    doc_tokens = preprocess_tokenize_doc(doc)\n",
    "    doc_tokens_lower = [t.lower() for t in doc_tokens]\n",
    "    \n",
    "    # Targets for dataset names will be 1\n",
    "    target_arr = np.zeros(len(doc_tokens) ,dtype = 'uint8')\n",
    "\n",
    "    # Keep n tokens before and after targets\n",
    "    keep_df = pd.Series(np.zeros(len(doc_tokens), dtype = 'bool'))\n",
    "\n",
    "    for l in doc_labels:\n",
    "        n_label_tokens = len(l.split(' '))\n",
    "        doc_tokens_joined = [' '.join(doc_tokens_lower[i:i+n_label_tokens]) for i in range(len(doc_tokens_lower) - n_label_tokens + 1)]\n",
    "        \n",
    "        occurrences = indices(doc_tokens_joined, l)\n",
    "\n",
    "        assert len(occurrences) != 0, f'Label {l} not found in doc {doc_id}'\n",
    "        for o in occurrences:\n",
    "            if reduce_tokens:\n",
    "                keep_start = max(0, o - reduce_size)\n",
    "                keep_end = min(o + reduce_size + n_label_tokens, len(doc_tokens))\n",
    "                keep_df[keep_start: keep_end] = True\n",
    "            for i in range(n_label_tokens):\n",
    "                target_arr[o + i] = 1\n",
    "\n",
    "    doc_df = pd.DataFrame()\n",
    "    doc_df['TOKEN'] = doc_tokens\n",
    "    doc_df['TARGET'] = target_arr\n",
    "    doc_df['TARGET'] = doc_df['TARGET'].astype('str')\n",
    "    if reduce_tokens:\n",
    "        doc_df = doc_df.loc[keep_df]\n",
    "\n",
    "    return doc_df"
   ]
  },
  {
   "cell_type": "code",
   "execution_count": 10,
   "metadata": {},
   "outputs": [
    {
     "output_type": "stream",
     "name": "stderr",
     "text": [
      "100%|██████████| 3/3 [00:00<00:00, 69.78it/s]\n"
     ]
    }
   ],
   "source": [
    "for doc_id in tqdm(docIdx):\n",
    "    doc_df = get_doc(docIdx[0])\n",
    "    doc_df.to_csv(f'data/processed_data/{doc_id}.csv', index= False)"
   ]
  },
  {
   "cell_type": "code",
   "execution_count": 6,
   "metadata": {},
   "outputs": [],
   "source": []
  },
  {
   "cell_type": "code",
   "execution_count": null,
   "metadata": {},
   "outputs": [],
   "source": []
  }
 ]
}