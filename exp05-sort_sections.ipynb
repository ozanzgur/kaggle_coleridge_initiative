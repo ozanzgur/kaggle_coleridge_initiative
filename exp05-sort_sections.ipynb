{
 "metadata": {
  "language_info": {
   "codemirror_mode": {
    "name": "ipython",
    "version": 3
   },
   "file_extension": ".py",
   "mimetype": "text/x-python",
   "name": "python",
   "nbconvert_exporter": "python",
   "pygments_lexer": "ipython3",
   "version": "3.8.8"
  },
  "orig_nbformat": 2,
  "kernelspec": {
   "name": "python388jvsc74a57bd01b4c7016e99d31c2e7c892573dc93dbd4548eb0a0f5dca22fbf3a690830b4e66",
   "display_name": "Python 3.8.8 64-bit ('torch': conda)"
  },
  "metadata": {
   "interpreter": {
    "hash": "e68e0ea63623fb9ac5793b248651fce59782b1ca0d072c96c440758c36acff31"
   }
  }
 },
 "nbformat": 4,
 "nbformat_minor": 2,
 "cells": [
  {
   "cell_type": "code",
   "execution_count": 1,
   "metadata": {},
   "outputs": [
    {
     "output_type": "stream",
     "name": "stderr",
     "text": [
      "[nltk_data] Downloading package punkt to\n[nltk_data]     C:\\Users\\ozano\\AppData\\Roaming\\nltk_data...\n[nltk_data]   Package punkt is already up-to-date!\n"
     ]
    }
   ],
   "source": [
    "import json\n",
    "import pandas as pd\n",
    "import numpy as np\n",
    "import glob\n",
    "import os\n",
    "import re\n",
    "from tqdm import tqdm\n",
    "import nltk\n",
    "import random\n",
    "from nltk.tokenize import word_tokenize,sent_tokenize\n",
    "\n",
    "train_example_paths = glob.glob('data/train/*.json')\n",
    "train_example_names = [fn.split('.')[0] for fn in os.listdir('data/train')]\n",
    "\n",
    "metadata = pd.read_csv('data/train.csv')\n",
    "docIdx = train_example_names.copy()\n",
    "\n",
    "import string\n",
    "\n",
    "##### STEP 1: Make a list of the known labels provided to us\n",
    "\n",
    "temp_1 = [text_cleaning(x) for x in metadata['dataset_label']]\n",
    "temp_2 = [text_cleaning(x) for x in metadata['dataset_title']]\n",
    "temp_3 = [text_cleaning(x) for x in metadata['cleaned_label']]\n",
    "\n",
    "existing_labels = temp_1 + temp_2 + temp_3\n",
    "existing_labels = [l.lower() for l in existing_labels]\n",
    "existing_labels = list(set(existing_labels))\n",
    "\n",
    "# Sort labels by length in descending order\n",
    "existing_labels = sorted(existing_labels, key = len, reverse= True)"
   ]
  },
  {
   "cell_type": "code",
   "execution_count": 3,
   "metadata": {},
   "outputs": [],
   "source": [
    "def load_train_example_by_name(name):\n",
    "    doc_path = os.path.join('data/train', name + '.json')\n",
    "    with open(doc_path) as f:\n",
    "        data = json.load(f)\n",
    "    return data\n",
    "\n",
    "def text_cleaning(text):\n",
    "    text = re.sub('[^A-Za-z0-9]+', ' ', str(text)).strip() # remove unnecessary literals\n",
    "\n",
    "    text = re.sub(r'\\[[0-9]+]', ' specialreference ', text)\n",
    "\n",
    "    # Remove years\n",
    "    text = re.sub(r'(19|20)[0-9][0-9]', ' specialyear ', text)\n",
    "\n",
    "    # remove other digits\n",
    "    text = re.sub(r'\\d+', ' ', text)\n",
    "\n",
    "    # remove extra spaces\n",
    "    text = re.sub(\"\\s+\",\" \", text)\n",
    "\n",
    "    # Remove websites\n",
    "    text = ' '.join(['specialwebsite' if 'http' in t or 'www' in t else t for t in text.split(' ') ])\n",
    "\n",
    "    return text.lower()"
   ]
  },
  {
   "source": [
    "## Extract Information"
   ],
   "cell_type": "markdown",
   "metadata": {}
  },
  {
   "cell_type": "code",
   "execution_count": 5,
   "metadata": {},
   "outputs": [],
   "source": [
    "pos_sentences = []\n",
    "neg_sentences = []\n",
    "doc_label_section_idx = []\n",
    "doc_label_sentence_idx = []\n",
    "doc_label_list = []\n",
    "first_label_sec_name = []\n",
    "first_labels = []\n",
    "n_secs = []\n",
    "\n",
    "def process_doc(doc_id):\n",
    "    doc_json = load_train_example_by_name(doc_id)\n",
    "    this_doc_label_section_idx = []\n",
    "    this_doc_label_sentence_idx = []\n",
    "    this_doc_label_list = []\n",
    "    i_doc_sent = -1\n",
    "    doc_first_label = True\n",
    "    n_secs.append(len(doc_json))\n",
    "\n",
    "    for i_sec, section in enumerate(doc_json):\n",
    "        \n",
    "        sentences = sent_tokenize(section['text'])\n",
    "\n",
    "        adni_count = 0\n",
    "        for sentence in sentences:\n",
    "            i_doc_sent += 1\n",
    "            clean_sentence = text_cleaning(sentence)\n",
    "\n",
    "            has_label = False\n",
    "            label_is_adni = False\n",
    "            for clean_label in existing_labels:\n",
    "                if clean_label in clean_sentence:\n",
    "                    if doc_first_label:\n",
    "                        first_label_sec_name.append(section['section_title'])\n",
    "                        first_labels.append(clean_label)\n",
    "                        doc_first_label = False\n",
    "\n",
    "                    has_label = True\n",
    "                    this_doc_label_section_idx.append(i_sec)\n",
    "                    this_doc_label_sentence_idx.append(i_doc_sent)\n",
    "                    this_doc_label_list.append(clean_label)\n",
    "                    clean_sentence = clean_sentence.replace(clean_label, '')\n",
    "\n",
    "    doc_label_section_idx.append(this_doc_label_section_idx)\n",
    "    doc_label_sentence_idx.append(this_doc_label_sentence_idx)\n",
    "    doc_label_list.append(this_doc_label_list)\n",
    "    if doc_first_label:\n",
    "        first_label_sec_name.append('NOT FOUND')\n",
    "        first_labels.append('NOT FOUND')"
   ]
  },
  {
   "cell_type": "code",
   "execution_count": 7,
   "metadata": {},
   "outputs": [
    {
     "output_type": "stream",
     "name": "stderr",
     "text": [
      "100%|██████████| 14316/14316 [08:34<00:00, 27.82it/s]\n",
      "pos size: 0\n",
      "neg size: 0\n",
      "\n"
     ]
    }
   ],
   "source": [
    "for doc_id in tqdm(docIdx):\n",
    "    process_doc(doc_id)"
   ]
  },
  {
   "source": [
    "## Get Section Title Info"
   ],
   "cell_type": "markdown",
   "metadata": {}
  },
  {
   "cell_type": "code",
   "execution_count": 81,
   "metadata": {},
   "outputs": [],
   "source": [
    "def process_sec_name(text):\n",
    "    text = re.sub('[^A-Za-z]+', ' ', str(text)).strip() # remove unnecessary literals\n",
    "\n",
    "    # remove extra spaces\n",
    "    text = re.sub(\"\\s+\",\" \", text)\n",
    "\n",
    "    text = ' '.join([t for t in text.split(' ') if len(t) > 1])\n",
    "\n",
    "    return text.lower()\n",
    "\n",
    "section_order = pd.Series(first_label_sec_name).value_counts().to_frame().reset_index()\n",
    "section_order.columns = ['sec_name', 'cnt']\n",
    "\n",
    "section_order.sec_name = section_order.sec_name.apply(lambda x: process_sec_name(x))\n",
    "section_order = section_order.groupby('sec_name')['cnt'].sum().to_frame().reset_index()\n",
    "section_order.columns = ['sec_name', 'cnt']\n",
    "section_order = section_order.loc[section_order.sec_name.str.len() > 0]\n",
    "\n",
    "# Consolidate entries that contain 'data'\n",
    "sec_cons = section_order.sec_name.str.contains('data') | section_order.sec_name.str.contains('sample')\n",
    "count_sum_data = section_order.loc[sec_cons, 'cnt'].sum()\n",
    "section_order = section_order.loc[~sec_cons].reset_index(drop = True)\n",
    "section_order.loc[len(section_order)] = ['data', count_sum_data]\n",
    "\n",
    "section_order = section_order.loc[section_order.cnt > 10]\n",
    "section_order = section_order.sort_values(by = 'cnt', ascending= False).reset_index(drop = True)\n",
    "\n",
    "section_order.to_csv('data/section_order.csv', index = False)"
   ]
  },
  {
   "cell_type": "code",
   "execution_count": 82,
   "metadata": {},
   "outputs": [
    {
     "output_type": "execute_result",
     "data": {
      "text/plain": [
       "                                  sec_name   cnt\n",
       "0                             introduction  2176\n",
       "1                                     data  1784\n",
       "2                                 abstract  1656\n",
       "3                               discussion   469\n",
       "4                                  methods   238\n",
       "5                               background   128\n",
       "6                    materials and methods   109\n",
       "7                             participants   101\n",
       "8                                  results    95\n",
       "9                                 subjects    70\n",
       "10                                measures    57\n",
       "11                       executive summary    46\n",
       "12                              conclusion    44\n",
       "13                       literature review    43\n",
       "14             how was the study conducted    37\n",
       "15                             conclusions    32\n",
       "16                                  method    31\n",
       "17                             methodology    30\n",
       "18                  results and discussion    24\n",
       "19                          breeding range    22\n",
       "20                        study population    20\n",
       "21                             experiments    19\n",
       "22                                foreword    18\n",
       "23                                 summary    18\n",
       "24  which was not certified by peer review    16\n",
       "25                            study design    15\n",
       "26                               variables    15\n",
       "27                         mri acquisition    15\n",
       "28                                overview    15\n",
       "29                              study area    15\n",
       "30                                  figure    14\n",
       "31                     method participants    14\n",
       "32                              covariates    13\n",
       "33                    material and methods    13\n",
       "34                        ethics statement    13\n",
       "35                    statistical analysis    12\n",
       "36                 experiments and results    12\n",
       "37                      scanning procedure    11\n",
       "38                               materials    11\n",
       "39                         acknowledgments    11"
      ],
      "text/html": "<div>\n<style scoped>\n    .dataframe tbody tr th:only-of-type {\n        vertical-align: middle;\n    }\n\n    .dataframe tbody tr th {\n        vertical-align: top;\n    }\n\n    .dataframe thead th {\n        text-align: right;\n    }\n</style>\n<table border=\"1\" class=\"dataframe\">\n  <thead>\n    <tr style=\"text-align: right;\">\n      <th></th>\n      <th>sec_name</th>\n      <th>cnt</th>\n    </tr>\n  </thead>\n  <tbody>\n    <tr>\n      <th>0</th>\n      <td>introduction</td>\n      <td>2176</td>\n    </tr>\n    <tr>\n      <th>1</th>\n      <td>data</td>\n      <td>1784</td>\n    </tr>\n    <tr>\n      <th>2</th>\n      <td>abstract</td>\n      <td>1656</td>\n    </tr>\n    <tr>\n      <th>3</th>\n      <td>discussion</td>\n      <td>469</td>\n    </tr>\n    <tr>\n      <th>4</th>\n      <td>methods</td>\n      <td>238</td>\n    </tr>\n    <tr>\n      <th>5</th>\n      <td>background</td>\n      <td>128</td>\n    </tr>\n    <tr>\n      <th>6</th>\n      <td>materials and methods</td>\n      <td>109</td>\n    </tr>\n    <tr>\n      <th>7</th>\n      <td>participants</td>\n      <td>101</td>\n    </tr>\n    <tr>\n      <th>8</th>\n      <td>results</td>\n      <td>95</td>\n    </tr>\n    <tr>\n      <th>9</th>\n      <td>subjects</td>\n      <td>70</td>\n    </tr>\n    <tr>\n      <th>10</th>\n      <td>measures</td>\n      <td>57</td>\n    </tr>\n    <tr>\n      <th>11</th>\n      <td>executive summary</td>\n      <td>46</td>\n    </tr>\n    <tr>\n      <th>12</th>\n      <td>conclusion</td>\n      <td>44</td>\n    </tr>\n    <tr>\n      <th>13</th>\n      <td>literature review</td>\n      <td>43</td>\n    </tr>\n    <tr>\n      <th>14</th>\n      <td>how was the study conducted</td>\n      <td>37</td>\n    </tr>\n    <tr>\n      <th>15</th>\n      <td>conclusions</td>\n      <td>32</td>\n    </tr>\n    <tr>\n      <th>16</th>\n      <td>method</td>\n      <td>31</td>\n    </tr>\n    <tr>\n      <th>17</th>\n      <td>methodology</td>\n      <td>30</td>\n    </tr>\n    <tr>\n      <th>18</th>\n      <td>results and discussion</td>\n      <td>24</td>\n    </tr>\n    <tr>\n      <th>19</th>\n      <td>breeding range</td>\n      <td>22</td>\n    </tr>\n    <tr>\n      <th>20</th>\n      <td>study population</td>\n      <td>20</td>\n    </tr>\n    <tr>\n      <th>21</th>\n      <td>experiments</td>\n      <td>19</td>\n    </tr>\n    <tr>\n      <th>22</th>\n      <td>foreword</td>\n      <td>18</td>\n    </tr>\n    <tr>\n      <th>23</th>\n      <td>summary</td>\n      <td>18</td>\n    </tr>\n    <tr>\n      <th>24</th>\n      <td>which was not certified by peer review</td>\n      <td>16</td>\n    </tr>\n    <tr>\n      <th>25</th>\n      <td>study design</td>\n      <td>15</td>\n    </tr>\n    <tr>\n      <th>26</th>\n      <td>variables</td>\n      <td>15</td>\n    </tr>\n    <tr>\n      <th>27</th>\n      <td>mri acquisition</td>\n      <td>15</td>\n    </tr>\n    <tr>\n      <th>28</th>\n      <td>overview</td>\n      <td>15</td>\n    </tr>\n    <tr>\n      <th>29</th>\n      <td>study area</td>\n      <td>15</td>\n    </tr>\n    <tr>\n      <th>30</th>\n      <td>figure</td>\n      <td>14</td>\n    </tr>\n    <tr>\n      <th>31</th>\n      <td>method participants</td>\n      <td>14</td>\n    </tr>\n    <tr>\n      <th>32</th>\n      <td>covariates</td>\n      <td>13</td>\n    </tr>\n    <tr>\n      <th>33</th>\n      <td>material and methods</td>\n      <td>13</td>\n    </tr>\n    <tr>\n      <th>34</th>\n      <td>ethics statement</td>\n      <td>13</td>\n    </tr>\n    <tr>\n      <th>35</th>\n      <td>statistical analysis</td>\n      <td>12</td>\n    </tr>\n    <tr>\n      <th>36</th>\n      <td>experiments and results</td>\n      <td>12</td>\n    </tr>\n    <tr>\n      <th>37</th>\n      <td>scanning procedure</td>\n      <td>11</td>\n    </tr>\n    <tr>\n      <th>38</th>\n      <td>materials</td>\n      <td>11</td>\n    </tr>\n    <tr>\n      <th>39</th>\n      <td>acknowledgments</td>\n      <td>11</td>\n    </tr>\n  </tbody>\n</table>\n</div>"
     },
     "metadata": {},
     "execution_count": 82
    }
   ],
   "source": [
    "section_order"
   ]
  },
  {
   "source": [
    "## Sort Sections"
   ],
   "cell_type": "markdown",
   "metadata": {}
  },
  {
   "cell_type": "code",
   "execution_count": 84,
   "metadata": {},
   "outputs": [
    {
     "output_type": "execute_result",
     "data": {
      "text/plain": [
       "[{'section_title': 'Introduction', 'score': 2176},\n",
       " {'section_title': 'Data Analysis and Statistics', 'score': 1784},\n",
       " {'section_title': 'Abstract', 'score': 1656},\n",
       " {'section_title': 'Discussion', 'score': 493},\n",
       " {'section_title': 'Results', 'score': 131},\n",
       " {'section_title': 'Characteristics of Participants Survey at 3-months N (%)',\n",
       "  'score': 101},\n",
       " {'section_title': 'Conclusion', 'score': 76},\n",
       " {'section_title': 'Methodology', 'score': 61},\n",
       " {'section_title': 'Study Design', 'score': 15},\n",
       " {'section_title': 'English and ICT', 'score': 0},\n",
       " {'section_title': 'Lebanon', 'score': 0},\n",
       " {'section_title': 'Gender Inequality in Lebanon', 'score': 0},\n",
       " {'section_title': \"Lebanon's ICT Sector\", 'score': 0},\n",
       " {'section_title': 'DOT Lebanon ICT Training Program', 'score': 0},\n",
       " {'section_title': 'Study Procedure', 'score': 0},\n",
       " {'section_title': 'Limitations', 'score': 0},\n",
       " {'section_title': 'Income Generation Opportunity Status', 'score': 0},\n",
       " {'section_title': 'Gender Inequality', 'score': 0},\n",
       " {'section_title': 'English Reading Proficiency', 'score': 0},\n",
       " {'section_title': 'Governorate Disparities', 'score': 0}]"
      ]
     },
     "metadata": {},
     "execution_count": 84
    }
   ],
   "source": [
    "def sort_doc_sections(doc_secs):\n",
    "    # doc_secs must be a list of dicts with field'section_title'\n",
    "    for sec in doc_secs:\n",
    "        section_title = process_sec_name(sec['section_title'])\n",
    "        sec_scores = section_order.loc[section_order.sec_name.str.contains(section_title) |\\\n",
    "                                      section_order.sec_name.apply(lambda x: x in section_title), 'cnt']\n",
    "        # sum scores of all matches\n",
    "        result_score = sec_scores.sum() if len(sec_scores) > 0 else 0\n",
    "\n",
    "        sec['score'] = result_score\n",
    "\n",
    "    return sorted(doc_secs, key = lambda x: x['score'], reverse= True)"
   ]
  },
  {
   "cell_type": "code",
   "execution_count": 76,
   "metadata": {},
   "outputs": [],
   "source": [
    "doc_json = load_train_example_by_name(train_example_names[0])\n",
    "doc_json = [{'section_title': s['section_title']} for s in doc_json]"
   ]
  },
  {
   "cell_type": "code",
   "execution_count": 85,
   "metadata": {},
   "outputs": [
    {
     "output_type": "execute_result",
     "data": {
      "text/plain": [
       "[{'section_title': 'Introduction', 'score': 2176},\n",
       " {'section_title': 'Data Analysis and Statistics', 'score': 1784},\n",
       " {'section_title': 'Abstract', 'score': 1656},\n",
       " {'section_title': 'Discussion', 'score': 493},\n",
       " {'section_title': 'Results', 'score': 131},\n",
       " {'section_title': 'Characteristics of Participants Survey at 3-months N (%)',\n",
       "  'score': 101},\n",
       " {'section_title': 'Conclusion', 'score': 76},\n",
       " {'section_title': 'Methodology', 'score': 61},\n",
       " {'section_title': 'Study Design', 'score': 15},\n",
       " {'section_title': 'English and ICT', 'score': 0},\n",
       " {'section_title': 'Lebanon', 'score': 0},\n",
       " {'section_title': 'Gender Inequality in Lebanon', 'score': 0},\n",
       " {'section_title': \"Lebanon's ICT Sector\", 'score': 0},\n",
       " {'section_title': 'DOT Lebanon ICT Training Program', 'score': 0},\n",
       " {'section_title': 'Study Procedure', 'score': 0},\n",
       " {'section_title': 'Limitations', 'score': 0},\n",
       " {'section_title': 'Income Generation Opportunity Status', 'score': 0},\n",
       " {'section_title': 'Gender Inequality', 'score': 0},\n",
       " {'section_title': 'English Reading Proficiency', 'score': 0},\n",
       " {'section_title': 'Governorate Disparities', 'score': 0}]"
      ]
     },
     "metadata": {},
     "execution_count": 85
    }
   ],
   "source": [
    "sort_doc_sections(doc_json)"
   ]
  },
  {
   "cell_type": "code",
   "execution_count": null,
   "metadata": {},
   "outputs": [],
   "source": []
  }
 ]
}