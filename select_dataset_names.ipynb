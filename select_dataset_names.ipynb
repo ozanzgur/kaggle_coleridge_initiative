{
 "cells": [
  {
   "cell_type": "code",
   "execution_count": 11,
   "id": "needed-waters",
   "metadata": {},
   "outputs": [],
   "source": [
    "from tqdm import tqdm\n",
    "import unidecode\n",
    "import re\n",
    "\n",
    "match_puncs_re = r\"([.,!?()\\-;\\[\\]+\\\\\\/@:<>#_{}&%'*=\" + r'\"' + r\"|])\"\n",
    "match_puncs_re = re.compile(match_puncs_re)\n",
    "\n",
    "def jaccard(str1, str2):\n",
    "    try:\n",
    "        a = set(str1.lower().split()) \n",
    "        b = set(str2.lower().split())\n",
    "        c = a.intersection(b)\n",
    "        return float(len(c)) / (len(a) + len(b) - len(c))\n",
    "    except Exception as e:\n",
    "        print(f'Error in jaccard: {str1}, {str2}')\n",
    "        raise e\n",
    "        \n",
    "def text_cleaning_for_bert(text):\n",
    "    # Keeps puncs, pads them with whitespaces\n",
    "    text = text.replace('^', ' ')\n",
    "    text = unidecode.unidecode(text)\n",
    "    \n",
    "    text = re.sub(r'\\[[0-9]+]', ' SpecialReference ', text)\n",
    "    \n",
    "    # Remove years\n",
    "    text = re.sub(r'(19|20)[0-9][0-9]', ' SpecialYear ', text)\n",
    "    \n",
    "    # remove other digits\n",
    "    text = re.sub(r'\\d+', ' ', text)\n",
    "    \n",
    "    # Remove websites\n",
    "    text = ' '.join(['SpecialWebsite' if 'http' in t or 'www' in t else t for t in text.split(' ') ])\n",
    "\n",
    "    text = match_puncs_re.sub(r' \\1 ', text)\n",
    "\n",
    "    # remove extra spaces\n",
    "    text = re.sub(\"\\s+\",\" \", text)\n",
    "\n",
    "    return text.strip()\n",
    "\n",
    "with open('data/dataset_names.txt', 'r', encoding = 'utf-8') as f:\n",
    "    names = f.readlines()\n",
    "    names = [text_cleaning_for_bert(l) for l in names]"
   ]
  },
  {
   "cell_type": "code",
   "execution_count": 12,
   "id": "secondary-reach",
   "metadata": {},
   "outputs": [
    {
     "data": {
      "text/plain": [
       "'AIRS / Aqua L Monthly Standard Physical Retrieval ( AIRS + AMSU ) degree x degree V ( AIRX STM ) at GES DISC'"
      ]
     },
     "execution_count": 12,
     "metadata": {},
     "output_type": "execute_result"
    }
   ],
   "source": [
    "names[3000]"
   ]
  },
  {
   "cell_type": "code",
   "execution_count": 32,
   "id": "downtown-action",
   "metadata": {},
   "outputs": [],
   "source": [
    "# Get names that are:\n",
    "# Longer than 3 tokens\n",
    "# Shorter than 25 tokens (Some are too long)\n",
    "# Not fully uppercase\n",
    "\n",
    "def use_name(n):\n",
    "    return len(n.split(' ')) > 3 and len(n.split(' ')) < 25 and not n.isupper()"
   ]
  },
  {
   "cell_type": "code",
   "execution_count": 33,
   "id": "raising-reading",
   "metadata": {},
   "outputs": [
    {
     "name": "stderr",
     "output_type": "stream",
     "text": [
      "unique_names: 20553: 100%|███████████████████████████████████████████████████| 275227/275227 [1:40:45<00:00, 45.52it/s]\n"
     ]
    }
   ],
   "source": [
    "unique_names = []\n",
    "\n",
    "pbar = tqdm(names)\n",
    "for name in pbar:\n",
    "    if not use_name(name):\n",
    "        continue\n",
    "    \n",
    "    has_similar = False\n",
    "    for unique_name in unique_names:\n",
    "        if jaccard(name, unique_name) >= 0.3:\n",
    "            has_similar = True\n",
    "            break\n",
    "\n",
    "    if not has_similar:\n",
    "        unique_names.append(name)\n",
    "        \n",
    "    pbar.set_description(f'unique_names: {len(unique_names)}')"
   ]
  },
  {
   "cell_type": "code",
   "execution_count": 31,
   "id": "bearing-dependence",
   "metadata": {},
   "outputs": [
    {
     "data": {
      "text/plain": [
       "['MODIS / Aqua Sea Ice Extent Daily L Global km EASE - Grid Day V',\n",
       " 'Nimbus - Total Solar Irradiance Data in Native Format',\n",
       " 'Solid State Energy Conversion for Deep Space Power',\n",
       " 'Regolith Derived Heat Shield for a Planetary Body Entry and Descent System with In - Situ Fabrication',\n",
       " 'Lightweight Passive Vaporizing Heat Sink , Phase II',\n",
       " 'Development and Flight - testing of Astronomical Instrumentation for Future NASA Astrophysics Missions',\n",
       " 'Autonomous Task Primitives for Complex Manipulation Operations',\n",
       " 'DISCOVER - AQ P - B Aircraft Navigational and Meteorological Data',\n",
       " 'Dead - Ended Passive Electrolyzer with Elimination of Vapor / Liquid Separation for Life Support Oxygen , Phase II',\n",
       " 'Knowledge - Based System to Support Plug Load Management',\n",
       " 'Assurance for Complex Systems',\n",
       " 'BOREAS RSS - Level - b ASAS Image Data : At - sensor Radiance in BSQ Format',\n",
       " 'Automated Discovery of Flight Track Anomalies',\n",
       " 'Very High Gain and Low Noise Near Infrared Single Photon Counting Detectors and Arrays , Phase I',\n",
       " 'Structural dynamics information package',\n",
       " 'Suomi - NPP VIIRS Global Mapped Triple - window Sea Surface Temperature ( SST )',\n",
       " 'MODIS / Aqua Calibrated Radiances m - Min L B Narrow Swath Subset along CloudSat V ( MAC QS ) at GES DISC',\n",
       " 'Natural Resource Protection and Child Health Indicators , SpecialYear Release',\n",
       " 'Lake Untersee , Antarctica Climate Data , Version',\n",
       " 'Deep UV Semiconductor Sourcess for Advanced Planetary Science Instruments , Phase I',\n",
       " 'IceBridge DMS L Ames Stereo Pipeline Photogrammetric DEM V',\n",
       " 'Radiostratigraphy and Age Structure of the Greenland Ice Sheet V',\n",
       " 'High Rate Tellecommunications for Mars Planetary and Proximity Ranges and other Deep - Space Missions - A , Phase I',\n",
       " 'Mirador - Atmospheric Composition',\n",
       " 'Shuttle Radar Topography Mission ( SRTM ) Version',\n",
       " 'Real Time Monitoring and Test Vector Generation for Improved Flight Safety , Phase II',\n",
       " \"Critical D - to - D Transformation of NASA ' s VESGEN Software for Astronaut Health Countermeasures and Terrestrial Medicine / Ecological Commercialization\",\n",
       " 'Candidate nutritional countermeasure to mitigate adverse effects of spaceflight',\n",
       " 'ARC Code TI : CODE Software Framework',\n",
       " 'A compact high - resolution grating spectrograph for spaceborne infrared astronomy',\n",
       " 'AMSR - E / Aqua level global monthly Surface Soil Moisture Averages V ( AMSRE _ AVRMO ) at GES DISC',\n",
       " 'ADEOS - I Ocean Color and Temperature Scanner ( OCTS ) Diffuse Attenuation Coefficient for Downwelling Irradiance ( KD ) Global Mapped Data',\n",
       " 'CATS - ISS _ L O _ D - M . - V - _ kmLay',\n",
       " 'Semantic Summarization for Context Aware Manipulation of Data , Phase I',\n",
       " 'Replication of Electric Aircraft Powertrain Dynamics and Inner - Loop Control for V & V of System Health Management Routines',\n",
       " 'Advanced FUVUV / Visible Photon Counting and Ultralow Noise Detectors',\n",
       " 'Carbon Dioxide Collection and Pressurization Technology , Phase II',\n",
       " 'Electrostatic Self - Assembly of Nanocomposite Electro - Optic Materials , Phase I',\n",
       " 'Enterprise Level Status and Control of Multi - Satellite Operations',\n",
       " 'The Station Manipulator Arm Augmented Reality Trainer , Phase I',\n",
       " 'Versatile Manipulation for Assistive Free - Flyers',\n",
       " 'BOREAS RSS - Ground Sunphotometer Data',\n",
       " 'Effect of Engine Installation on Jet Noise using a Hybrid LES / RANS Approach , Phase I',\n",
       " 'FACET as a Collaborative , Open Source UAS Research Platform , Phase I',\n",
       " 'LBA - ECO LC - Satellite / Census - Based - Minute Land Use Data , Amazonia : SpecialYear and SpecialYear',\n",
       " 'Enabling multi - platform mission planning and operations simulation environments for adaptive remote sensors',\n",
       " 'MISR Level Component Global Aerosol Product covering a quarter ( seasonal ) V',\n",
       " 'SMEX Land Surface Information : Soils Database , Version',\n",
       " 'NASA Expendable Launch Vehicle Launch Archive SpecialYear',\n",
       " 'Towards Accelerated Aging Methodologies and Health Management of Power MOSFETs']"
      ]
     },
     "execution_count": 31,
     "metadata": {},
     "output_type": "execute_result"
    }
   ],
   "source": [
    "unique_names[200:250]"
   ]
  },
  {
   "cell_type": "code",
   "execution_count": 35,
   "id": "rapid-adjustment",
   "metadata": {},
   "outputs": [],
   "source": [
    "import pickle\n",
    "\n",
    "with open(f'data/gov_data_selected.pkl', 'wb') as f:\n",
    "    pickle.dump(unique_names, f)"
   ]
  },
  {
   "cell_type": "code",
   "execution_count": null,
   "id": "running-destiny",
   "metadata": {},
   "outputs": [],
   "source": []
  }
 ],
 "metadata": {
  "kernelspec": {
   "display_name": "Python 3",
   "language": "python",
   "name": "python3"
  },
  "language_info": {
   "codemirror_mode": {
    "name": "ipython",
    "version": 3
   },
   "file_extension": ".py",
   "mimetype": "text/x-python",
   "name": "python",
   "nbconvert_exporter": "python",
   "pygments_lexer": "ipython3",
   "version": "3.8.8"
  }
 },
 "nbformat": 4,
 "nbformat_minor": 5
}
