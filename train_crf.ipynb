{
 "metadata": {
  "language_info": {
   "codemirror_mode": {
    "name": "ipython",
    "version": 3
   },
   "file_extension": ".py",
   "mimetype": "text/x-python",
   "name": "python",
   "nbconvert_exporter": "python",
   "pygments_lexer": "ipython3",
   "version": "3.7.8"
  },
  "orig_nbformat": 2,
  "kernelspec": {
   "name": "python378jvsc74a57bd001de0ae40aa8a02f5dce4eb302558c2ba1e499509f0a7c12e0772621a5681a06",
   "display_name": "Python 3.7.8 64-bit ('env': venv)"
  }
 },
 "nbformat": 4,
 "nbformat_minor": 2,
 "cells": [
  {
   "source": [
    "TODO:\n",
    "- Adjust fuzz ratio to catch all labels"
   ],
   "cell_type": "markdown",
   "metadata": {}
  },
  {
   "cell_type": "code",
   "execution_count": 1,
   "metadata": {},
   "outputs": [],
   "source": [
    "import json\n",
    "import pandas as pd\n",
    "import numpy as np\n",
    "import matplotlib.pyplot as plt\n",
    "import glob\n",
    "import os\n",
    "import re\n",
    "import seaborn as sns\n",
    "from tqdm import tqdm\n",
    "from fuzzywuzzy import fuzz\n",
    "\n",
    "train_example_paths = glob.glob('data/train/*.json')\n",
    "test_example_paths = glob.glob('data/test/*.json')\n",
    "\n",
    "train_example_names = [fn.split('.')[0] for fn in os.listdir('data/train')]\n",
    "test_example_names = [fn.split('.')[0] for fn in os.listdir('data/test')]\n",
    "\n",
    "metadata = pd.read_csv('data/train.csv')\n",
    "metadata_train = metadata.loc[metadata.Id.isin(train_example_names)]\n",
    "metadata_test = metadata.loc[metadata.Id.isin(test_example_names)]\n",
    "\n",
    "metadata = pd.read_csv('data/train.csv')\n",
    "metadata_train = metadata.loc[metadata.Id.isin(train_example_names)]\n",
    "metadata_test = metadata.loc[metadata.Id.isin(test_example_names)]"
   ]
  },
  {
   "cell_type": "code",
   "execution_count": 2,
   "metadata": {},
   "outputs": [],
   "source": [
    "def clean_text(txt):\n",
    "    return re.sub('[^A-Za-z0-9]+', ' ', str(txt).lower())\n",
    "\n",
    "def get_doc_id(doc_path):\n",
    "    return os.path.split(train_example_names[0])[-1].split('.')[0]\n",
    "\n",
    "def load_train_example(i: int):\n",
    "    doc_path = train_example_paths[i]\n",
    "    with open(doc_path) as f:\n",
    "        data = json.load(f)\n",
    "    return {'doc': data, 'meta': metadata.loc[metadata.Id == get_doc_id(doc_path)]}\n",
    "\n",
    "def load_train_example_by_name(name):\n",
    "    doc_path = os.path.join('data/train', name + '.json')\n",
    "    with open(doc_path) as f:\n",
    "        data = json.load(f)\n",
    "    return data\n",
    "\n",
    "def delete_file(filename):\n",
    "    if os.path.exists(filename):\n",
    "        os.remove(filename)"
   ]
  },
  {
   "source": [
    "## Split Data"
   ],
   "cell_type": "markdown",
   "metadata": {}
  },
  {
   "cell_type": "code",
   "execution_count": 3,
   "metadata": {},
   "outputs": [
    {
     "output_type": "stream",
     "name": "stdout",
     "text": [
      "train size: 11452\nval size: 2864\n"
     ]
    }
   ],
   "source": [
    "import random\n",
    "\n",
    "docIdx = train_example_names.copy()\n",
    "random.seed(42)\n",
    "random.shuffle(docIdx)\n",
    "\n",
    "train_ratio = 0.8\n",
    "n_train = int(len(docIdx) * train_ratio)\n",
    "n_val = len(docIdx) - n_train\n",
    "\n",
    "train_idx = docIdx[:n_train]\n",
    "val_idx = docIdx[n_train:]\n",
    "\n",
    "print(f'train size: {len(train_idx)}')\n",
    "print(f'val size: {len(val_idx)}')"
   ]
  },
  {
   "source": [
    "## Generate Dataset and Features"
   ],
   "cell_type": "markdown",
   "metadata": {}
  },
  {
   "cell_type": "code",
   "execution_count": 4,
   "metadata": {},
   "outputs": [],
   "source": [
    "_RE_COMBINE_WHITESPACE = re.compile(r\"\\s+\")\n",
    "\n",
    "def preprocess_tokenize_doc(doc_json):\n",
    "    doc_text = ' '.join([clean_text(sec['text']) for sec in doc_json])\n",
    "    doc_text = make_single_whitespace(doc_text)\n",
    "\n",
    "    doc_tokens = doc_text.split(' ')\n",
    "    return doc_tokens\n",
    "\n",
    "def indices(lst, element):\n",
    "    result = [i for i, token in enumerate(lst) if element in token]\n",
    "    return result\n",
    "\n",
    "def make_single_whitespace(text):\n",
    "    return _RE_COMBINE_WHITESPACE.sub(\" \", text).strip()"
   ]
  },
  {
   "source": [
    "## Create dataframe for tokens and targets"
   ],
   "cell_type": "markdown",
   "metadata": {}
  },
  {
   "cell_type": "code",
   "execution_count": 5,
   "metadata": {},
   "outputs": [
    {
     "output_type": "stream",
     "name": "stderr",
     "text": [
      "100%|██████████| 14316/14316 [05:01<00:00, 47.44it/s]\n"
     ]
    }
   ],
   "source": [
    "df_cols = ['TOKEN', 'TARGET']\n",
    "doc_dfs = {}\n",
    "n_examples = len(metadata_train)\n",
    "\n",
    "for doc_id in tqdm(train_example_names):\n",
    "    doc_df = pd.DataFrame(columns = df_cols)\n",
    "\n",
    "    doc_labels = list(metadata_train.loc[metadata_train.Id == doc_id, 'cleaned_label'].values)\n",
    "\n",
    "    doc = load_train_example_by_name(doc_id)\n",
    "    doc_tokens = preprocess_tokenize_doc(doc)\n",
    "    \n",
    "    # Targets for dataset names will be 1\n",
    "    target_arr = np.zeros(len(doc_tokens) ,dtype = 'uint8')\n",
    "\n",
    "    # Keep 100 tokens before and after targets\n",
    "    keep_df = pd.Series(np.zeros(len(doc_tokens), dtype = 'bool'))\n",
    "\n",
    "    for l in doc_labels:\n",
    "        label = l.strip()\n",
    "        n_label_tokens = len(label.split(' '))\n",
    "        doc_tokens_joined = [' '.join(doc_tokens[i:i+n_label_tokens]) for i in range(len(doc_tokens) - n_label_tokens + 1)]\n",
    "        \n",
    "        occurrences = indices(doc_tokens_joined, label)\n",
    "\n",
    "        assert(len(occurrences) != 0)\n",
    "        for o in occurrences:\n",
    "            keep_start = max(0, o - 250)\n",
    "            keep_end = min(o + 250 + n_label_tokens, len(doc_tokens))\n",
    "            keep_df[keep_start: keep_end] = True\n",
    "            for i in range(n_label_tokens):\n",
    "                target_arr[o + i] = 1\n",
    "\n",
    "    doc_df['TOKEN'] = doc_tokens\n",
    "    doc_df['TARGET'] = target_arr\n",
    "    doc_df['TARGET'] = doc_df['TARGET'].astype('str')\n",
    "    doc_df = doc_df.loc[keep_df]\n",
    "    \n",
    "    doc_dfs[doc_id] = doc_df"
   ]
  },
  {
   "source": [
    "## Show one example"
   ],
   "cell_type": "markdown",
   "metadata": {}
  },
  {
   "cell_type": "code",
   "execution_count": 6,
   "metadata": {},
   "outputs": [],
   "source": [
    "i = 5507\n",
    "doc_id = train_example_names[i]\n",
    "\n",
    "doc_df = pd.DataFrame(columns = df_cols)\n",
    "\n",
    "doc_labels = list(metadata_train.loc[metadata_train.Id == doc_id, 'cleaned_label'].values)\n",
    "\n",
    "doc = load_train_example_by_name(doc_id)\n",
    "doc_tokens = preprocess_tokenize_doc(doc)\n",
    "\n",
    "# Targets for dataset names will be 1\n",
    "target_arr = np.zeros(len(doc_tokens) ,dtype = 'uint8')\n",
    "\n",
    "# Keep 100 tokens before and after targets\n",
    "keep_df = pd.Series(np.zeros(len(doc_tokens), dtype = 'bool'))"
   ]
  },
  {
   "source": [
    "## Feature extraction (only for validation)"
   ],
   "cell_type": "markdown",
   "metadata": {}
  },
  {
   "cell_type": "code",
   "execution_count": 7,
   "metadata": {},
   "outputs": [
    {
     "output_type": "stream",
     "name": "stderr",
     "text": [
      "0it [00:00, ?it/s]\n",
      "0it [00:00, ?it/s]\n",
      "0it [00:00, ?it/s]\n",
      "100%|██████████| 2864/2864 [00:09<00:00, 305.05it/s]\n",
      "100%|██████████| 2864/2864 [00:14<00:00, 201.26it/s]\n",
      "100%|██████████| 2864/2864 [00:00<00:00, 18471.17it/s]\n"
     ]
    }
   ],
   "source": [
    "import crf_feature_extractor\n",
    "\n",
    "feature_extractor = crf_feature_extractor.TextFeatureExtractor()\n",
    "data = feature_extractor.fit_transform(doc_dfs, [], val_idx)"
   ]
  },
  {
   "source": [
    "## Augmentation"
   ],
   "cell_type": "markdown",
   "metadata": {}
  },
  {
   "cell_type": "code",
   "execution_count": 8,
   "metadata": {},
   "outputs": [],
   "source": [
    "# Load dataset names\n",
    "with open('data/dataset_names_processed.txt', 'r', encoding=\"utf-8\") as f:\n",
    "    us_dataset_names = f.readlines()\n",
    "    us_dataset_names = [n for n in us_dataset_names if len(n) > 25]\n",
    "    us_dataset_names = [make_single_whitespace(n) for n in us_dataset_names]"
   ]
  },
  {
   "cell_type": "code",
   "execution_count": 9,
   "metadata": {},
   "outputs": [],
   "source": [
    "import random\n",
    "\n",
    "n_examples = len(train_idx)\n",
    "n_generator_repeat = 4\n",
    "augment_chance = 0.666\n",
    "\n",
    "def replace_target(x):\n",
    "    if x.TARGET.iloc[0] == '0':\n",
    "        # if not a dataset name, do not augment\n",
    "        return x\n",
    "    else:\n",
    "        name_len = 0\n",
    "        random_name_tokens = None\n",
    "        while name_len < len(x):\n",
    "            random_name_tokens = random.choice(us_dataset_names).split(' ')\n",
    "            name_len = len(random_name_tokens)\n",
    "\n",
    "        # Replace tokens\n",
    "        x['TOKEN'] = random_name_tokens[:len(x)]\n",
    "\n",
    "        return x\n",
    "\n",
    "def x_train_generator():\n",
    "    i_repeat = 0\n",
    "    while i_repeat < n_generator_repeat:\n",
    "        i_repeat += 1\n",
    "        print(f'X_train generator repeat: {i_repeat}')\n",
    "        for doc_id in train_idx[:n_examples]:\n",
    "            doc_df = doc_dfs[doc_id]\n",
    "\n",
    "            features = None\n",
    "            if (i_repeat > 1) and (random.uniform(0, 1) <= augment_chance):\n",
    "                # Do augmentation\n",
    "                new_df = doc_df.copy()\n",
    "\n",
    "                #display(new_df.loc[new_df.TARGET == '1'])\n",
    "\n",
    "                # Replace target tokens\n",
    "                new_df = new_df.groupby((new_df.TARGET.shift() != new_df.TARGET).cumsum()).apply(lambda x: replace_target(x)).reset_index()\n",
    "\n",
    "                #display(new_df.loc[new_df.TARGET == '1'])\n",
    "                features = feature_extractor.transform({'output': new_df})['output'][0]\n",
    "                del new_df\n",
    "            else:\n",
    "                # No augmentation\n",
    "                features = feature_extractor.transform({'output': doc_df})['output'][0]\n",
    "            \n",
    "            yield features\n",
    "\n",
    "def y_train_generator():\n",
    "    for _ in range(n_generator_repeat):\n",
    "        for doc_id in train_idx[:n_examples]:\n",
    "            doc_df = doc_dfs[doc_id]\n",
    "            yield list(doc_df.TARGET.values)"
   ]
  },
  {
   "cell_type": "code",
   "execution_count": 10,
   "metadata": {},
   "outputs": [],
   "source": [
    "data['train_data'] = (x_train_generator, y_train_generator)"
   ]
  },
  {
   "source": [
    "## Create CRF Model"
   ],
   "cell_type": "markdown",
   "metadata": {}
  },
  {
   "cell_type": "code",
   "execution_count": 11,
   "metadata": {},
   "outputs": [],
   "source": [
    "from mlmodels import sklearn_model\n",
    "\n",
    "from sklearn_crfsuite import CRF\n",
    "from mlmodels.search.hparameters import crf_params"
   ]
  },
  {
   "cell_type": "code",
   "execution_count": 12,
   "metadata": {},
   "outputs": [
    {
     "output_type": "stream",
     "name": "stdout",
     "text": [
      "Minimize: False\n",
      "Best hparameters:\n",
      "{'algorithm': 'lbfgs', 'all_possible_states': True, 'all_possible_transitions': True, 'c1': 225.53458206188282, 'c2': 0.0035686049585393607, 'delta': 0.0017547519996294854, 'epsilon': 0.3450664281554772, 'linesearch': 'StrongBacktracking', 'max_linesearch': 21, 'min_freq': 4, 'num_memories': 10, 'period': 7, 'model_class': <class 'sklearn_crfsuite.estimator.CRF'>}\n",
      " 80%|████████  | 4/5 [5:07:01<1:09:21, 4161.87s/trial, best loss: -0.8320011418783899]"
     ]
    },
    {
     "output_type": "display_data",
     "data": {
      "text/plain": "<Figure size 432x288 with 1 Axes>",
      "image/svg+xml": "<?xml version=\"1.0\" encoding=\"utf-8\" standalone=\"no\"?>\r\n<!DOCTYPE svg PUBLIC \"-//W3C//DTD SVG 1.1//EN\"\r\n  \"http://www.w3.org/Graphics/SVG/1.1/DTD/svg11.dtd\">\r\n<!-- Created with matplotlib (https://matplotlib.org/) -->\r\n<svg height=\"277.314375pt\" version=\"1.1\" viewBox=\"0 0 385.78125 277.314375\" width=\"385.78125pt\" xmlns=\"http://www.w3.org/2000/svg\" xmlns:xlink=\"http://www.w3.org/1999/xlink\">\r\n <metadata>\r\n  <rdf:RDF xmlns:cc=\"http://creativecommons.org/ns#\" xmlns:dc=\"http://purl.org/dc/elements/1.1/\" xmlns:rdf=\"http://www.w3.org/1999/02/22-rdf-syntax-ns#\">\r\n   <cc:Work>\r\n    <dc:type rdf:resource=\"http://purl.org/dc/dcmitype/StillImage\"/>\r\n    <dc:date>2021-05-12T22:28:10.059881</dc:date>\r\n    <dc:format>image/svg+xml</dc:format>\r\n    <dc:creator>\r\n     <cc:Agent>\r\n      <dc:title>Matplotlib v3.3.0, https://matplotlib.org/</dc:title>\r\n     </cc:Agent>\r\n    </dc:creator>\r\n   </cc:Work>\r\n  </rdf:RDF>\r\n </metadata>\r\n <defs>\r\n  <style type=\"text/css\">*{stroke-linecap:butt;stroke-linejoin:round;}</style>\r\n </defs>\r\n <g id=\"figure_1\">\r\n  <g id=\"patch_1\">\r\n   <path d=\"M 0 277.314375 \r\nL 385.78125 277.314375 \r\nL 385.78125 0 \r\nL 0 0 \r\nz\r\n\" style=\"fill:none;\"/>\r\n  </g>\r\n  <g id=\"axes_1\">\r\n   <g id=\"patch_2\">\r\n    <path d=\"M 43.78125 239.758125 \r\nL 378.58125 239.758125 \r\nL 378.58125 22.318125 \r\nL 43.78125 22.318125 \r\nz\r\n\" style=\"fill:#ffffff;\"/>\r\n   </g>\r\n   <g id=\"matplotlib.axis_1\">\r\n    <g id=\"xtick_1\">\r\n     <g id=\"line2d_1\">\r\n      <defs>\r\n       <path d=\"M 0 0 \r\nL 0 3.5 \r\n\" id=\"mdbce549116\" style=\"stroke:#000000;stroke-width:0.8;\"/>\r\n      </defs>\r\n      <g>\r\n       <use style=\"stroke:#000000;stroke-width:0.8;\" x=\"58.999432\" xlink:href=\"#mdbce549116\" y=\"239.758125\"/>\r\n      </g>\r\n     </g>\r\n     <g id=\"text_1\">\r\n      <!-- 0 -->\r\n      <g transform=\"translate(55.818182 254.356562)scale(0.1 -0.1)\">\r\n       <defs>\r\n        <path d=\"M 31.78125 66.40625 \r\nQ 24.171875 66.40625 20.328125 58.90625 \r\nQ 16.5 51.421875 16.5 36.375 \r\nQ 16.5 21.390625 20.328125 13.890625 \r\nQ 24.171875 6.390625 31.78125 6.390625 \r\nQ 39.453125 6.390625 43.28125 13.890625 \r\nQ 47.125 21.390625 47.125 36.375 \r\nQ 47.125 51.421875 43.28125 58.90625 \r\nQ 39.453125 66.40625 31.78125 66.40625 \r\nz\r\nM 31.78125 74.21875 \r\nQ 44.046875 74.21875 50.515625 64.515625 \r\nQ 56.984375 54.828125 56.984375 36.375 \r\nQ 56.984375 17.96875 50.515625 8.265625 \r\nQ 44.046875 -1.421875 31.78125 -1.421875 \r\nQ 19.53125 -1.421875 13.0625 8.265625 \r\nQ 6.59375 17.96875 6.59375 36.375 \r\nQ 6.59375 54.828125 13.0625 64.515625 \r\nQ 19.53125 74.21875 31.78125 74.21875 \r\nz\r\n\" id=\"DejaVuSans-48\"/>\r\n       </defs>\r\n       <use xlink:href=\"#DejaVuSans-48\"/>\r\n      </g>\r\n     </g>\r\n    </g>\r\n    <g id=\"xtick_2\">\r\n     <g id=\"line2d_2\">\r\n      <g>\r\n       <use style=\"stroke:#000000;stroke-width:0.8;\" x=\"135.090341\" xlink:href=\"#mdbce549116\" y=\"239.758125\"/>\r\n      </g>\r\n     </g>\r\n     <g id=\"text_2\">\r\n      <!-- 1 -->\r\n      <g transform=\"translate(131.909091 254.356562)scale(0.1 -0.1)\">\r\n       <defs>\r\n        <path d=\"M 12.40625 8.296875 \r\nL 28.515625 8.296875 \r\nL 28.515625 63.921875 \r\nL 10.984375 60.40625 \r\nL 10.984375 69.390625 \r\nL 28.421875 72.90625 \r\nL 38.28125 72.90625 \r\nL 38.28125 8.296875 \r\nL 54.390625 8.296875 \r\nL 54.390625 0 \r\nL 12.40625 0 \r\nz\r\n\" id=\"DejaVuSans-49\"/>\r\n       </defs>\r\n       <use xlink:href=\"#DejaVuSans-49\"/>\r\n      </g>\r\n     </g>\r\n    </g>\r\n    <g id=\"xtick_3\">\r\n     <g id=\"line2d_3\">\r\n      <g>\r\n       <use style=\"stroke:#000000;stroke-width:0.8;\" x=\"211.18125\" xlink:href=\"#mdbce549116\" y=\"239.758125\"/>\r\n      </g>\r\n     </g>\r\n     <g id=\"text_3\">\r\n      <!-- 2 -->\r\n      <g transform=\"translate(208 254.356562)scale(0.1 -0.1)\">\r\n       <defs>\r\n        <path d=\"M 19.1875 8.296875 \r\nL 53.609375 8.296875 \r\nL 53.609375 0 \r\nL 7.328125 0 \r\nL 7.328125 8.296875 \r\nQ 12.9375 14.109375 22.625 23.890625 \r\nQ 32.328125 33.6875 34.8125 36.53125 \r\nQ 39.546875 41.84375 41.421875 45.53125 \r\nQ 43.3125 49.21875 43.3125 52.78125 \r\nQ 43.3125 58.59375 39.234375 62.25 \r\nQ 35.15625 65.921875 28.609375 65.921875 \r\nQ 23.96875 65.921875 18.8125 64.3125 \r\nQ 13.671875 62.703125 7.8125 59.421875 \r\nL 7.8125 69.390625 \r\nQ 13.765625 71.78125 18.9375 73 \r\nQ 24.125 74.21875 28.421875 74.21875 \r\nQ 39.75 74.21875 46.484375 68.546875 \r\nQ 53.21875 62.890625 53.21875 53.421875 \r\nQ 53.21875 48.921875 51.53125 44.890625 \r\nQ 49.859375 40.875 45.40625 35.40625 \r\nQ 44.1875 33.984375 37.640625 27.21875 \r\nQ 31.109375 20.453125 19.1875 8.296875 \r\nz\r\n\" id=\"DejaVuSans-50\"/>\r\n       </defs>\r\n       <use xlink:href=\"#DejaVuSans-50\"/>\r\n      </g>\r\n     </g>\r\n    </g>\r\n    <g id=\"xtick_4\">\r\n     <g id=\"line2d_4\">\r\n      <g>\r\n       <use style=\"stroke:#000000;stroke-width:0.8;\" x=\"287.272159\" xlink:href=\"#mdbce549116\" y=\"239.758125\"/>\r\n      </g>\r\n     </g>\r\n     <g id=\"text_4\">\r\n      <!-- 3 -->\r\n      <g transform=\"translate(284.090909 254.356562)scale(0.1 -0.1)\">\r\n       <defs>\r\n        <path d=\"M 40.578125 39.3125 \r\nQ 47.65625 37.796875 51.625 33 \r\nQ 55.609375 28.21875 55.609375 21.1875 \r\nQ 55.609375 10.40625 48.1875 4.484375 \r\nQ 40.765625 -1.421875 27.09375 -1.421875 \r\nQ 22.515625 -1.421875 17.65625 -0.515625 \r\nQ 12.796875 0.390625 7.625 2.203125 \r\nL 7.625 11.71875 \r\nQ 11.71875 9.328125 16.59375 8.109375 \r\nQ 21.484375 6.890625 26.8125 6.890625 \r\nQ 36.078125 6.890625 40.9375 10.546875 \r\nQ 45.796875 14.203125 45.796875 21.1875 \r\nQ 45.796875 27.640625 41.28125 31.265625 \r\nQ 36.765625 34.90625 28.71875 34.90625 \r\nL 20.21875 34.90625 \r\nL 20.21875 43.015625 \r\nL 29.109375 43.015625 \r\nQ 36.375 43.015625 40.234375 45.921875 \r\nQ 44.09375 48.828125 44.09375 54.296875 \r\nQ 44.09375 59.90625 40.109375 62.90625 \r\nQ 36.140625 65.921875 28.71875 65.921875 \r\nQ 24.65625 65.921875 20.015625 65.03125 \r\nQ 15.375 64.15625 9.8125 62.3125 \r\nL 9.8125 71.09375 \r\nQ 15.4375 72.65625 20.34375 73.4375 \r\nQ 25.25 74.21875 29.59375 74.21875 \r\nQ 40.828125 74.21875 47.359375 69.109375 \r\nQ 53.90625 64.015625 53.90625 55.328125 \r\nQ 53.90625 49.265625 50.4375 45.09375 \r\nQ 46.96875 40.921875 40.578125 39.3125 \r\nz\r\n\" id=\"DejaVuSans-51\"/>\r\n       </defs>\r\n       <use xlink:href=\"#DejaVuSans-51\"/>\r\n      </g>\r\n     </g>\r\n    </g>\r\n    <g id=\"xtick_5\">\r\n     <g id=\"line2d_5\">\r\n      <g>\r\n       <use style=\"stroke:#000000;stroke-width:0.8;\" x=\"363.363068\" xlink:href=\"#mdbce549116\" y=\"239.758125\"/>\r\n      </g>\r\n     </g>\r\n     <g id=\"text_5\">\r\n      <!-- 4 -->\r\n      <g transform=\"translate(360.181818 254.356562)scale(0.1 -0.1)\">\r\n       <defs>\r\n        <path d=\"M 37.796875 64.3125 \r\nL 12.890625 25.390625 \r\nL 37.796875 25.390625 \r\nz\r\nM 35.203125 72.90625 \r\nL 47.609375 72.90625 \r\nL 47.609375 25.390625 \r\nL 58.015625 25.390625 \r\nL 58.015625 17.1875 \r\nL 47.609375 17.1875 \r\nL 47.609375 0 \r\nL 37.796875 0 \r\nL 37.796875 17.1875 \r\nL 4.890625 17.1875 \r\nL 4.890625 26.703125 \r\nz\r\n\" id=\"DejaVuSans-52\"/>\r\n       </defs>\r\n       <use xlink:href=\"#DejaVuSans-52\"/>\r\n      </g>\r\n     </g>\r\n    </g>\r\n    <g id=\"text_6\">\r\n     <!-- Trial index -->\r\n     <g transform=\"translate(185.697656 268.034687)scale(0.1 -0.1)\">\r\n      <defs>\r\n       <path d=\"M -0.296875 72.90625 \r\nL 61.375 72.90625 \r\nL 61.375 64.59375 \r\nL 35.5 64.59375 \r\nL 35.5 0 \r\nL 25.59375 0 \r\nL 25.59375 64.59375 \r\nL -0.296875 64.59375 \r\nz\r\n\" id=\"DejaVuSans-84\"/>\r\n       <path d=\"M 41.109375 46.296875 \r\nQ 39.59375 47.171875 37.8125 47.578125 \r\nQ 36.03125 48 33.890625 48 \r\nQ 26.265625 48 22.1875 43.046875 \r\nQ 18.109375 38.09375 18.109375 28.8125 \r\nL 18.109375 0 \r\nL 9.078125 0 \r\nL 9.078125 54.6875 \r\nL 18.109375 54.6875 \r\nL 18.109375 46.1875 \r\nQ 20.953125 51.171875 25.484375 53.578125 \r\nQ 30.03125 56 36.53125 56 \r\nQ 37.453125 56 38.578125 55.875 \r\nQ 39.703125 55.765625 41.0625 55.515625 \r\nz\r\n\" id=\"DejaVuSans-114\"/>\r\n       <path d=\"M 9.421875 54.6875 \r\nL 18.40625 54.6875 \r\nL 18.40625 0 \r\nL 9.421875 0 \r\nz\r\nM 9.421875 75.984375 \r\nL 18.40625 75.984375 \r\nL 18.40625 64.59375 \r\nL 9.421875 64.59375 \r\nz\r\n\" id=\"DejaVuSans-105\"/>\r\n       <path d=\"M 34.28125 27.484375 \r\nQ 23.390625 27.484375 19.1875 25 \r\nQ 14.984375 22.515625 14.984375 16.5 \r\nQ 14.984375 11.71875 18.140625 8.90625 \r\nQ 21.296875 6.109375 26.703125 6.109375 \r\nQ 34.1875 6.109375 38.703125 11.40625 \r\nQ 43.21875 16.703125 43.21875 25.484375 \r\nL 43.21875 27.484375 \r\nz\r\nM 52.203125 31.203125 \r\nL 52.203125 0 \r\nL 43.21875 0 \r\nL 43.21875 8.296875 \r\nQ 40.140625 3.328125 35.546875 0.953125 \r\nQ 30.953125 -1.421875 24.3125 -1.421875 \r\nQ 15.921875 -1.421875 10.953125 3.296875 \r\nQ 6 8.015625 6 15.921875 \r\nQ 6 25.140625 12.171875 29.828125 \r\nQ 18.359375 34.515625 30.609375 34.515625 \r\nL 43.21875 34.515625 \r\nL 43.21875 35.40625 \r\nQ 43.21875 41.609375 39.140625 45 \r\nQ 35.0625 48.390625 27.6875 48.390625 \r\nQ 23 48.390625 18.546875 47.265625 \r\nQ 14.109375 46.140625 10.015625 43.890625 \r\nL 10.015625 52.203125 \r\nQ 14.9375 54.109375 19.578125 55.046875 \r\nQ 24.21875 56 28.609375 56 \r\nQ 40.484375 56 46.34375 49.84375 \r\nQ 52.203125 43.703125 52.203125 31.203125 \r\nz\r\n\" id=\"DejaVuSans-97\"/>\r\n       <path d=\"M 9.421875 75.984375 \r\nL 18.40625 75.984375 \r\nL 18.40625 0 \r\nL 9.421875 0 \r\nz\r\n\" id=\"DejaVuSans-108\"/>\r\n       <path id=\"DejaVuSans-32\"/>\r\n       <path d=\"M 54.890625 33.015625 \r\nL 54.890625 0 \r\nL 45.90625 0 \r\nL 45.90625 32.71875 \r\nQ 45.90625 40.484375 42.875 44.328125 \r\nQ 39.84375 48.1875 33.796875 48.1875 \r\nQ 26.515625 48.1875 22.3125 43.546875 \r\nQ 18.109375 38.921875 18.109375 30.90625 \r\nL 18.109375 0 \r\nL 9.078125 0 \r\nL 9.078125 54.6875 \r\nL 18.109375 54.6875 \r\nL 18.109375 46.1875 \r\nQ 21.34375 51.125 25.703125 53.5625 \r\nQ 30.078125 56 35.796875 56 \r\nQ 45.21875 56 50.046875 50.171875 \r\nQ 54.890625 44.34375 54.890625 33.015625 \r\nz\r\n\" id=\"DejaVuSans-110\"/>\r\n       <path d=\"M 45.40625 46.390625 \r\nL 45.40625 75.984375 \r\nL 54.390625 75.984375 \r\nL 54.390625 0 \r\nL 45.40625 0 \r\nL 45.40625 8.203125 \r\nQ 42.578125 3.328125 38.25 0.953125 \r\nQ 33.9375 -1.421875 27.875 -1.421875 \r\nQ 17.96875 -1.421875 11.734375 6.484375 \r\nQ 5.515625 14.40625 5.515625 27.296875 \r\nQ 5.515625 40.1875 11.734375 48.09375 \r\nQ 17.96875 56 27.875 56 \r\nQ 33.9375 56 38.25 53.625 \r\nQ 42.578125 51.265625 45.40625 46.390625 \r\nz\r\nM 14.796875 27.296875 \r\nQ 14.796875 17.390625 18.875 11.75 \r\nQ 22.953125 6.109375 30.078125 6.109375 \r\nQ 37.203125 6.109375 41.296875 11.75 \r\nQ 45.40625 17.390625 45.40625 27.296875 \r\nQ 45.40625 37.203125 41.296875 42.84375 \r\nQ 37.203125 48.484375 30.078125 48.484375 \r\nQ 22.953125 48.484375 18.875 42.84375 \r\nQ 14.796875 37.203125 14.796875 27.296875 \r\nz\r\n\" id=\"DejaVuSans-100\"/>\r\n       <path d=\"M 56.203125 29.59375 \r\nL 56.203125 25.203125 \r\nL 14.890625 25.203125 \r\nQ 15.484375 15.921875 20.484375 11.0625 \r\nQ 25.484375 6.203125 34.421875 6.203125 \r\nQ 39.59375 6.203125 44.453125 7.46875 \r\nQ 49.3125 8.734375 54.109375 11.28125 \r\nL 54.109375 2.78125 \r\nQ 49.265625 0.734375 44.1875 -0.34375 \r\nQ 39.109375 -1.421875 33.890625 -1.421875 \r\nQ 20.796875 -1.421875 13.15625 6.1875 \r\nQ 5.515625 13.8125 5.515625 26.8125 \r\nQ 5.515625 40.234375 12.765625 48.109375 \r\nQ 20.015625 56 32.328125 56 \r\nQ 43.359375 56 49.78125 48.890625 \r\nQ 56.203125 41.796875 56.203125 29.59375 \r\nz\r\nM 47.21875 32.234375 \r\nQ 47.125 39.59375 43.09375 43.984375 \r\nQ 39.0625 48.390625 32.421875 48.390625 \r\nQ 24.90625 48.390625 20.390625 44.140625 \r\nQ 15.875 39.890625 15.1875 32.171875 \r\nz\r\n\" id=\"DejaVuSans-101\"/>\r\n       <path d=\"M 54.890625 54.6875 \r\nL 35.109375 28.078125 \r\nL 55.90625 0 \r\nL 45.3125 0 \r\nL 29.390625 21.484375 \r\nL 13.484375 0 \r\nL 2.875 0 \r\nL 24.125 28.609375 \r\nL 4.6875 54.6875 \r\nL 15.28125 54.6875 \r\nL 29.78125 35.203125 \r\nL 44.28125 54.6875 \r\nz\r\n\" id=\"DejaVuSans-120\"/>\r\n      </defs>\r\n      <use xlink:href=\"#DejaVuSans-84\"/>\r\n      <use x=\"46.333984\" xlink:href=\"#DejaVuSans-114\"/>\r\n      <use x=\"87.447266\" xlink:href=\"#DejaVuSans-105\"/>\r\n      <use x=\"115.230469\" xlink:href=\"#DejaVuSans-97\"/>\r\n      <use x=\"176.509766\" xlink:href=\"#DejaVuSans-108\"/>\r\n      <use x=\"204.292969\" xlink:href=\"#DejaVuSans-32\"/>\r\n      <use x=\"236.080078\" xlink:href=\"#DejaVuSans-105\"/>\r\n      <use x=\"263.863281\" xlink:href=\"#DejaVuSans-110\"/>\r\n      <use x=\"327.242188\" xlink:href=\"#DejaVuSans-100\"/>\r\n      <use x=\"390.71875\" xlink:href=\"#DejaVuSans-101\"/>\r\n      <use x=\"450.492188\" xlink:href=\"#DejaVuSans-120\"/>\r\n     </g>\r\n    </g>\r\n   </g>\r\n   <g id=\"matplotlib.axis_2\">\r\n    <g id=\"ytick_1\">\r\n     <g id=\"line2d_6\">\r\n      <defs>\r\n       <path d=\"M 0 0 \r\nL -3.5 0 \r\n\" id=\"mc504c0c72c\" style=\"stroke:#000000;stroke-width:0.8;\"/>\r\n      </defs>\r\n      <g>\r\n       <use style=\"stroke:#000000;stroke-width:0.8;\" x=\"43.78125\" xlink:href=\"#mc504c0c72c\" y=\"228.213996\"/>\r\n      </g>\r\n     </g>\r\n     <g id=\"text_7\">\r\n      <!-- 0.4 -->\r\n      <g transform=\"translate(20.878125 232.013215)scale(0.1 -0.1)\">\r\n       <defs>\r\n        <path d=\"M 10.6875 12.40625 \r\nL 21 12.40625 \r\nL 21 0 \r\nL 10.6875 0 \r\nz\r\n\" id=\"DejaVuSans-46\"/>\r\n       </defs>\r\n       <use xlink:href=\"#DejaVuSans-48\"/>\r\n       <use x=\"63.623047\" xlink:href=\"#DejaVuSans-46\"/>\r\n       <use x=\"95.410156\" xlink:href=\"#DejaVuSans-52\"/>\r\n      </g>\r\n     </g>\r\n    </g>\r\n    <g id=\"ytick_2\">\r\n     <g id=\"line2d_7\">\r\n      <g>\r\n       <use style=\"stroke:#000000;stroke-width:0.8;\" x=\"43.78125\" xlink:href=\"#mc504c0c72c\" y=\"182.840913\"/>\r\n      </g>\r\n     </g>\r\n     <g id=\"text_8\">\r\n      <!-- 0.5 -->\r\n      <g transform=\"translate(20.878125 186.640132)scale(0.1 -0.1)\">\r\n       <defs>\r\n        <path d=\"M 10.796875 72.90625 \r\nL 49.515625 72.90625 \r\nL 49.515625 64.59375 \r\nL 19.828125 64.59375 \r\nL 19.828125 46.734375 \r\nQ 21.96875 47.46875 24.109375 47.828125 \r\nQ 26.265625 48.1875 28.421875 48.1875 \r\nQ 40.625 48.1875 47.75 41.5 \r\nQ 54.890625 34.8125 54.890625 23.390625 \r\nQ 54.890625 11.625 47.5625 5.09375 \r\nQ 40.234375 -1.421875 26.90625 -1.421875 \r\nQ 22.3125 -1.421875 17.546875 -0.640625 \r\nQ 12.796875 0.140625 7.71875 1.703125 \r\nL 7.71875 11.625 \r\nQ 12.109375 9.234375 16.796875 8.0625 \r\nQ 21.484375 6.890625 26.703125 6.890625 \r\nQ 35.15625 6.890625 40.078125 11.328125 \r\nQ 45.015625 15.765625 45.015625 23.390625 \r\nQ 45.015625 31 40.078125 35.4375 \r\nQ 35.15625 39.890625 26.703125 39.890625 \r\nQ 22.75 39.890625 18.8125 39.015625 \r\nQ 14.890625 38.140625 10.796875 36.28125 \r\nz\r\n\" id=\"DejaVuSans-53\"/>\r\n       </defs>\r\n       <use xlink:href=\"#DejaVuSans-48\"/>\r\n       <use x=\"63.623047\" xlink:href=\"#DejaVuSans-46\"/>\r\n       <use x=\"95.410156\" xlink:href=\"#DejaVuSans-53\"/>\r\n      </g>\r\n     </g>\r\n    </g>\r\n    <g id=\"ytick_3\">\r\n     <g id=\"line2d_8\">\r\n      <g>\r\n       <use style=\"stroke:#000000;stroke-width:0.8;\" x=\"43.78125\" xlink:href=\"#mc504c0c72c\" y=\"137.467831\"/>\r\n      </g>\r\n     </g>\r\n     <g id=\"text_9\">\r\n      <!-- 0.6 -->\r\n      <g transform=\"translate(20.878125 141.26705)scale(0.1 -0.1)\">\r\n       <defs>\r\n        <path d=\"M 33.015625 40.375 \r\nQ 26.375 40.375 22.484375 35.828125 \r\nQ 18.609375 31.296875 18.609375 23.390625 \r\nQ 18.609375 15.53125 22.484375 10.953125 \r\nQ 26.375 6.390625 33.015625 6.390625 \r\nQ 39.65625 6.390625 43.53125 10.953125 \r\nQ 47.40625 15.53125 47.40625 23.390625 \r\nQ 47.40625 31.296875 43.53125 35.828125 \r\nQ 39.65625 40.375 33.015625 40.375 \r\nz\r\nM 52.59375 71.296875 \r\nL 52.59375 62.3125 \r\nQ 48.875 64.0625 45.09375 64.984375 \r\nQ 41.3125 65.921875 37.59375 65.921875 \r\nQ 27.828125 65.921875 22.671875 59.328125 \r\nQ 17.53125 52.734375 16.796875 39.40625 \r\nQ 19.671875 43.65625 24.015625 45.921875 \r\nQ 28.375 48.1875 33.59375 48.1875 \r\nQ 44.578125 48.1875 50.953125 41.515625 \r\nQ 57.328125 34.859375 57.328125 23.390625 \r\nQ 57.328125 12.15625 50.6875 5.359375 \r\nQ 44.046875 -1.421875 33.015625 -1.421875 \r\nQ 20.359375 -1.421875 13.671875 8.265625 \r\nQ 6.984375 17.96875 6.984375 36.375 \r\nQ 6.984375 53.65625 15.1875 63.9375 \r\nQ 23.390625 74.21875 37.203125 74.21875 \r\nQ 40.921875 74.21875 44.703125 73.484375 \r\nQ 48.484375 72.75 52.59375 71.296875 \r\nz\r\n\" id=\"DejaVuSans-54\"/>\r\n       </defs>\r\n       <use xlink:href=\"#DejaVuSans-48\"/>\r\n       <use x=\"63.623047\" xlink:href=\"#DejaVuSans-46\"/>\r\n       <use x=\"95.410156\" xlink:href=\"#DejaVuSans-54\"/>\r\n      </g>\r\n     </g>\r\n    </g>\r\n    <g id=\"ytick_4\">\r\n     <g id=\"line2d_9\">\r\n      <g>\r\n       <use style=\"stroke:#000000;stroke-width:0.8;\" x=\"43.78125\" xlink:href=\"#mc504c0c72c\" y=\"92.094748\"/>\r\n      </g>\r\n     </g>\r\n     <g id=\"text_10\">\r\n      <!-- 0.7 -->\r\n      <g transform=\"translate(20.878125 95.893967)scale(0.1 -0.1)\">\r\n       <defs>\r\n        <path d=\"M 8.203125 72.90625 \r\nL 55.078125 72.90625 \r\nL 55.078125 68.703125 \r\nL 28.609375 0 \r\nL 18.3125 0 \r\nL 43.21875 64.59375 \r\nL 8.203125 64.59375 \r\nz\r\n\" id=\"DejaVuSans-55\"/>\r\n       </defs>\r\n       <use xlink:href=\"#DejaVuSans-48\"/>\r\n       <use x=\"63.623047\" xlink:href=\"#DejaVuSans-46\"/>\r\n       <use x=\"95.410156\" xlink:href=\"#DejaVuSans-55\"/>\r\n      </g>\r\n     </g>\r\n    </g>\r\n    <g id=\"ytick_5\">\r\n     <g id=\"line2d_10\">\r\n      <g>\r\n       <use style=\"stroke:#000000;stroke-width:0.8;\" x=\"43.78125\" xlink:href=\"#mc504c0c72c\" y=\"46.721666\"/>\r\n      </g>\r\n     </g>\r\n     <g id=\"text_11\">\r\n      <!-- 0.8 -->\r\n      <g transform=\"translate(20.878125 50.520885)scale(0.1 -0.1)\">\r\n       <defs>\r\n        <path d=\"M 31.78125 34.625 \r\nQ 24.75 34.625 20.71875 30.859375 \r\nQ 16.703125 27.09375 16.703125 20.515625 \r\nQ 16.703125 13.921875 20.71875 10.15625 \r\nQ 24.75 6.390625 31.78125 6.390625 \r\nQ 38.8125 6.390625 42.859375 10.171875 \r\nQ 46.921875 13.96875 46.921875 20.515625 \r\nQ 46.921875 27.09375 42.890625 30.859375 \r\nQ 38.875 34.625 31.78125 34.625 \r\nz\r\nM 21.921875 38.8125 \r\nQ 15.578125 40.375 12.03125 44.71875 \r\nQ 8.5 49.078125 8.5 55.328125 \r\nQ 8.5 64.0625 14.71875 69.140625 \r\nQ 20.953125 74.21875 31.78125 74.21875 \r\nQ 42.671875 74.21875 48.875 69.140625 \r\nQ 55.078125 64.0625 55.078125 55.328125 \r\nQ 55.078125 49.078125 51.53125 44.71875 \r\nQ 48 40.375 41.703125 38.8125 \r\nQ 48.828125 37.15625 52.796875 32.3125 \r\nQ 56.78125 27.484375 56.78125 20.515625 \r\nQ 56.78125 9.90625 50.3125 4.234375 \r\nQ 43.84375 -1.421875 31.78125 -1.421875 \r\nQ 19.734375 -1.421875 13.25 4.234375 \r\nQ 6.78125 9.90625 6.78125 20.515625 \r\nQ 6.78125 27.484375 10.78125 32.3125 \r\nQ 14.796875 37.15625 21.921875 38.8125 \r\nz\r\nM 18.3125 54.390625 \r\nQ 18.3125 48.734375 21.84375 45.5625 \r\nQ 25.390625 42.390625 31.78125 42.390625 \r\nQ 38.140625 42.390625 41.71875 45.5625 \r\nQ 45.3125 48.734375 45.3125 54.390625 \r\nQ 45.3125 60.0625 41.71875 63.234375 \r\nQ 38.140625 66.40625 31.78125 66.40625 \r\nQ 25.390625 66.40625 21.84375 63.234375 \r\nQ 18.3125 60.0625 18.3125 54.390625 \r\nz\r\n\" id=\"DejaVuSans-56\"/>\r\n       </defs>\r\n       <use xlink:href=\"#DejaVuSans-48\"/>\r\n       <use x=\"63.623047\" xlink:href=\"#DejaVuSans-46\"/>\r\n       <use x=\"95.410156\" xlink:href=\"#DejaVuSans-56\"/>\r\n      </g>\r\n     </g>\r\n    </g>\r\n    <g id=\"text_12\">\r\n     <!-- Metric -->\r\n     <g transform=\"translate(14.798438 146.582656)rotate(-90)scale(0.1 -0.1)\">\r\n      <defs>\r\n       <path d=\"M 9.8125 72.90625 \r\nL 24.515625 72.90625 \r\nL 43.109375 23.296875 \r\nL 61.8125 72.90625 \r\nL 76.515625 72.90625 \r\nL 76.515625 0 \r\nL 66.890625 0 \r\nL 66.890625 64.015625 \r\nL 48.09375 14.015625 \r\nL 38.1875 14.015625 \r\nL 19.390625 64.015625 \r\nL 19.390625 0 \r\nL 9.8125 0 \r\nz\r\n\" id=\"DejaVuSans-77\"/>\r\n       <path d=\"M 18.3125 70.21875 \r\nL 18.3125 54.6875 \r\nL 36.8125 54.6875 \r\nL 36.8125 47.703125 \r\nL 18.3125 47.703125 \r\nL 18.3125 18.015625 \r\nQ 18.3125 11.328125 20.140625 9.421875 \r\nQ 21.96875 7.515625 27.59375 7.515625 \r\nL 36.8125 7.515625 \r\nL 36.8125 0 \r\nL 27.59375 0 \r\nQ 17.1875 0 13.234375 3.875 \r\nQ 9.28125 7.765625 9.28125 18.015625 \r\nL 9.28125 47.703125 \r\nL 2.6875 47.703125 \r\nL 2.6875 54.6875 \r\nL 9.28125 54.6875 \r\nL 9.28125 70.21875 \r\nz\r\n\" id=\"DejaVuSans-116\"/>\r\n       <path d=\"M 48.78125 52.59375 \r\nL 48.78125 44.1875 \r\nQ 44.96875 46.296875 41.140625 47.34375 \r\nQ 37.3125 48.390625 33.40625 48.390625 \r\nQ 24.65625 48.390625 19.8125 42.84375 \r\nQ 14.984375 37.3125 14.984375 27.296875 \r\nQ 14.984375 17.28125 19.8125 11.734375 \r\nQ 24.65625 6.203125 33.40625 6.203125 \r\nQ 37.3125 6.203125 41.140625 7.25 \r\nQ 44.96875 8.296875 48.78125 10.40625 \r\nL 48.78125 2.09375 \r\nQ 45.015625 0.34375 40.984375 -0.53125 \r\nQ 36.96875 -1.421875 32.421875 -1.421875 \r\nQ 20.0625 -1.421875 12.78125 6.34375 \r\nQ 5.515625 14.109375 5.515625 27.296875 \r\nQ 5.515625 40.671875 12.859375 48.328125 \r\nQ 20.21875 56 33.015625 56 \r\nQ 37.15625 56 41.109375 55.140625 \r\nQ 45.0625 54.296875 48.78125 52.59375 \r\nz\r\n\" id=\"DejaVuSans-99\"/>\r\n      </defs>\r\n      <use xlink:href=\"#DejaVuSans-77\"/>\r\n      <use x=\"86.279297\" xlink:href=\"#DejaVuSans-101\"/>\r\n      <use x=\"147.802734\" xlink:href=\"#DejaVuSans-116\"/>\r\n      <use x=\"187.011719\" xlink:href=\"#DejaVuSans-114\"/>\r\n      <use x=\"228.125\" xlink:href=\"#DejaVuSans-105\"/>\r\n      <use x=\"255.908203\" xlink:href=\"#DejaVuSans-99\"/>\r\n     </g>\r\n    </g>\r\n   </g>\r\n   <g id=\"line2d_11\">\r\n    <path clip-path=\"url(#pa794db239a)\" d=\"M 43.78125 32.201761 \r\nL 378.58125 32.201761 \r\n\" style=\"fill:none;stroke:#ff0000;stroke-dasharray:7.4,3.2;stroke-dashoffset:0;stroke-width:2;\"/>\r\n   </g>\r\n   <g id=\"line2d_12\">\r\n    <path clip-path=\"url(#pa794db239a)\" d=\"M 58.999432 117.398154 \r\nL 135.090341 74.387381 \r\nL 211.18125 160.338273 \r\nL 287.272159 32.201761 \r\nL 363.363068 229.874489 \r\n\" style=\"fill:none;stroke:#ff9f00;stroke-linecap:square;\"/>\r\n    <defs>\r\n     <path d=\"M 0 3 \r\nC 0.795609 3 1.55874 2.683901 2.12132 2.12132 \r\nC 2.683901 1.55874 3 0.795609 3 0 \r\nC 3 -0.795609 2.683901 -1.55874 2.12132 -2.12132 \r\nC 1.55874 -2.683901 0.795609 -3 0 -3 \r\nC -0.795609 -3 -1.55874 -2.683901 -2.12132 -2.12132 \r\nC -2.683901 -1.55874 -3 -0.795609 -3 0 \r\nC -3 0.795609 -2.683901 1.55874 -2.12132 2.12132 \r\nC -1.55874 2.683901 -0.795609 3 0 3 \r\nz\r\n\" id=\"me21e8fce22\" style=\"stroke:#ff9f00;\"/>\r\n    </defs>\r\n    <g clip-path=\"url(#pa794db239a)\">\r\n     <use style=\"fill:#ff9f00;stroke:#ff9f00;\" x=\"58.999432\" xlink:href=\"#me21e8fce22\" y=\"117.398154\"/>\r\n     <use style=\"fill:#ff9f00;stroke:#ff9f00;\" x=\"135.090341\" xlink:href=\"#me21e8fce22\" y=\"74.387381\"/>\r\n     <use style=\"fill:#ff9f00;stroke:#ff9f00;\" x=\"211.18125\" xlink:href=\"#me21e8fce22\" y=\"160.338273\"/>\r\n     <use style=\"fill:#ff9f00;stroke:#ff9f00;\" x=\"287.272159\" xlink:href=\"#me21e8fce22\" y=\"32.201761\"/>\r\n     <use style=\"fill:#ff9f00;stroke:#ff9f00;\" x=\"363.363068\" xlink:href=\"#me21e8fce22\" y=\"229.874489\"/>\r\n    </g>\r\n   </g>\r\n   <g id=\"line2d_13\">\r\n    <path clip-path=\"url(#pa794db239a)\" d=\"M 287.272159 32.201761 \r\n\" style=\"fill:none;stroke:#ff0000;stroke-linecap:square;stroke-width:1.5;\"/>\r\n    <defs>\r\n     <path d=\"M 0 3 \r\nC 0.795609 3 1.55874 2.683901 2.12132 2.12132 \r\nC 2.683901 1.55874 3 0.795609 3 0 \r\nC 3 -0.795609 2.683901 -1.55874 2.12132 -2.12132 \r\nC 1.55874 -2.683901 0.795609 -3 0 -3 \r\nC -0.795609 -3 -1.55874 -2.683901 -2.12132 -2.12132 \r\nC -2.683901 -1.55874 -3 -0.795609 -3 0 \r\nC -3 0.795609 -2.683901 1.55874 -2.12132 2.12132 \r\nC -1.55874 2.683901 -0.795609 3 0 3 \r\nz\r\n\" id=\"m064cc1a719\" style=\"stroke:#ff0000;\"/>\r\n    </defs>\r\n    <g clip-path=\"url(#pa794db239a)\">\r\n     <use style=\"fill:#ff0000;stroke:#ff0000;\" x=\"287.272159\" xlink:href=\"#m064cc1a719\" y=\"32.201761\"/>\r\n    </g>\r\n   </g>\r\n   <g id=\"patch_3\">\r\n    <path d=\"M 43.78125 239.758125 \r\nL 43.78125 22.318125 \r\n\" style=\"fill:none;stroke:#000000;stroke-linecap:square;stroke-linejoin:miter;stroke-width:0.8;\"/>\r\n   </g>\r\n   <g id=\"patch_4\">\r\n    <path d=\"M 378.58125 239.758125 \r\nL 378.58125 22.318125 \r\n\" style=\"fill:none;stroke:#000000;stroke-linecap:square;stroke-linejoin:miter;stroke-width:0.8;\"/>\r\n   </g>\r\n   <g id=\"patch_5\">\r\n    <path d=\"M 43.78125 239.758125 \r\nL 378.58125 239.758125 \r\n\" style=\"fill:none;stroke:#000000;stroke-linecap:square;stroke-linejoin:miter;stroke-width:0.8;\"/>\r\n   </g>\r\n   <g id=\"patch_6\">\r\n    <path d=\"M 43.78125 22.318125 \r\nL 378.58125 22.318125 \r\n\" style=\"fill:none;stroke:#000000;stroke-linecap:square;stroke-linejoin:miter;stroke-width:0.8;\"/>\r\n   </g>\r\n   <g id=\"text_13\">\r\n    <!-- Metric History -->\r\n    <g transform=\"translate(169.275 16.318125)scale(0.12 -0.12)\">\r\n     <defs>\r\n      <path d=\"M 9.8125 72.90625 \r\nL 19.671875 72.90625 \r\nL 19.671875 43.015625 \r\nL 55.515625 43.015625 \r\nL 55.515625 72.90625 \r\nL 65.375 72.90625 \r\nL 65.375 0 \r\nL 55.515625 0 \r\nL 55.515625 34.71875 \r\nL 19.671875 34.71875 \r\nL 19.671875 0 \r\nL 9.8125 0 \r\nz\r\n\" id=\"DejaVuSans-72\"/>\r\n      <path d=\"M 44.28125 53.078125 \r\nL 44.28125 44.578125 \r\nQ 40.484375 46.53125 36.375 47.5 \r\nQ 32.28125 48.484375 27.875 48.484375 \r\nQ 21.1875 48.484375 17.84375 46.4375 \r\nQ 14.5 44.390625 14.5 40.28125 \r\nQ 14.5 37.15625 16.890625 35.375 \r\nQ 19.28125 33.59375 26.515625 31.984375 \r\nL 29.59375 31.296875 \r\nQ 39.15625 29.25 43.1875 25.515625 \r\nQ 47.21875 21.78125 47.21875 15.09375 \r\nQ 47.21875 7.46875 41.1875 3.015625 \r\nQ 35.15625 -1.421875 24.609375 -1.421875 \r\nQ 20.21875 -1.421875 15.453125 -0.5625 \r\nQ 10.6875 0.296875 5.421875 2 \r\nL 5.421875 11.28125 \r\nQ 10.40625 8.6875 15.234375 7.390625 \r\nQ 20.0625 6.109375 24.8125 6.109375 \r\nQ 31.15625 6.109375 34.5625 8.28125 \r\nQ 37.984375 10.453125 37.984375 14.40625 \r\nQ 37.984375 18.0625 35.515625 20.015625 \r\nQ 33.0625 21.96875 24.703125 23.78125 \r\nL 21.578125 24.515625 \r\nQ 13.234375 26.265625 9.515625 29.90625 \r\nQ 5.8125 33.546875 5.8125 39.890625 \r\nQ 5.8125 47.609375 11.28125 51.796875 \r\nQ 16.75 56 26.8125 56 \r\nQ 31.78125 56 36.171875 55.265625 \r\nQ 40.578125 54.546875 44.28125 53.078125 \r\nz\r\n\" id=\"DejaVuSans-115\"/>\r\n      <path d=\"M 30.609375 48.390625 \r\nQ 23.390625 48.390625 19.1875 42.75 \r\nQ 14.984375 37.109375 14.984375 27.296875 \r\nQ 14.984375 17.484375 19.15625 11.84375 \r\nQ 23.34375 6.203125 30.609375 6.203125 \r\nQ 37.796875 6.203125 41.984375 11.859375 \r\nQ 46.1875 17.53125 46.1875 27.296875 \r\nQ 46.1875 37.015625 41.984375 42.703125 \r\nQ 37.796875 48.390625 30.609375 48.390625 \r\nz\r\nM 30.609375 56 \r\nQ 42.328125 56 49.015625 48.375 \r\nQ 55.71875 40.765625 55.71875 27.296875 \r\nQ 55.71875 13.875 49.015625 6.21875 \r\nQ 42.328125 -1.421875 30.609375 -1.421875 \r\nQ 18.84375 -1.421875 12.171875 6.21875 \r\nQ 5.515625 13.875 5.515625 27.296875 \r\nQ 5.515625 40.765625 12.171875 48.375 \r\nQ 18.84375 56 30.609375 56 \r\nz\r\n\" id=\"DejaVuSans-111\"/>\r\n      <path d=\"M 32.171875 -5.078125 \r\nQ 28.375 -14.84375 24.75 -17.8125 \r\nQ 21.140625 -20.796875 15.09375 -20.796875 \r\nL 7.90625 -20.796875 \r\nL 7.90625 -13.28125 \r\nL 13.1875 -13.28125 \r\nQ 16.890625 -13.28125 18.9375 -11.515625 \r\nQ 21 -9.765625 23.484375 -3.21875 \r\nL 25.09375 0.875 \r\nL 2.984375 54.6875 \r\nL 12.5 54.6875 \r\nL 29.59375 11.921875 \r\nL 46.6875 54.6875 \r\nL 56.203125 54.6875 \r\nz\r\n\" id=\"DejaVuSans-121\"/>\r\n     </defs>\r\n     <use xlink:href=\"#DejaVuSans-77\"/>\r\n     <use x=\"86.279297\" xlink:href=\"#DejaVuSans-101\"/>\r\n     <use x=\"147.802734\" xlink:href=\"#DejaVuSans-116\"/>\r\n     <use x=\"187.011719\" xlink:href=\"#DejaVuSans-114\"/>\r\n     <use x=\"228.125\" xlink:href=\"#DejaVuSans-105\"/>\r\n     <use x=\"255.908203\" xlink:href=\"#DejaVuSans-99\"/>\r\n     <use x=\"310.888672\" xlink:href=\"#DejaVuSans-32\"/>\r\n     <use x=\"342.675781\" xlink:href=\"#DejaVuSans-72\"/>\r\n     <use x=\"417.871094\" xlink:href=\"#DejaVuSans-105\"/>\r\n     <use x=\"445.654297\" xlink:href=\"#DejaVuSans-115\"/>\r\n     <use x=\"497.753906\" xlink:href=\"#DejaVuSans-116\"/>\r\n     <use x=\"536.962891\" xlink:href=\"#DejaVuSans-111\"/>\r\n     <use x=\"598.144531\" xlink:href=\"#DejaVuSans-114\"/>\r\n     <use x=\"639.257812\" xlink:href=\"#DejaVuSans-121\"/>\r\n    </g>\r\n   </g>\r\n  </g>\r\n </g>\r\n <defs>\r\n  <clipPath id=\"pa794db239a\">\r\n   <rect height=\"217.44\" width=\"334.8\" x=\"43.78125\" y=\"22.318125\"/>\r\n  </clipPath>\r\n </defs>\r\n</svg>\r\n",
      "image/png": "[encoded data removed]"
     },
     "metadata": {
      "needs_background": "light"
     }
    },
    {
     "output_type": "stream",
     "name": "stdout",
     "text": [
      "100%|██████████| 5/5 [5:07:01<00:00, 3684.36s/trial, best loss: -0.8320011418783899]\n",
      "HPARAMETER SEARCH FINISHED.\n"
     ]
    }
   ],
   "source": [
    "delete_file('trials_sklearn')\n",
    "\n",
    "model = sklearn_model.SklearnModel1(minimize_metric = False)\n",
    "\n",
    "res = model.search(data, crf_params.search_space, crf_params.search_fixed, num_iter = 5)\n",
    "best_hparams = res['best_params']\n",
    "best_hparams.update(crf_params.search_fixed)"
   ]
  },
  {
   "cell_type": "code",
   "execution_count": 13,
   "metadata": {},
   "outputs": [
    {
     "output_type": "stream",
     "name": "stdout",
     "text": [
      "sklearn_model hparameters: {'algorithm': 'lbfgs', 'all_possible_states': True, 'all_possible_transitions': True, 'c1': 225.53458206188282, 'c2': 0.0035686049585393607, 'delta': 0.0017547519996294854, 'epsilon': 0.3450664281554772, 'linesearch': 'StrongBacktracking', 'max_linesearch': 21, 'min_freq': 4, 'num_memories': 10, 'period': 7}\n",
      "X_train generator repeat: 1\n",
      "X_train generator repeat: 2\n",
      "X_train generator repeat: 3\n",
      "X_train generator repeat: 4\n",
      "C:\\projects\\env\\lib\\site-packages\\numpy\\core\\_asarray.py:83: VisibleDeprecationWarning: Creating an ndarray from ragged nested sequences (which is a list-or-tuple of lists-or-tuples-or ndarrays with different lengths or shapes) is deprecated. If you meant to do this, you must specify 'dtype=object' when creating the ndarray\n",
      "  return array(a, dtype, copy=False, order=order)\n"
     ]
    },
    {
     "output_type": "execute_result",
     "data": {
      "text/plain": [
       "{'metric': 0.8306922733363109}"
      ]
     },
     "metadata": {},
     "execution_count": 13
    }
   ],
   "source": [
    "model = sklearn_model.SklearnModel1(minimize_metric = False, **best_hparams)\n",
    "res = model.fit(data)\n",
    "\n",
    "res"
   ]
  },
  {
   "cell_type": "code",
   "execution_count": 14,
   "metadata": {},
   "outputs": [],
   "source": [
    "model.save()"
   ]
  },
  {
   "cell_type": "code",
   "execution_count": 22,
   "metadata": {},
   "outputs": [],
   "source": [
    "def get_doc_text(doc_id):\n",
    "    doc = load_train_example_by_name(doc_id)\n",
    "    doc_tokens = preprocess_tokenize_doc(doc)\n",
    "    return ' '.join(doc_tokens)# TODO: unlazy"
   ]
  },
  {
   "cell_type": "code",
   "execution_count": 20,
   "metadata": {},
   "outputs": [],
   "source": [
    "test_preds = []\n",
    "ids = []\n",
    "for doc_id in val_idx[:5]:\n",
    "    \n",
    "    # Load and preprocess\n",
    "    doc = load_train_example_by_name(doc_id)\n",
    "    doc_tokens = preprocess_tokenize_doc(doc)\n",
    "\n",
    "    # Extract features\n",
    "    x = {'output': pd.DataFrame({'TOKEN': doc_tokens})}\n",
    "    x = feature_extractor.transform(x)\n",
    "\n",
    "    # Predict\n",
    "    pred = model.predict([x])\n",
    "    pred = pred[0]['output'][0]\n",
    "    pred = np.array([int(p) for p in pred])\n",
    "\n",
    "    # Token idx\n",
    "    pos_pred_idx = [i[0] for i in np.argwhere(pred == 1)]\n",
    "    pred_delimited = []\n",
    "    if len(pred > 0):\n",
    "        pred_prev = pos_pred_idx[0]\n",
    "        for p in pos_pred_idx:\n",
    "            if p - pred_prev > 3:\n",
    "                pred_delimited.append(-1)\n",
    "            \n",
    "            pred_delimited.append(p)\n",
    "            pred_prev = p\n",
    "\n",
    "    # Get corresponding tokens\n",
    "    pred_tokens = [('|' if i == -1 else doc_tokens[i]) for i in pred_delimited]\n",
    "    \n",
    "    pred_joined = ' '.join(pred_tokens)\n",
    "    pred_tokens = pred_joined.split(' | ')\n",
    "    preds_joined = list(set(pred_tokens))\n",
    "\n",
    "    preds_joined_cleaned = preds_joined#[]\n",
    "\n",
    "    \"\"\"for p in preds_joined:\n",
    "        label_similarities = [fuzz.ratio(l, p) for l in labels]\n",
    "        if max(label_similarities) >= 70:\n",
    "            preds_joined_cleaned.append(labels[np.argmax(label_similarities)])\"\"\"\n",
    "        \n",
    "    # 2 options: remove if not similar to any label, or keep without modification\n",
    "\n",
    "    preds_joined_cleaned = list(set(preds_joined_cleaned))\n",
    "    test_preds.append('|'.join(preds_joined_cleaned))\n",
    "    ids.append(doc_id)\n",
    "\n",
    "sub_df = pd.DataFrame(columns = ['Id', 'PredictionString'])\n",
    "sub_df['Id'] = ids\n",
    "sub_df['PredictionString'] = test_preds"
   ]
  },
  {
   "cell_type": "code",
   "execution_count": 31,
   "metadata": {},
   "outputs": [
    {
     "output_type": "execute_result",
     "data": {
      "text/plain": [
       "                                     Id  \\\n",
       "0  7a9fcb80-85b1-47bb-a3a5-4069c69b4068   \n",
       "1  d6bce360-e056-42ba-9b18-e687407f1661   \n",
       "2  09f36a02-f4d1-4fb3-840c-5c7a2285b17c   \n",
       "3  9e08d7d3-8f8c-4b0a-9445-f9cfba0813b7   \n",
       "4  e657b6c3-e32c-4daf-a092-3de500980f37   \n",
       "\n",
       "                                                                                                                          PredictionString  \n",
       "0                                                                                                                                     adni  \n",
       "1                                                                                                       early childhood longitudinal study  \n",
       "2                                                                                               blsa baltimore longitudinal study of aging  \n",
       "3  kansas farm management association|agricultural resource management survey|agricultural resource management survey arms data for survey  \n",
       "4                                                                                                                                     adni  "
      ],
      "text/html": "<div>\n<style scoped>\n    .dataframe tbody tr th:only-of-type {\n        vertical-align: middle;\n    }\n\n    .dataframe tbody tr th {\n        vertical-align: top;\n    }\n\n    .dataframe thead th {\n        text-align: right;\n    }\n</style>\n<table border=\"1\" class=\"dataframe\">\n  <thead>\n    <tr style=\"text-align: right;\">\n      <th></th>\n      <th>Id</th>\n      <th>PredictionString</th>\n    </tr>\n  </thead>\n  <tbody>\n    <tr>\n      <th>0</th>\n      <td>7a9fcb80-85b1-47bb-a3a5-4069c69b4068</td>\n      <td>adni</td>\n    </tr>\n    <tr>\n      <th>1</th>\n      <td>d6bce360-e056-42ba-9b18-e687407f1661</td>\n      <td>early childhood longitudinal study</td>\n    </tr>\n    <tr>\n      <th>2</th>\n      <td>09f36a02-f4d1-4fb3-840c-5c7a2285b17c</td>\n      <td>blsa baltimore longitudinal study of aging</td>\n    </tr>\n    <tr>\n      <th>3</th>\n      <td>9e08d7d3-8f8c-4b0a-9445-f9cfba0813b7</td>\n      <td>kansas farm management association|agricultural resource management survey|agricultural resource management survey arms data for survey</td>\n    </tr>\n    <tr>\n      <th>4</th>\n      <td>e657b6c3-e32c-4daf-a092-3de500980f37</td>\n      <td>adni</td>\n    </tr>\n  </tbody>\n</table>\n</div>"
     },
     "metadata": {},
     "execution_count": 31
    }
   ],
   "source": [
    "pd.options.display.max_rows = 25\n",
    "pd.options.display.max_colwidth = 150\n",
    "sub_df"
   ]
  },
  {
   "cell_type": "code",
   "execution_count": 40,
   "metadata": {},
   "outputs": [
    {
     "output_type": "execute_result",
     "data": {
      "text/plain": [
       "'ised in accordance with criteria used in the japanese alzheimer s disease neuroimaging initiative j adni project 29 30 where mci was defined as amnestic mci as originally presented by petersen et al 31 me'"
      ]
     },
     "metadata": {},
     "execution_count": 40
    }
   ],
   "source": [
    "str_find = 'adni'\n",
    "doc_id = '\t9e08d7d3-8f8c-4b0a-9445-f9cfba0813b7\t'.strip()\n",
    "text = get_doc_text(doc_id)\n",
    "\n",
    "str_i = text.index(str_find)\n",
    "text[str_i - 100:str_i + 100 + len(str_find)]"
   ]
  },
  {
   "cell_type": "code",
   "execution_count": 41,
   "metadata": {},
   "outputs": [
    {
     "output_type": "execute_result",
     "data": {
      "text/plain": [
       "'a third of dementia cases could be attributable to modifiable risk factors midlife high density lipoprotein cholesterol hdl c is a measure which could help identify individuals at reduced risk of deve'"
      ]
     },
     "metadata": {},
     "execution_count": 41
    }
   ],
   "source": [
    "text[:200]"
   ]
  },
  {
   "cell_type": "code",
   "execution_count": 45,
   "metadata": {},
   "outputs": [
    {
     "output_type": "execute_result",
     "data": {
      "text/plain": [
       "ed with dementia at the time of screening, leaving 1114 participants of which 651 participants had complete information on all variables. For the purpose of dementia analyses, 386 persons with confirmed MCI were excluded, thereby leaving 781 participants for analyses of which 455 participants had complete information on all variables.\\nSurveys of JPHC study participants were conducted on three occasions and included detailed questionnaires with information on socioeconomic and lifestyle factors. The present study used information from the baseline (1990) and 5-year follow-up survey (1995).\\nAll participants provided written informed consent to take part in the mental health screening in 2014-2015, and the study has been approved by the Institutional Review Board of the National Cancer Center (approval number: 2013-096).'},\n",
       " {'section_title': 'Serum lipids',\n",
       "  'text': \"The details on obtaining participants' lipids have been previously described. 21 In brief, information was available for non-fasting total cholesterol (TC) and HDL-C, with TC measured using an enzymatic method. Fasting status at time of HDL-C measurement does not impact HDL-C results. 22 Data on HDL-C was collected around the time of the 5-year follow-up survey for 703 and 493 of the 1167 participants eligible for MCI and dementia analyses, respectively. The mean age of study participants when collecting HDL-C data was 54.4 years (SD: 5.5 years) for MCI analyses, and 54.1 years (SD: 5.6 years) for dementia analyses. Triglycerides (TG) were available for 699 (MCI) and 490 (dementia) participants. Low-density lipoprotein cholesterol (LDL-C) was calculated for 689 (MCI) and 482 (dementia) participants using the Friedewald formula [TC-HDL-(TG/5)], excluding individuals with triglycerides (TG) > 4.52 mmol/l.\\nThe HDL-C levels of complete cases were categorised into analyses-specific quartiles.\"},\n",
       " {'section_title': 'Mild cognitive impairment and dementia',\n",
       "  'text': \"Cognitive function was assessed by experienced neuropsychologists using the Mini-Mental State Examination (MMSE), 23 the Wechsler Memory Scale Revised (WMS-R) logical memory I/II subtest, 24 the clock drawing test, 25 and the Clinical Dementia Rating (CDR) Scale. 26 Depressive symptoms were assessed using the Center for Epidemiologic Studies Depression Scale (CES-D), 27 and the Patient Health Questionnaire-9 (PHQ-9). 28 Participants' cognitive function was subsequently categorised in accordance with criteria used in the Japanese Alzheimer's Disease Neuroimaging Initiative (J-ADNI) project 29, 30 where MCI was defined as amnestic MCI as originally presented by Petersen et al. 31 Memory impairment was assessed based on an education-adjusted score below the cut-off level on the WMS-R Logical Memory II test (education for 0-9 years was 2, for 10-15 years was 4, and for >15 years was 8). The MMSE cut-off point for dementia was set at 23. A trained psychiatrist combined the neuropsychological assessment with a clinical interview to determine the final diagnosis in accordance with the Diagnostic and Statistical Manual of Mental Disorders, 4th. Edition Text Revision (DSM-IV-TR) criteria. 32 \"},\n",
       " {'section_title': 'Statistical analyses',\n",
       "  'text': \"Differences in baseline characteristics between HDL-C quartiles, as well as between participants with complete and missing data, were determined using the Chi-square test for categorical variables, analysis of variance (ANOVA) for age, BMI and LDL-C, and Welch's ANOVA for TG. The Pearson correlation coefficient was used to determine correlation between potential auxiliary variables in multiple imputation and missing status for the main exposure (HDL-C).\\nLogistic regression models were used to determine odds ratios (OR) and 95% confidence intervals (CI) for the association between HDL-C and MCI and dementia, respectively. Model 1 was adjusted for age (continuous) at the time of mental health screening, sex, and education (junior high school, high school, or college/vocational school/other). Model 2 was additionally adjusted for alcohol consumption (<150 or ≥150 g ethanol per week), smoking status (non-smoker, past smoker, or current smoker), and body mass index (BMI) (continuous in kg/ m 2 ) from measures obtained at the health check-up. Model 3 was further adjusted for hypertension (systolic blood pressure ≥140 mmHg or diastolic blood pressure ≥90 mmHg using health check-up data), self-reported history of diabetes mellitus (yes/no), use of cholesterol lowering medication (yes/no), LDL-C (continuous), and TG (continuous).\\nStatistical analyses were performed using Stata (Stata version 14.0 SE, StataCorp LP, College Station, TX, USA). P-values were two-tailed and considered significant if p < 0.05.\"},\n",
       " {'section_title': 'Post-hoc analyses',\n",
       "  'text': 'For dementia analysis, HDL-C quartiles 2-4 contained only a small number of cases, and the results for the association between HDL-C and dementia revealed comparable effect sizes for HDL-C quartiles 2-4 compared to the referent quartile 1. Consequently, quartiles 2-4 were collapsed thereby allowing for a dichotomous HDL-C variable used only in dementia analysis.\\nThe small number of available cases in each of HDL-C quartiles 2-4 (Q2: n = 4; Q3: n = 3; and Q4: n = 7), and the comparable effect sizes (Q2: OR = 0.34; Q3: OR = 0.38; Q4: OR = 0.40) allowed for the collapse of the quartiles. Results of complete-case analyses on the binary HDL-C variable are reported in eTable 4. Multivariable adjusted analyses using multiple imputations showed a significantly reduced risk of dementia for those with high HDL-C (quartiles 2-4) compared to those with low HDL-C (quartile 1) (OR = 0.37, 95% CI, 0.16-0.88) ( Table 5 ).'},\n",
       " {'section_title': 'Missing data',\n",
       "  'text': 'Data was missing for 41.6% and 41.7% of the participants in MCI and dementia analyses, respectively. eTable 1 shows differences in baseline characteristics between those with complete data and those with missing data for at least one of the variables in the final regression model. Differences between those with complete vs. missing data indicate that data was not missing completely at random. Under the assumption that data was missing at random, each missing value was imputed 100 times (m = 100) by multiple imputations using chained equations. Data was imputed separately for each outcome (MCI and dementia), and the imputation models included all covariates used in the final multivariable logistic regression model, as well as the respective outcomes. The continuous variables BMI, HDL-C, LDL-C, and TG were all transformed prior to imputation (log-transformation for BMI and HDL-C, square root transformation for LDL-C and TG), and backtransformed after imputation. One participant had an improbable TG level of \"0\" which was replaced as \"missing\" for subsequent imputation. No interactions were considered in the imputation models.\\nFailure to attend health check-up or health screening could be considered predictive of missing cholesterol levels. As such, variables representing attendance/nonattendance to health check-up examinations or screenings (i.e., monitoring blood pressure, blood tests, ECG, fundoscopy, chest X-ray, sputum cytology, photofluorography, upper gastro-intestinal endoscopy, faecal occult blood test, barium enema, colonoscopy, and for women also mammogram or the Papanicolaou smear) were checked for consideration as possible auxiliary variables. Each of these variables correlated weakly (<0.33) with missing HDL-C status, and were therefore not included as auxiliary variables in the imputation models.'},\n",
       " {'section_title': 'Role of the funding source',\n",
       "  'text': 'The sponsors had no role in study design; in the collection, analysis, and interpretation of data; in the writing of the report; or in the decision to submit the paper for publication.'},\n",
       " {'section_title': 'Availability of data, materials, and code',\n",
       "  'text': 'We cannot publicly provide individual data due to participant privacy, according to ethical guidelines in Japan. Additionally, the informed consent we obtained does not include a provision for publicly sharing data. Qualifying researchers may apply to access a minimal dataset by contacting Dr. Shoichiro Tsugane, Principal Investigator, Epidemiology and Prevention group, Center for Public Health Sciences, National Cancer Center, Tokyo, Japan, at stsugane@ncc.go.jp. Alternatively, please contact the Office of the JPHC Study Group at jphcadmin@ml.res.ncc.go.jp or stsugane@ncc.go.jp.'},\n",
       " {'section_title': 'Results', 'text': ''},\n",
       " {'section_title': 'Mild cognitive impairment',\n",
       "  'text': 'Compared to individuals included in complete case analysis, those with missing data for at least one of the variables included in the final models for MCI analyses were younger, more likely to be men, have higher education, more likely to be smokers, have higher mean TG levels and lower mean HDL-C levels (eTable 1). The variables with the highest prevalence of missing data (36.9%-38.3%) were related to the health check-up. The mean HDL-C level for participants in MCI analyses was 1.54 mmol/l (SD: 0.40 mmol/l). The mean age at the time of measuring cholesterol was 54.4 years (SD: 5.5 years) and the mean age at the time of the mental health screening was 73.5 years (SD: 5.6 years). At the mental health screening, 386 participants were diagnosed with MCI, of which 225 were complete cases.\\nBaseline characteristics for complete cases according to HDL-C quartile show that those in the highest quartile were less likely to be men, less likely to be smokers, had lower mean BMI, and lower mean TG and LDL-C levels ( Table 1) .\\nResults of complete-case analyses are reported in eTable 2. Following imputation of missing values, the highest HDL-C quartile was significantly inversely associated with MCI compared to the lowest HDL-C quartile (OR = 0.47, 95% CI, 0.28-0.79) ( Table 2 ). This association and the significant trend of decreasing ORs with each increasing HDL-C quartile persisted with only minimal attenuation in all three statistical models.'},\n",
       " {'section_title': 'Dementia',\n",
       "  'text': 'Compared to individuals included in complete case analysis, those with missing data for at least one of the variables included in the final models for dementia analyses were younger, more likely to be men, more likely to be smokers, have higher mean BMI, higher mean TG levels and lower mean HDL-C levels (eTable 1). The variables with the highest prevalence of missing data (36.9%-38.3%) were related to the health check-up. The mean HDL-C level for participants in dementia analyses was 1.58 mmol/l (SD: 0.44 mmol/l). The mean age at the time of measuring cholesterol was 54.1 years (SD: 5.6 years) and the mean age at the time of the mental Baseline characteristics for complete cases according to HDL-C quartile show that those in the highest quartile were less likely to be men, likely to consume more alcohol, less likely to be smokers, had lower mean BMI, and lower mean TG and LDL-C levels ( Table 3) .\\nResults of complete-case analyses are reported in eTable 3. Following imputation of missing values, the multivariable analysis showed no significant association with dementia for any of the HDL-C quartiles compared to the lowest the HDL-C quartile (Table 4 ). There was no significant trend for the association between HDL-C and dementia.'},\n",
       " {'section_title': 'Discussion',\n",
       "  'text': 'This study shows that HDL-C concentrations at midlife are associated with cognitive function assessed 19 years later. Compared to individuals with very low levels of midlife HDL-C, 1) those in the highest HDL-C quartile at midlife have less than half the risk of MCI in late life, and 2) those with higher HDL-C levels (quartiles 2-4) at midlife have a significantly lower risk of dementia in late life. These findings are comparable to previous studies investigating the association between HDL-C and MCI, 5 and dementia, 4, 6 respectively. There are, however, a number of studies which have failed to find any association between HDL-C and cognitive function, [7] [8] [9] [10] MCI, 11, 12 or dementia. [13] [14] [15] [16] [17] [18] One possible explanation for our significant associations is the timing of HDL-C measure in relation to the assessment of cognitive function. The 19 years between HDL-C measure and assessment of cognitive function in our study is a major difference compared to available research which has almost exclusively investigated the association between late-life HDL-C and late-life cognitive outcomes. [4] [5] [6] [7] [8] [9] [10] [11] [12] [13] [14] [15] [16] [17] Cholesterol levels decline prior to development of dementia, 19 and may introduce bias to studies with concomitant late-life assessment of both HDL-C and cognitive function. It is important to consider early or midlife HDL-C measures given that the effect of lipids on cognition is most important before the age of 65, 33 and that midlife lipid measurement can result in early lifestyle interventions in order to effectively delay the onset of dementia. 34 In the present study only 13 individuals were above the age of 65 at the time of measuring HDL-C levels. Conversely, at the time of the mental health screening after 19 years of follow-up, only 13 individuals were younger than 65 years of age. The risk of bias due to age distribution in the present study can therefore be considered low.\\nThe notable result of the present study is that midlife HDL-C is associated with both late-life MCI and late-life dementia. This strengthens the association between high midlife HDL-C levels and preserved cognitive function, but also makes a distinction of what constitutes low-risk midlife HDL-C levels for MCI and dementia, respectively. Table 2 The association between midlife serum high-density lipoprotein cholesterol (HDL-C) levels and mild cognitive impairment (MCI) by multiple imputations using chained equations (n = 1114, m = 100) Whereas there was a significant linear trend with reduced risk of MCI with each increasing HDL-C quartile, the results for dementia indicate a marked reduction in the risk of dementia already from HDL-C quartile 2, with stable effect sizes throughout HDL-C quartiles 2-4. This suggests a possible threshold effect of midlife HDL-C on late-life dementia and emphasises that interventions and behavioural modifications which increase HDL-C, e.g., physical activity, moderate alcohol consumption, and smoking cessation 35 are, for dementia purposes, of particular importance among those with the very lowest midlife HDL-C levels. Moreover, our finding of a linear trend between HDL-C and MCI contrasted with the threshold effect for dementia indicates that MCI shares some, but not all, of the HDL-C related risk associated with dementia. This finding is in accordance with the suggestion that MCI is a heterogeneous diagnosis, 36 and may help explain why not all cases of MCI progress to dementia. 37 Future studies are therefore encouraged to investigate the effect of midlife HDL-C on the progression from MCI to dementia.\\nOne important consideration is whether low midlife HDL-C is a marker specific for late-life cognitive impairment, or whether it indicates an overall increase of lifestyle-related midlife cardiovascular risk factors with a subsequently increased risk of late-life cognitive impairment. Our analyses indeed suggest that low midlife HDL-C is a marker of cognitive decline independent from other known and important midlife cardiovascular risk factors such as smoking, overweight/obesity, hypertension, diabetes mellitus, LDL-C and TG. The biological mechanisms of such a protective effect of high HDL-C on both MCI and dementia, lie beyond the scope of the present study. In brief, the found associations could be due to: (1) genetic variants, e.g., I405V Cholesteryl ester transfer protein (CETP) which is associated with improved cognitive function, as well as higher HDL-C levels in the elderly, 3 (2) vascular changes given that HDL-C is inversely associated with lacunar infarction independently of other CVD risk factors, 38 and (3) interactions between HDL-C apolipoproteins and amyloid beta protein, a hallmark peptide of AD. 39 Apolipoproteins promote the degradation of amyloid beta protein, 40 as well as prevent its aggregation into amyloid. 41 The use of cholesterol lowering medication could be considered a potential source of confounding in any study investigating the association between HDL-C and MCI and dementia. In the present study, only 3.1% and 1.5% of participants for MCI and dementia analyses, respectively, reported the use of cholesterol lowering medication at the time of HDL-C measurement. This could be considered a relatively small proportion, however, a recent metaanalysis of prospective studies found that the use of statins is associated with a reduced risk of all-cause dementia and MCI. 42 Consequently, we adjusted for the use of cholesterol lowering medication in Model 3 of the complete case analyses, as well as following multiple imputations for both MCI and dementia outcomes.\\nThere are a few limitations to this study. The long follow-up period has resulted in missing data due to death, as well as non-response to the original questionnaire and the mental health screening. Additionally, the proportion of missing values for HDL-C was approximately 40%. In 1995, HDL-C was not an obligatory measure during health check-ups in Japan, and the decision to measure HDL-C levels was decided by municipal policy or by health check-up physicians. This could possibly have resulted in a bias of the participants in the present study. However, instead of relying on complete case analyses, a potential source of biased estimates unless data is missing completely at random, we addressed the issue of missing data using multiple imputations. Overall, these results corresponded very well with those Table 4 The association between midlife serum high-density lipoprotein cholesterol (HDL-C) levels and dementia by multiple imputations using chained equations (n = 781, m = 100) Table 5 The association between midlife serum highdensity lipoprotein cholesterol (HDL-C) levels (Quartile 1 vs. Quartiles 2-4) and dementia by multiple imputations using chained equations (n = 781, m = 100) obtained from complete-case analyses. Second, HDL-C levels were measured at only one point in time. Although HDL-C may change over time owing to lifestyle decisions or illness, it would not impact the main aim of this study which was to focus on midlife HDL-C levels. Third, cognitive function was not assessed at baseline However, given the average time of 19 years between HDL-C measure and the mental health screening in 2014-2015, it is highly probable that the majority of participants would have had a normal cognitive function in 1995. Fourth, this study did not allow for the differentiation of the type of dementia. Finally, the study population resided in a rural area of Japan and may therefore not be representative of urban populations. Despite these limitations, the study has a number of important strengths: This is a prospective study, in which the timing of HDL-C measure and the assessment of cognitive function were separated by approximately 19 years, thereby minimising any chance of reverse causation bias. Second, the detailed lifestyle questionnaire of the JPHC Study allows us to consider many important confounding factors for the found associations. Third, we have used multiple imputations to account for missing data and found robust associations between the exposure and the respective outcomes. Finally, MCI and dementia were classified by a trained psychiatrist in accordance with DSM-IV criteria.'},\n",
       " {'section_title': 'Conclusion',\n",
       "  'text': 'This study has found that high HDL-C levels in midlife are inversely associated with both late-life MCI and dementia. Midlife HDL-C thus has the potential to be used as a marker of late-life cognitive impairment.'}]"
      ]
     },
     "metadata": {},
     "execution_count": 45
    }
   ],
   "source": [
    "load_train_example_by_name('e657b6c3-e32c-4daf-a092-3de500980f37'.strip())"
   ]
  },
  {
   "cell_type": "code",
   "execution_count": null,
   "metadata": {},
   "outputs": [],
   "source": []
  }
 ]
}