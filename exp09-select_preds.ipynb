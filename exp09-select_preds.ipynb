{
 "cells": [
  {
   "cell_type": "code",
   "execution_count": 1,
   "id": "independent-hostel",
   "metadata": {},
   "outputs": [],
   "source": [
    "import pandas as pd\n",
    "\n",
    "df = pd.read_csv('data/all_preds.csv')\n",
    "df = df.loc[df['count'] > 3]\n",
    "df = df.pred"
   ]
  },
  {
   "cell_type": "code",
   "execution_count": 9,
   "id": "opening-plate",
   "metadata": {},
   "outputs": [],
   "source": [
    "df.to_csv('data/all_preds_selected.csv', index = False, header = False)"
   ]
  },
  {
   "cell_type": "code",
   "execution_count": 10,
   "id": "obvious-fundamentals",
   "metadata": {},
   "outputs": [
    {
     "data": {
      "text/plain": [
       "0       alzheimer s disease neuroimaging initiative adni\n",
       "1      trends in international mathematics and scienc...\n",
       "2                                                   adni\n",
       "3                                                    mci\n",
       "4                  baltimore longitudinal study of aging\n",
       "                             ...                        \n",
       "617                                       era reanalysis\n",
       "618                                                 ndar\n",
       "619                                                 gfdl\n",
       "620                                              medline\n",
       "621                                                 ncdb\n",
       "Name: pred, Length: 622, dtype: object"
      ]
     },
     "execution_count": 10,
     "metadata": {},
     "output_type": "execute_result"
    }
   ],
   "source": [
    "df"
   ]
  },
  {
   "cell_type": "code",
   "execution_count": null,
   "id": "thirty-foster",
   "metadata": {},
   "outputs": [],
   "source": []
  }
 ],
 "metadata": {
  "kernelspec": {
   "display_name": "Python 3",
   "language": "python",
   "name": "python3"
  },
  "language_info": {
   "codemirror_mode": {
    "name": "ipython",
    "version": 3
   },
   "file_extension": ".py",
   "mimetype": "text/x-python",
   "name": "python",
   "nbconvert_exporter": "python",
   "pygments_lexer": "ipython3",
   "version": "3.8.8"
  }
 },
 "nbformat": 4,
 "nbformat_minor": 5
}
